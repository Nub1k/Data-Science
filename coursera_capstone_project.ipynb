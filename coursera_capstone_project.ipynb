{
  "nbformat": 4,
  "nbformat_minor": 0,
  "metadata": {
    "colab": {
      "name": "coursera_capstone_project.ipynb",
      "provenance": []
    },
    "kernelspec": {
      "name": "python3",
      "display_name": "Python 3"
    }
  },
  "cells": [
    {
      "cell_type": "code",
      "metadata": {
        "id": "ksONZ2uSa8S3"
      },
      "source": [
        "import json\n",
        "import numpy as np\n",
        "import pandas as pd\n",
        "import requests\n",
        "from geopy.geocoders import Nominatim\n",
        "import matplotlib.pyplot as plt\n",
        "plt.style.use('fivethirtyeight')\n",
        "\n",
        "URL = 'https://api.foursquare.com/v2'\n",
        "CLIENT_ID = 'KZTFEZ202SFTOBQJWMKP1I1PGLNIXCZXEKAFFKWV2UG1OMGQ'\n",
        "CLIENT_SECRET = 'TAIJYPELLZ55MNTBEKTWJD4PZCH3TXXHDKKHDJR3R0CSMIKG' \n",
        "VERSION = '20180604'\n",
        "\n",
        "\n",
        "def get_latlon(address):\n",
        "    geolocator = Nominatim(user_agent=\"foursquare_agent\")\n",
        "    location = geolocator.geocode(address)\n",
        "    return f'{location.latitude},{location.longitude}'\n",
        "\n",
        "\n",
        "def get_details(venue_id):\n",
        "    url = f'{URL}/venues/{venue_id}'\n",
        "    params = dict(\n",
        "        client_id=CLIENT_ID,\n",
        "        client_secret=CLIENT_SECRET,\n",
        "        v=VERSION,\n",
        "    )\n",
        "    resp = requests.get(url=url, params=params)\n",
        "    print(resp)\n",
        "    data = json.loads(resp.text)\n",
        "    return data\n",
        "\n",
        "\n",
        "def get_primary_category(categories):\n",
        "    primary_categories = list(c['name'] for c in categories if c['primary'])\n",
        "    return primary_categories[0] if primary_categories else None\n",
        "\n",
        "\n",
        "def process(data):\n",
        "    df = pd.io.json.json_normalize(data['response']['venues'])\n",
        "    df['category'] = df['categories'].apply(lambda x: get_primary_category(x))\n",
        "    # for i, row in df.iterrows():\n",
        "    #     details = dict(get_details(row['id'])['response']['venue'])\n",
        "    #     df.loc[df['id'] == row['id'], 'rating'] = details.get('rating')\n",
        "    #     df.loc[df['id'] == row['id'], 'likes'] = details['likes']['count']\n",
        "    # mask = (df['likes'] > 0) & (~df['rating'].isnull())\n",
        "    cols = ['id', 'name', 'category', 'location.address', 'location.distance', 'location.lat', 'location.lng',]\n",
        "    return df[cols]\n",
        "    return df\n",
        "\n",
        "\n",
        "def search(query, address, limit=2, radius=3000):\n",
        "    url = f'{URL}/venues/search'\n",
        "    params = dict(\n",
        "        client_id=CLIENT_ID,\n",
        "        client_secret=CLIENT_SECRET,\n",
        "        v=VERSION,\n",
        "        ll=get_latlon(address),\n",
        "        query=query,\n",
        "        limit=limit,\n",
        "        radius=radius\n",
        "    )\n",
        "    resp = requests.get(url=url, params=params)\n",
        "    data = json.loads(resp.text)\n",
        "    return process(data)"
      ],
      "execution_count": null,
      "outputs": []
    },
    {
      "cell_type": "code",
      "metadata": {
        "id": "sqFEQJaxeISM"
      },
      "source": [
        "limit = 100\n",
        "df_burgers = search('Burger', 'E14 9BP, London, UK', limit=limit)\n",
        "df_sushi = search('Sushi', 'E14 9BP, London, UK', limit=limit)\n",
        "df_pizza = search('Pizza', 'E14 9BP, London, UK', limit=limit)\n",
        "df_breakfast = search('breakfast', 'E14 9BP, London, UK', limit=limit)\n",
        "df_sandwich = search('Sandwich', 'E14 9BP, London, UK', limit=limit)\n"
      ],
      "execution_count": null,
      "outputs": []
    },
    {
      "cell_type": "code",
      "metadata": {
        "id": "JrRTZrLYFner",
        "colab": {
          "base_uri": "https://localhost:8080/",
          "height": 419
        },
        "outputId": "f840a85a-bbe1-4c9e-9c77-bd89bcf2d2ff"
      },
      "source": [
        "Food = pd.concat([df_burgers, df_sushi, df_pizza, df_breakfast, df_sandwich], ignore_index=True)\n",
        "Food"
      ],
      "execution_count": null,
      "outputs": [
        {
          "output_type": "execute_result",
          "data": {
            "text/html": [
              "<div>\n",
              "<style scoped>\n",
              "    .dataframe tbody tr th:only-of-type {\n",
              "        vertical-align: middle;\n",
              "    }\n",
              "\n",
              "    .dataframe tbody tr th {\n",
              "        vertical-align: top;\n",
              "    }\n",
              "\n",
              "    .dataframe thead th {\n",
              "        text-align: right;\n",
              "    }\n",
              "</style>\n",
              "<table border=\"1\" class=\"dataframe\">\n",
              "  <thead>\n",
              "    <tr style=\"text-align: right;\">\n",
              "      <th></th>\n",
              "      <th>id</th>\n",
              "      <th>name</th>\n",
              "      <th>category</th>\n",
              "      <th>location.address</th>\n",
              "      <th>location.distance</th>\n",
              "      <th>location.lat</th>\n",
              "      <th>location.lng</th>\n",
              "    </tr>\n",
              "  </thead>\n",
              "  <tbody>\n",
              "    <tr>\n",
              "      <th>0</th>\n",
              "      <td>5cadee50f8cbd4002c354481</td>\n",
              "      <td>Beer + Burger</td>\n",
              "      <td>Beer Bar</td>\n",
              "      <td>The O2</td>\n",
              "      <td>1749</td>\n",
              "      <td>51.500940</td>\n",
              "      <td>0.005363</td>\n",
              "    </tr>\n",
              "    <tr>\n",
              "      <th>1</th>\n",
              "      <td>4bc3002c920eb71384cf1c2c</td>\n",
              "      <td>Burger King</td>\n",
              "      <td>Fast Food Restaurant</td>\n",
              "      <td>Food Court Surrey Quays Centre</td>\n",
              "      <td>1949</td>\n",
              "      <td>51.495479</td>\n",
              "      <td>-0.047284</td>\n",
              "    </tr>\n",
              "    <tr>\n",
              "      <th>2</th>\n",
              "      <td>4c90d1b5b641236af50e7c79</td>\n",
              "      <td>Gourmet Burger Kitchen</td>\n",
              "      <td>Burger Joint</td>\n",
              "      <td>Unit 22, The O2, Peninsula Square</td>\n",
              "      <td>1655</td>\n",
              "      <td>51.502963</td>\n",
              "      <td>0.003259</td>\n",
              "    </tr>\n",
              "    <tr>\n",
              "      <th>3</th>\n",
              "      <td>4bc9e939b6c49c74423a8f91</td>\n",
              "      <td>Gourmet Burger Kitchen</td>\n",
              "      <td>Burger Joint</td>\n",
              "      <td>45 Greenwich Church Street, Greenwich</td>\n",
              "      <td>2010</td>\n",
              "      <td>51.481631</td>\n",
              "      <td>-0.010284</td>\n",
              "    </tr>\n",
              "    <tr>\n",
              "      <th>4</th>\n",
              "      <td>57508ede498efe9da7ad7c38</td>\n",
              "      <td>Burger &amp; Lobster</td>\n",
              "      <td>Burger Joint</td>\n",
              "      <td>18 Hertsmere Rd</td>\n",
              "      <td>972</td>\n",
              "      <td>51.507288</td>\n",
              "      <td>-0.022376</td>\n",
              "    </tr>\n",
              "    <tr>\n",
              "      <th>...</th>\n",
              "      <td>...</td>\n",
              "      <td>...</td>\n",
              "      <td>...</td>\n",
              "      <td>...</td>\n",
              "      <td>...</td>\n",
              "      <td>...</td>\n",
              "      <td>...</td>\n",
              "    </tr>\n",
              "    <tr>\n",
              "      <th>112</th>\n",
              "      <td>4e9428b761afe52cf38d5f0a</td>\n",
              "      <td>Birleys Sandwiches Baguette Kiosk</td>\n",
              "      <td>Sandwich Place</td>\n",
              "      <td>Canada Square</td>\n",
              "      <td>682</td>\n",
              "      <td>51.504797</td>\n",
              "      <td>-0.018316</td>\n",
              "    </tr>\n",
              "    <tr>\n",
              "      <th>113</th>\n",
              "      <td>4fc54757e4b0662a32a4b526</td>\n",
              "      <td>Brunches Sandwich Bar &amp; Deli</td>\n",
              "      <td>None</td>\n",
              "      <td>NaN</td>\n",
              "      <td>3361</td>\n",
              "      <td>51.523254</td>\n",
              "      <td>-0.047931</td>\n",
              "    </tr>\n",
              "    <tr>\n",
              "      <th>114</th>\n",
              "      <td>4d5535d09e508cfae0e5fc9a</td>\n",
              "      <td>Peckish Sandwich Bar</td>\n",
              "      <td>Sandwich Place</td>\n",
              "      <td>315 Whitechapel Rd</td>\n",
              "      <td>3562</td>\n",
              "      <td>51.519626</td>\n",
              "      <td>-0.058579</td>\n",
              "    </tr>\n",
              "    <tr>\n",
              "      <th>115</th>\n",
              "      <td>4e87a601be7b5a660d6c770f</td>\n",
              "      <td>Cafe Fresh Sandwich Bar</td>\n",
              "      <td>None</td>\n",
              "      <td>Globe Road</td>\n",
              "      <td>3849</td>\n",
              "      <td>51.514847</td>\n",
              "      <td>-0.068783</td>\n",
              "    </tr>\n",
              "    <tr>\n",
              "      <th>116</th>\n",
              "      <td>4f1fd2a7e4b01d27e7bb8d4f</td>\n",
              "      <td>Greencore Sandwiches</td>\n",
              "      <td>Factory</td>\n",
              "      <td>Twelvetrees Crescent</td>\n",
              "      <td>2998</td>\n",
              "      <td>51.523609</td>\n",
              "      <td>-0.003080</td>\n",
              "    </tr>\n",
              "  </tbody>\n",
              "</table>\n",
              "<p>117 rows × 7 columns</p>\n",
              "</div>"
            ],
            "text/plain": [
              "                           id  ... location.lng\n",
              "0    5cadee50f8cbd4002c354481  ...     0.005363\n",
              "1    4bc3002c920eb71384cf1c2c  ...    -0.047284\n",
              "2    4c90d1b5b641236af50e7c79  ...     0.003259\n",
              "3    4bc9e939b6c49c74423a8f91  ...    -0.010284\n",
              "4    57508ede498efe9da7ad7c38  ...    -0.022376\n",
              "..                        ...  ...          ...\n",
              "112  4e9428b761afe52cf38d5f0a  ...    -0.018316\n",
              "113  4fc54757e4b0662a32a4b526  ...    -0.047931\n",
              "114  4d5535d09e508cfae0e5fc9a  ...    -0.058579\n",
              "115  4e87a601be7b5a660d6c770f  ...    -0.068783\n",
              "116  4f1fd2a7e4b01d27e7bb8d4f  ...    -0.003080\n",
              "\n",
              "[117 rows x 7 columns]"
            ]
          },
          "metadata": {
            "tags": []
          },
          "execution_count": 5
        }
      ]
    },
    {
      "cell_type": "code",
      "metadata": {
        "id": "juan9A-uGndH",
        "colab": {
          "base_uri": "https://localhost:8080/",
          "height": 299
        },
        "outputId": "fcc21893-7814-4116-e7b5-34b79ceeab7c"
      },
      "source": [
        "fig, ax = plt.subplots(1, 1, figsize=(6, 4))\n",
        "ax.scatter(Food['location.lng'], Food['location.lat'])\n",
        "geolocator = Nominatim(user_agent=\"foursquare_agent\")\n",
        "location = geolocator.geocode('E14 9BP, London, UK')\n",
        "ax.scatter([location.longitude], [location.latitude], c='r')\n",
        "ax.scatter([-0.022376], [51.507288], c='g')"
      ],
      "execution_count": null,
      "outputs": [
        {
          "output_type": "execute_result",
          "data": {
            "text/plain": [
              "<matplotlib.collections.PathCollection at 0x7fce6235d518>"
            ]
          },
          "metadata": {
            "tags": []
          },
          "execution_count": 6
        },
        {
          "output_type": "display_data",
          "data": {
            "image/png": "[encoded data removed]",
            "text/plain": [
              "<Figure size 432x288 with 1 Axes>"
            ]
          },
          "metadata": {
            "tags": []
          }
        }
      ]
    },
    {
      "cell_type": "code",
      "metadata": {
        "id": "sybpzY0bkfbl",
        "colab": {
          "base_uri": "https://localhost:8080/",
          "height": 204
        },
        "outputId": "27f1fcc2-6c2a-4859-bc12-2495ab2d9179"
      },
      "source": [
        " df.loc[df['id'] == '58ac7b436431e5283d7c0286', 'rating'] = 2\n",
        "df\n"
      ],
      "execution_count": null,
      "outputs": [
        {
          "output_type": "execute_result",
          "data": {
            "text/html": [
              "<div>\n",
              "<style scoped>\n",
              "    .dataframe tbody tr th:only-of-type {\n",
              "        vertical-align: middle;\n",
              "    }\n",
              "\n",
              "    .dataframe tbody tr th {\n",
              "        vertical-align: top;\n",
              "    }\n",
              "\n",
              "    .dataframe thead th {\n",
              "        text-align: right;\n",
              "    }\n",
              "</style>\n",
              "<table border=\"1\" class=\"dataframe\">\n",
              "  <thead>\n",
              "    <tr style=\"text-align: right;\">\n",
              "      <th></th>\n",
              "      <th>id</th>\n",
              "      <th>name</th>\n",
              "      <th>category</th>\n",
              "      <th>rating</th>\n",
              "      <th>likes</th>\n",
              "      <th>location.address</th>\n",
              "      <th>location.distance</th>\n",
              "    </tr>\n",
              "  </thead>\n",
              "  <tbody>\n",
              "    <tr>\n",
              "      <th>0</th>\n",
              "      <td>55412714498eba342dfd063f</td>\n",
              "      <td>Sticks'n'Sushi</td>\n",
              "      <td>Sushi Restaurant</td>\n",
              "      <td>8.7</td>\n",
              "      <td>153.0</td>\n",
              "      <td>1 Crossrail Place</td>\n",
              "      <td>834</td>\n",
              "    </tr>\n",
              "    <tr>\n",
              "      <th>1</th>\n",
              "      <td>54caa6f9498e6c4d94e01bcd</td>\n",
              "      <td>Sticks'n'Sushi</td>\n",
              "      <td>Sushi Restaurant</td>\n",
              "      <td>8.5</td>\n",
              "      <td>93.0</td>\n",
              "      <td>1 Nelson Road</td>\n",
              "      <td>2103</td>\n",
              "    </tr>\n",
              "    <tr>\n",
              "      <th>2</th>\n",
              "      <td>58af108dabf632097b5e32bd</td>\n",
              "      <td>Sushi Fresh</td>\n",
              "      <td>Japanese Restaurant</td>\n",
              "      <td>NaN</td>\n",
              "      <td>0.0</td>\n",
              "      <td>108 Salmon Lane</td>\n",
              "      <td>1957</td>\n",
              "    </tr>\n",
              "    <tr>\n",
              "      <th>3</th>\n",
              "      <td>5131c941e4b09cc35d6698ba</td>\n",
              "      <td>River Sushi</td>\n",
              "      <td>Sushi Restaurant</td>\n",
              "      <td>NaN</td>\n",
              "      <td>0.0</td>\n",
              "      <td>NaN</td>\n",
              "      <td>1377</td>\n",
              "    </tr>\n",
              "    <tr>\n",
              "      <th>4</th>\n",
              "      <td>5b6830542f97ec002cbad0c3</td>\n",
              "      <td>Nuha Sushi</td>\n",
              "      <td>Sushi Restaurant</td>\n",
              "      <td>NaN</td>\n",
              "      <td>0.0</td>\n",
              "      <td>22 Kerbey street</td>\n",
              "      <td>1560</td>\n",
              "    </tr>\n",
              "  </tbody>\n",
              "</table>\n",
              "</div>"
            ],
            "text/plain": [
              "                         id  ... location.distance\n",
              "0  55412714498eba342dfd063f  ...               834\n",
              "1  54caa6f9498e6c4d94e01bcd  ...              2103\n",
              "2  58af108dabf632097b5e32bd  ...              1957\n",
              "3  5131c941e4b09cc35d6698ba  ...              1377\n",
              "4  5b6830542f97ec002cbad0c3  ...              1560\n",
              "\n",
              "[5 rows x 7 columns]"
            ]
          },
          "metadata": {
            "tags": []
          },
          "execution_count": 5
        }
      ]
    },
    {
      "cell_type": "code",
      "metadata": {
        "id": "C_frBYzUekhn",
        "colab": {
          "base_uri": "https://localhost:8080/",
          "height": 34
        },
        "outputId": "c215ef09-2e9f-443e-9a7d-b0159f9bf574"
      },
      "source": [
        "get_primary_category(df['categories'][0])"
      ],
      "execution_count": null,
      "outputs": [
        {
          "output_type": "execute_result",
          "data": {
            "text/plain": [
              "'Modern European Restaurant'"
            ]
          },
          "metadata": {
            "tags": []
          },
          "execution_count": 98
        }
      ]
    },
    {
      "cell_type": "code",
      "metadata": {
        "id": "BCcZDcKivSOW",
        "colab": {
          "base_uri": "https://localhost:8080/",
          "height": 68
        },
        "outputId": "5e50a8e3-dfe1-43ab-a666-9b3867e102fe"
      },
      "source": [
        "CLIENT_ID = 'KZTFEZ202SFTOBQJWMKP1I1PGLNIXCZXEKAFFKWV2UG1OMGQ' # your Foursquare ID\n",
        "CLIENT_SECRET = 'TAIJYPELLZ55MNTBEKTWJD4PZCH3TXXHDKKHDJR3R0CSMIKG' # your Foursquare Secret\n",
        "VERSION = '20180604'\n",
        "LIMIT = 30\n",
        "print('Your credentails:')\n",
        "print('CLIENT_ID: ' + CLIENT_ID)\n",
        "print('CLIENT_SECRET: ' + CLIENT_SECRET)"
      ],
      "execution_count": null,
      "outputs": [
        {
          "output_type": "stream",
          "text": [
            "Your credentails:\n",
            "CLIENT_ID: KZTFEZ202SFTOBQJWMKP1I1PGLNIXCZXEKAFFKWV2UG1OMGQ\n",
            "CLIENT_SECRET: TAIJYPELLZ55MNTBEKTWJD4PZCH3TXXHDKKHDJR3R0CSMIKG\n"
          ],
          "name": "stdout"
        }
      ]
    },
    {
      "cell_type": "code",
      "metadata": {
        "id": "-siPB1S2vm1A",
        "colab": {
          "base_uri": "https://localhost:8080/",
          "height": 34
        },
        "outputId": "5071c9c6-e144-48bb-9b22-e7ec99128ad1"
      },
      "source": [
        "search_query = 'Cafe'\n",
        "radius = 500\n",
        "print(search_query + ' .... OK!')"
      ],
      "execution_count": null,
      "outputs": [
        {
          "output_type": "stream",
          "text": [
            "Cafe .... OK!\n"
          ],
          "name": "stdout"
        }
      ]
    },
    {
      "cell_type": "code",
      "metadata": {
        "id": "Zo0HZOyTa3PR",
        "colab": {
          "base_uri": "https://localhost:8080/",
          "height": 34
        },
        "outputId": "52c088a7-00b3-4e2b-80e8-1bba5ad294b2"
      },
      "source": [
        "address = 'E14 9BP, London, UK'\n",
        "\n",
        "geolocator = Nominatim(user_agent=\"foursquare_agent\")\n",
        "location = geolocator.geocode(address)\n",
        "latitude = location.latitude\n",
        "longitude = location.longitude\n",
        "print(latitude, longitude)"
      ],
      "execution_count": null,
      "outputs": [
        {
          "output_type": "stream",
          "text": [
            "51.49872516705851 -0.019634022722880767\n"
          ],
          "name": "stdout"
        }
      ]
    },
    {
      "cell_type": "code",
      "metadata": {
        "id": "IsTLGAcmaxez",
        "colab": {
          "base_uri": "https://localhost:8080/",
          "height": 54
        },
        "outputId": "b21929d7-3968-44db-b36e-39e15ca81a7b"
      },
      "source": [
        "url = 'https://api.foursquare.com/v2/venues/search?client_id={}&client_secret={}&ll={},{}&v={}&query={}&radius={}&limit={}'.format(CLIENT_ID, CLIENT_SECRET, latitude, longitude, VERSION, search_query, radius, LIMIT)\n",
        "url"
      ],
      "execution_count": null,
      "outputs": [
        {
          "output_type": "execute_result",
          "data": {
            "text/plain": [
              "'https://api.foursquare.com/v2/venues/search?client_id=KZTFEZ202SFTOBQJWMKP1I1PGLNIXCZXEKAFFKWV2UG1OMGQ&client_secret=TAIJYPELLZ55MNTBEKTWJD4PZCH3TXXHDKKHDJR3R0CSMIKG&ll=51.49872516705851,-0.019634022722880767&v=20180604&query=Cafe&radius=500&limit=30'"
            ]
          },
          "metadata": {
            "tags": []
          },
          "execution_count": 14
        }
      ]
    },
    {
      "cell_type": "code",
      "metadata": {
        "id": "2Y89oTdZazoU"
      },
      "source": [
        ""
      ],
      "execution_count": null,
      "outputs": []
    }
  ]
}