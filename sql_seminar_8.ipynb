{
  "nbformat": 4,
  "nbformat_minor": 0,
  "metadata": {
    "colab": {
      "name": "sql_seminar_8.ipynb",
      "provenance": [],
      "collapsed_sections": []
    },
    "kernelspec": {
      "display_name": "Python 3",
      "language": "python",
      "name": "python3"
    }
  },
  "cells": [
    {
      "cell_type": "code",
      "metadata": {
        "id": "u5cBUyDSyYVr",
        "colab": {
          "base_uri": "https://localhost:8080/",
          "height": 136
        },
        "outputId": "49047579-6549-465f-ff6e-4202febf7e8c"
      },
      "source": [
        "! pip install aiohttp -q\n",
        "! pip install mysql.connector -q\n",
        "! pip install pymysql -q"
      ],
      "execution_count": null,
      "outputs": [
        {
          "output_type": "stream",
          "text": [
            "\u001b[K     |████████████████████████████████| 1.2MB 5.1MB/s \n",
            "\u001b[K     |████████████████████████████████| 256kB 47.0MB/s \n",
            "\u001b[K     |████████████████████████████████| 317kB 45.8MB/s \n",
            "\u001b[?25h  Building wheel for idna-ssl (setup.py) ... \u001b[?25l\u001b[?25hdone\n",
            "\u001b[K     |████████████████████████████████| 11.9MB 4.8MB/s \n",
            "\u001b[?25h  Building wheel for mysql.connector (setup.py) ... \u001b[?25l\u001b[?25hdone\n",
            "\u001b[K     |████████████████████████████████| 51kB 3.5MB/s \n",
            "\u001b[?25h"
          ],
          "name": "stdout"
        }
      ]
    },
    {
      "cell_type": "markdown",
      "metadata": {
        "id": "zPAoTxpQU2Eb"
      },
      "source": [
        "Домашнее задание №6\n",
        "==\n",
        "\n",
        "**НЕ изменяйте и не удаляйте ячейки, написанные с помощью markdown, только ячейки с кодом**\n",
        "\n",
        "\n",
        "Вам необходимо будет загрузить для проверки:\n",
        "1. этот ipynb файл в систему\n",
        "2. данные в базу данных вида *вашпароль_ht*"
      ]
    },
    {
      "cell_type": "markdown",
      "metadata": {
        "id": "M85c0bi9U2Ec"
      },
      "source": [
        "* Импортируйте библиотеки для работы с mysql\n",
        "* Подключитесь к удаленному серверу используя для доступа учетные данные с [этой страницы](https://sss.krasilnikov.spb.ru/classsql). Объект для подключения поместите в переменную db_connection\n",
        "\n",
        "(**1 балл**)"
      ]
    },
    {
      "cell_type": "code",
      "metadata": {
        "id": "qpYjczvVU2Ed"
      },
      "source": [
        "import aiohttp\n",
        "import asyncio\n",
        "import mysql.connector as sql\n",
        "import pandas as pd\n",
        "import sqlalchemy\n",
        "from itertools import starmap\n",
        "from termcolor import colored\n",
        "\n",
        "class DB:\n",
        "    def __init__(self, config):\n",
        "        self.config = config\n",
        "        self.dtypes = {int: 'INT', float: 'FLOAT', str: 'VARCHAR(255)'}\n",
        "        sqlalchemy_config = {**{'drivername': 'mysql+pymysql'}, **config}\n",
        "        sqlalchemy_config['username'] = sqlalchemy_config.pop('user')\n",
        "        self.sqlalchemy_url = sqlalchemy.engine.url.URL(**sqlalchemy_config)\n",
        "        \n",
        "    def __enter__(self):\n",
        "        self.connection = sql.connect(**self.config)\n",
        "        print('connected')\n",
        "        return self\n",
        "        \n",
        "    def execute(self, query):\n",
        "        cursor = self.connection.cursor(buffered=True)\n",
        "        try:\n",
        "            print(colored(query, 'blue'))\n",
        "            cursor.execute(query)\n",
        "            return cursor.fetchall() if cursor.rowcount else None\n",
        "        except Exception as error:\n",
        "            print(error)\n",
        "        finally:\n",
        "            cursor.close()\n",
        "\n",
        "    def is_table_exist(self, table):\n",
        "        tables = self.execute('SHOW TABLES')\n",
        "        return tables and (table,) in tables\n",
        "\n",
        "    def drop_table_if_exist(self, table):\n",
        "        if self.is_table_exist(table):\n",
        "            self.execute(f'DROP TABLE {table}')\n",
        "            \n",
        "    def truncate_table_if_exist(self, table):\n",
        "        if self.is_table_exist(table):\n",
        "            self.execute(f'TRUNCATE TABLE {table}')\n",
        "\n",
        "    def column(self, column, dtype):\n",
        "        return f'  {column} {self.dtypes[dtype]}'\n",
        "\n",
        "    def create_or_replace_table(self, table, schema, keys):\n",
        "        self.drop_table_if_exist(table)\n",
        "        columns = ',\\n'.join(starmap(self.column, schema.items()))\n",
        "        primary_keys = ', '.join(keys)\n",
        "        self.execute(f'CREATE TABLE {table} (\\n{columns},\\n  PRIMARY KEY ({primary_keys})\\n);')\n",
        "\n",
        "    def insert_dataframe(self, table, df):\n",
        "        engine = sqlalchemy.create_engine(self.sqlalchemy_url)\n",
        "        with engine.connect() as connection:\n",
        "            df.to_sql(table, connection, index=False, if_exists='append')\n",
        "            \n",
        "    def count(self, table):\n",
        "        return self.execute(f'SELECT count(*) FROM {table}')[0][0]\n",
        "        \n",
        "    def __exit__(self, exception_type, exception_value, traceback):\n",
        "        self.connection.close()\n",
        "        print('connection closed')\n",
        "        \n",
        "config = {\n",
        "    'host': 'krasilnikov.spb.ru',\n",
        "    'port': 3360,\n",
        "    'user': '4049f890b5f59ee17a2554a1e271cc46',\n",
        "    'password': '4049f890b5f59ee17a2554a1e271cc46',\n",
        "    'database': '4049f890b5f59ee17a2554a1e271cc46_ht'\n",
        "}\n",
        "        \n",
        "db_connection = DB(config)"
      ],
      "execution_count": null,
      "outputs": []
    },
    {
      "cell_type": "markdown",
      "metadata": {
        "id": "O03UR5lBU2Eg"
      },
      "source": [
        "* Откройте [страницу данных](https://sss.krasilnikov.spb.ru/classht/2019-7)\n",
        "* Создайте на удаленном сервере таблицу с названием data\n",
        " * столбец назовите аналогично столбцу на странице с данными, замените пробел на нижнее подчеркивание\n",
        " * тип данных подберите из числа тех, что были изучены на лекции 7. Для даты используйте varchar\n",
        "\n",
        "(**3 балла**)"
      ]
    },
    {
      "cell_type": "code",
      "metadata": {
        "id": "wTVyZv33U2Eg",
        "colab": {
          "base_uri": "https://localhost:8080/",
          "height": 358
        },
        "outputId": "8f550c67-0338-4ece-a4c6-9a5304917d86"
      },
      "source": [
        "schema = {\n",
        "    'region': str, \n",
        "    'country': str,\n",
        "    'item_type': str,\n",
        "    'sales_channel': str, \n",
        "    'order_priority': str,\n",
        "    'order_date': str,\n",
        "    'order_id': int, \n",
        "    'ship_date': str, \n",
        "    'units_sold': int, \n",
        "    'unit_price': float,\n",
        "    'unit_cost': float,\n",
        "    'total_revenue': float, \n",
        "    'total_cost': float, \n",
        "    'total_profit': float\n",
        "}\n",
        "\n",
        "with db_connection as db:\n",
        "    db.create_or_replace_table('data', schema, keys=['order_id'])"
      ],
      "execution_count": null,
      "outputs": [
        {
          "output_type": "error",
          "ename": "ProgrammingError",
          "evalue": "ignored",
          "traceback": [
            "\u001b[0;31m---------------------------------------------------------------------------\u001b[0m",
            "\u001b[0;31mProgrammingError\u001b[0m                          Traceback (most recent call last)",
            "\u001b[0;32m<ipython-input-4-0f62c21d21e3>\u001b[0m in \u001b[0;36m<module>\u001b[0;34m()\u001b[0m\n\u001b[1;32m     16\u001b[0m }\n\u001b[1;32m     17\u001b[0m \u001b[0;34m\u001b[0m\u001b[0m\n\u001b[0;32m---> 18\u001b[0;31m \u001b[0;32mwith\u001b[0m \u001b[0mdb_connection\u001b[0m \u001b[0;32mas\u001b[0m \u001b[0mdb\u001b[0m\u001b[0;34m:\u001b[0m\u001b[0;34m\u001b[0m\u001b[0;34m\u001b[0m\u001b[0m\n\u001b[0m\u001b[1;32m     19\u001b[0m     \u001b[0mdb\u001b[0m\u001b[0;34m.\u001b[0m\u001b[0mcreate_or_replace_table\u001b[0m\u001b[0;34m(\u001b[0m\u001b[0;34m'data'\u001b[0m\u001b[0;34m,\u001b[0m \u001b[0mschema\u001b[0m\u001b[0;34m,\u001b[0m \u001b[0mkeys\u001b[0m\u001b[0;34m=\u001b[0m\u001b[0;34m[\u001b[0m\u001b[0;34m'order_id'\u001b[0m\u001b[0;34m]\u001b[0m\u001b[0;34m)\u001b[0m\u001b[0;34m\u001b[0m\u001b[0;34m\u001b[0m\u001b[0m\n",
            "\u001b[0;32m<ipython-input-3-08465b8ec1f8>\u001b[0m in \u001b[0;36m__enter__\u001b[0;34m(self)\u001b[0m\n\u001b[1;32m     16\u001b[0m \u001b[0;34m\u001b[0m\u001b[0m\n\u001b[1;32m     17\u001b[0m     \u001b[0;32mdef\u001b[0m \u001b[0m__enter__\u001b[0m\u001b[0;34m(\u001b[0m\u001b[0mself\u001b[0m\u001b[0;34m)\u001b[0m\u001b[0;34m:\u001b[0m\u001b[0;34m\u001b[0m\u001b[0;34m\u001b[0m\u001b[0m\n\u001b[0;32m---> 18\u001b[0;31m         \u001b[0mself\u001b[0m\u001b[0;34m.\u001b[0m\u001b[0mconnection\u001b[0m \u001b[0;34m=\u001b[0m \u001b[0msql\u001b[0m\u001b[0;34m.\u001b[0m\u001b[0mconnect\u001b[0m\u001b[0;34m(\u001b[0m\u001b[0;34m**\u001b[0m\u001b[0mself\u001b[0m\u001b[0;34m.\u001b[0m\u001b[0mconfig\u001b[0m\u001b[0;34m)\u001b[0m\u001b[0;34m\u001b[0m\u001b[0;34m\u001b[0m\u001b[0m\n\u001b[0m\u001b[1;32m     19\u001b[0m         \u001b[0mprint\u001b[0m\u001b[0;34m(\u001b[0m\u001b[0;34m'connected'\u001b[0m\u001b[0;34m)\u001b[0m\u001b[0;34m\u001b[0m\u001b[0;34m\u001b[0m\u001b[0m\n\u001b[1;32m     20\u001b[0m         \u001b[0;32mreturn\u001b[0m \u001b[0mself\u001b[0m\u001b[0;34m\u001b[0m\u001b[0;34m\u001b[0m\u001b[0m\n",
            "\u001b[0;32m/usr/local/lib/python3.6/dist-packages/mysql/connector/__init__.py\u001b[0m in \u001b[0;36mconnect\u001b[0;34m(*args, **kwargs)\u001b[0m\n\u001b[1;32m    177\u001b[0m         \u001b[0;32mreturn\u001b[0m \u001b[0mCMySQLConnection\u001b[0m\u001b[0;34m(\u001b[0m\u001b[0;34m*\u001b[0m\u001b[0margs\u001b[0m\u001b[0;34m,\u001b[0m \u001b[0;34m**\u001b[0m\u001b[0mkwargs\u001b[0m\u001b[0;34m)\u001b[0m\u001b[0;34m\u001b[0m\u001b[0;34m\u001b[0m\u001b[0m\n\u001b[1;32m    178\u001b[0m     \u001b[0;32melse\u001b[0m\u001b[0;34m:\u001b[0m\u001b[0;34m\u001b[0m\u001b[0;34m\u001b[0m\u001b[0m\n\u001b[0;32m--> 179\u001b[0;31m         \u001b[0;32mreturn\u001b[0m \u001b[0mMySQLConnection\u001b[0m\u001b[0;34m(\u001b[0m\u001b[0;34m*\u001b[0m\u001b[0margs\u001b[0m\u001b[0;34m,\u001b[0m \u001b[0;34m**\u001b[0m\u001b[0mkwargs\u001b[0m\u001b[0;34m)\u001b[0m\u001b[0;34m\u001b[0m\u001b[0;34m\u001b[0m\u001b[0m\n\u001b[0m\u001b[1;32m    180\u001b[0m \u001b[0mConnect\u001b[0m \u001b[0;34m=\u001b[0m \u001b[0mconnect\u001b[0m  \u001b[0;31m# pylint: disable=C0103\u001b[0m\u001b[0;34m\u001b[0m\u001b[0;34m\u001b[0m\u001b[0m\n\u001b[1;32m    181\u001b[0m \u001b[0;34m\u001b[0m\u001b[0m\n",
            "\u001b[0;32m/usr/local/lib/python3.6/dist-packages/mysql/connector/connection.py\u001b[0m in \u001b[0;36m__init__\u001b[0;34m(self, *args, **kwargs)\u001b[0m\n\u001b[1;32m     93\u001b[0m \u001b[0;34m\u001b[0m\u001b[0m\n\u001b[1;32m     94\u001b[0m         \u001b[0;32mif\u001b[0m \u001b[0mlen\u001b[0m\u001b[0;34m(\u001b[0m\u001b[0mkwargs\u001b[0m\u001b[0;34m)\u001b[0m \u001b[0;34m>\u001b[0m \u001b[0;36m0\u001b[0m\u001b[0;34m:\u001b[0m\u001b[0;34m\u001b[0m\u001b[0;34m\u001b[0m\u001b[0m\n\u001b[0;32m---> 95\u001b[0;31m             \u001b[0mself\u001b[0m\u001b[0;34m.\u001b[0m\u001b[0mconnect\u001b[0m\u001b[0;34m(\u001b[0m\u001b[0;34m**\u001b[0m\u001b[0mkwargs\u001b[0m\u001b[0;34m)\u001b[0m\u001b[0;34m\u001b[0m\u001b[0;34m\u001b[0m\u001b[0m\n\u001b[0m\u001b[1;32m     96\u001b[0m \u001b[0;34m\u001b[0m\u001b[0m\n\u001b[1;32m     97\u001b[0m     \u001b[0;32mdef\u001b[0m \u001b[0m_do_handshake\u001b[0m\u001b[0;34m(\u001b[0m\u001b[0mself\u001b[0m\u001b[0;34m)\u001b[0m\u001b[0;34m:\u001b[0m\u001b[0;34m\u001b[0m\u001b[0;34m\u001b[0m\u001b[0m\n",
            "\u001b[0;32m/usr/local/lib/python3.6/dist-packages/mysql/connector/abstracts.py\u001b[0m in \u001b[0;36mconnect\u001b[0;34m(self, **kwargs)\u001b[0m\n\u001b[1;32m    714\u001b[0m \u001b[0;34m\u001b[0m\u001b[0m\n\u001b[1;32m    715\u001b[0m         \u001b[0mself\u001b[0m\u001b[0;34m.\u001b[0m\u001b[0mdisconnect\u001b[0m\u001b[0;34m(\u001b[0m\u001b[0;34m)\u001b[0m\u001b[0;34m\u001b[0m\u001b[0;34m\u001b[0m\u001b[0m\n\u001b[0;32m--> 716\u001b[0;31m         \u001b[0mself\u001b[0m\u001b[0;34m.\u001b[0m\u001b[0m_open_connection\u001b[0m\u001b[0;34m(\u001b[0m\u001b[0;34m)\u001b[0m\u001b[0;34m\u001b[0m\u001b[0;34m\u001b[0m\u001b[0m\n\u001b[0m\u001b[1;32m    717\u001b[0m         \u001b[0mself\u001b[0m\u001b[0;34m.\u001b[0m\u001b[0m_post_connection\u001b[0m\u001b[0;34m(\u001b[0m\u001b[0;34m)\u001b[0m\u001b[0;34m\u001b[0m\u001b[0;34m\u001b[0m\u001b[0m\n\u001b[1;32m    718\u001b[0m \u001b[0;34m\u001b[0m\u001b[0m\n",
            "\u001b[0;32m/usr/local/lib/python3.6/dist-packages/mysql/connector/connection.py\u001b[0m in \u001b[0;36m_open_connection\u001b[0;34m(self)\u001b[0m\n\u001b[1;32m    208\u001b[0m         self._do_auth(self._user, self._password,\n\u001b[1;32m    209\u001b[0m                       \u001b[0mself\u001b[0m\u001b[0;34m.\u001b[0m\u001b[0m_database\u001b[0m\u001b[0;34m,\u001b[0m \u001b[0mself\u001b[0m\u001b[0;34m.\u001b[0m\u001b[0m_client_flags\u001b[0m\u001b[0;34m,\u001b[0m \u001b[0mself\u001b[0m\u001b[0;34m.\u001b[0m\u001b[0m_charset_id\u001b[0m\u001b[0;34m,\u001b[0m\u001b[0;34m\u001b[0m\u001b[0;34m\u001b[0m\u001b[0m\n\u001b[0;32m--> 210\u001b[0;31m                       self._ssl)\n\u001b[0m\u001b[1;32m    211\u001b[0m         \u001b[0mself\u001b[0m\u001b[0;34m.\u001b[0m\u001b[0mset_converter_class\u001b[0m\u001b[0;34m(\u001b[0m\u001b[0mself\u001b[0m\u001b[0;34m.\u001b[0m\u001b[0m_converter_class\u001b[0m\u001b[0;34m)\u001b[0m\u001b[0;34m\u001b[0m\u001b[0;34m\u001b[0m\u001b[0m\n\u001b[1;32m    212\u001b[0m         \u001b[0;32mif\u001b[0m \u001b[0mself\u001b[0m\u001b[0;34m.\u001b[0m\u001b[0m_client_flags\u001b[0m \u001b[0;34m&\u001b[0m \u001b[0mClientFlag\u001b[0m\u001b[0;34m.\u001b[0m\u001b[0mCOMPRESS\u001b[0m\u001b[0;34m:\u001b[0m\u001b[0;34m\u001b[0m\u001b[0;34m\u001b[0m\u001b[0m\n",
            "\u001b[0;32m/usr/local/lib/python3.6/dist-packages/mysql/connector/connection.py\u001b[0m in \u001b[0;36m_do_auth\u001b[0;34m(self, username, password, database, client_flags, charset, ssl_options)\u001b[0m\n\u001b[1;32m    142\u001b[0m             auth_plugin=self._auth_plugin)\n\u001b[1;32m    143\u001b[0m         \u001b[0mself\u001b[0m\u001b[0;34m.\u001b[0m\u001b[0m_socket\u001b[0m\u001b[0;34m.\u001b[0m\u001b[0msend\u001b[0m\u001b[0;34m(\u001b[0m\u001b[0mpacket\u001b[0m\u001b[0;34m)\u001b[0m\u001b[0;34m\u001b[0m\u001b[0;34m\u001b[0m\u001b[0m\n\u001b[0;32m--> 144\u001b[0;31m         \u001b[0mself\u001b[0m\u001b[0;34m.\u001b[0m\u001b[0m_auth_switch_request\u001b[0m\u001b[0;34m(\u001b[0m\u001b[0musername\u001b[0m\u001b[0;34m,\u001b[0m \u001b[0mpassword\u001b[0m\u001b[0;34m)\u001b[0m\u001b[0;34m\u001b[0m\u001b[0;34m\u001b[0m\u001b[0m\n\u001b[0m\u001b[1;32m    145\u001b[0m \u001b[0;34m\u001b[0m\u001b[0m\n\u001b[1;32m    146\u001b[0m         \u001b[0;32mif\u001b[0m \u001b[0;32mnot\u001b[0m \u001b[0;34m(\u001b[0m\u001b[0mclient_flags\u001b[0m \u001b[0;34m&\u001b[0m \u001b[0mClientFlag\u001b[0m\u001b[0;34m.\u001b[0m\u001b[0mCONNECT_WITH_DB\u001b[0m\u001b[0;34m)\u001b[0m \u001b[0;32mand\u001b[0m \u001b[0mdatabase\u001b[0m\u001b[0;34m:\u001b[0m\u001b[0;34m\u001b[0m\u001b[0;34m\u001b[0m\u001b[0m\n",
            "\u001b[0;32m/usr/local/lib/python3.6/dist-packages/mysql/connector/connection.py\u001b[0m in \u001b[0;36m_auth_switch_request\u001b[0;34m(self, username, password)\u001b[0m\n\u001b[1;32m    175\u001b[0m                 \u001b[0mauth_data\u001b[0m \u001b[0;34m=\u001b[0m \u001b[0mself\u001b[0m\u001b[0;34m.\u001b[0m\u001b[0m_protocol\u001b[0m\u001b[0;34m.\u001b[0m\u001b[0mparse_auth_more_data\u001b[0m\u001b[0;34m(\u001b[0m\u001b[0mpacket\u001b[0m\u001b[0;34m)\u001b[0m\u001b[0;34m\u001b[0m\u001b[0;34m\u001b[0m\u001b[0m\n\u001b[1;32m    176\u001b[0m         \u001b[0;32melif\u001b[0m \u001b[0mpacket\u001b[0m\u001b[0;34m[\u001b[0m\u001b[0;36m4\u001b[0m\u001b[0;34m]\u001b[0m \u001b[0;34m==\u001b[0m \u001b[0;36m255\u001b[0m\u001b[0;34m:\u001b[0m\u001b[0;34m\u001b[0m\u001b[0;34m\u001b[0m\u001b[0m\n\u001b[0;32m--> 177\u001b[0;31m             \u001b[0;32mraise\u001b[0m \u001b[0merrors\u001b[0m\u001b[0;34m.\u001b[0m\u001b[0mget_exception\u001b[0m\u001b[0;34m(\u001b[0m\u001b[0mpacket\u001b[0m\u001b[0;34m)\u001b[0m\u001b[0;34m\u001b[0m\u001b[0;34m\u001b[0m\u001b[0m\n\u001b[0m\u001b[1;32m    178\u001b[0m \u001b[0;34m\u001b[0m\u001b[0m\n\u001b[1;32m    179\u001b[0m     \u001b[0;32mdef\u001b[0m \u001b[0m_get_connection\u001b[0m\u001b[0;34m(\u001b[0m\u001b[0mself\u001b[0m\u001b[0;34m,\u001b[0m \u001b[0mprtcls\u001b[0m\u001b[0;34m=\u001b[0m\u001b[0;32mNone\u001b[0m\u001b[0;34m)\u001b[0m\u001b[0;34m:\u001b[0m\u001b[0;34m\u001b[0m\u001b[0;34m\u001b[0m\u001b[0m\n",
            "\u001b[0;31mProgrammingError\u001b[0m: 1045 (28000): Access denied for user '4049f890b5f59ee17a2554a1e271cc46'@'35.233.144.222' (using password: YES)"
          ]
        }
      ]
    },
    {
      "cell_type": "markdown",
      "metadata": {
        "id": "XySZaChdU2Ei"
      },
      "source": [
        "* Заполните данными таблицу data с указанной страницы.\n",
        "\n",
        "(**3 балла**)"
      ]
    },
    {
      "cell_type": "code",
      "metadata": {
        "id": "9AfcYaZJU2Ei",
        "colab": {
          "base_uri": "https://localhost:8080/",
          "height": 412
        },
        "outputId": "939394c0-ad28-42fa-ff8b-592880113cb7"
      },
      "source": [
        "%%time\n",
        "def fetch(pages, url):\n",
        "    async def fetch_one(session, url):\n",
        "        print(f'fetching {url}')\n",
        "        async with session.get(url) as response:\n",
        "            return await response.text()\n",
        "    async def fetch_all(pages):\n",
        "        async with aiohttp.ClientSession() as session:\n",
        "            return await asyncio.gather(*[fetch_one(session, f'{url}/{page}') for page in pages])\n",
        "    responses = asyncio.get_event_loop().run_until_complete(fetch_all(pages))\n",
        "    \n",
        "    def to_dataframe(html):\n",
        "        return pd.read_html(html, header=0)[0]\n",
        "    df = pd.concat(list(map(to_dataframe, responses))).reset_index(drop=True)\n",
        "    df.columns = [col.lower().replace(' ', '_') for col in df]\n",
        "    return df\n",
        "\n",
        "url='https://sss.krasilnikov.spb.ru/classcl/2019-7/4049f890b5f59ee17a2554a1e271cc46'\n",
        "df = fetch([1], url)\n",
        "\n",
        "with db_connection as db:\n",
        "    db.truncate_table_if_exist('data')\n",
        "    db.insert_dataframe('data', df)\n",
        "    print(db.count('data'))"
      ],
      "execution_count": null,
      "outputs": [
        {
          "output_type": "stream",
          "text": [
            "fetching https://sss.krasilnikov.spb.ru/classcl/2019-7/4049f890b5f59ee17a2554a1e271cc46/1\n"
          ],
          "name": "stdout"
        },
        {
          "output_type": "error",
          "ename": "ProgrammingError",
          "evalue": "ignored",
          "traceback": [
            "\u001b[0;31m---------------------------------------------------------------------------\u001b[0m",
            "\u001b[0;31mProgrammingError\u001b[0m                          Traceback (most recent call last)",
            "\u001b[0;32m<ipython-input-5-7fe49cfc977e>\u001b[0m in \u001b[0;36m<module>\u001b[0;34m()\u001b[0m\n\u001b[0;32m----> 1\u001b[0;31m \u001b[0mget_ipython\u001b[0m\u001b[0;34m(\u001b[0m\u001b[0;34m)\u001b[0m\u001b[0;34m.\u001b[0m\u001b[0mrun_cell_magic\u001b[0m\u001b[0;34m(\u001b[0m\u001b[0;34m'time'\u001b[0m\u001b[0;34m,\u001b[0m \u001b[0;34m''\u001b[0m\u001b[0;34m,\u001b[0m \u001b[0;34m\"def fetch(pages, url):\\n    async def fetch_one(session, url):\\n        print(f'fetching {url}')\\n        async with session.get(url) as response:\\n            return await response.text()\\n    async def fetch_all(pages):\\n        async with aiohttp.ClientSession() as session:\\n            return await asyncio.gather(*[fetch_one(session, f'{url}/{page}') for page in pages])\\n    responses = asyncio.get_event_loop().run_until_complete(fetch_all(pages))\\n    \\n    def to_dataframe(html):\\n        return pd.read_html(html, header=0)[0]\\n    df = pd.concat(list(map(to_dataframe, responses))).reset_index(drop=True)\\n    df.columns = [col.lower().replace(' ', '_') for col in df]\\n    return df\\n\\nurl='https://sss.krasilnikov.spb.ru/classcl/2019-7/4049f890b5f59ee17a2554a1e271cc46'\\ndf = fetch([1], url)\\n\\nwith db_connection as db:\\n    db.truncate_table_if_exist('data')\\n    db.insert_dataframe('data', df)\\n    print(db.count('data'))\"\u001b[0m\u001b[0;34m)\u001b[0m\u001b[0;34m\u001b[0m\u001b[0;34m\u001b[0m\u001b[0m\n\u001b[0m",
            "\u001b[0;32m/usr/local/lib/python3.6/dist-packages/IPython/core/interactiveshell.py\u001b[0m in \u001b[0;36mrun_cell_magic\u001b[0;34m(self, magic_name, line, cell)\u001b[0m\n\u001b[1;32m   2115\u001b[0m             \u001b[0mmagic_arg_s\u001b[0m \u001b[0;34m=\u001b[0m \u001b[0mself\u001b[0m\u001b[0;34m.\u001b[0m\u001b[0mvar_expand\u001b[0m\u001b[0;34m(\u001b[0m\u001b[0mline\u001b[0m\u001b[0;34m,\u001b[0m \u001b[0mstack_depth\u001b[0m\u001b[0;34m)\u001b[0m\u001b[0;34m\u001b[0m\u001b[0;34m\u001b[0m\u001b[0m\n\u001b[1;32m   2116\u001b[0m             \u001b[0;32mwith\u001b[0m \u001b[0mself\u001b[0m\u001b[0;34m.\u001b[0m\u001b[0mbuiltin_trap\u001b[0m\u001b[0;34m:\u001b[0m\u001b[0;34m\u001b[0m\u001b[0;34m\u001b[0m\u001b[0m\n\u001b[0;32m-> 2117\u001b[0;31m                 \u001b[0mresult\u001b[0m \u001b[0;34m=\u001b[0m \u001b[0mfn\u001b[0m\u001b[0;34m(\u001b[0m\u001b[0mmagic_arg_s\u001b[0m\u001b[0;34m,\u001b[0m \u001b[0mcell\u001b[0m\u001b[0;34m)\u001b[0m\u001b[0;34m\u001b[0m\u001b[0;34m\u001b[0m\u001b[0m\n\u001b[0m\u001b[1;32m   2118\u001b[0m             \u001b[0;32mreturn\u001b[0m \u001b[0mresult\u001b[0m\u001b[0;34m\u001b[0m\u001b[0;34m\u001b[0m\u001b[0m\n\u001b[1;32m   2119\u001b[0m \u001b[0;34m\u001b[0m\u001b[0m\n",
            "\u001b[0;32m</usr/local/lib/python3.6/dist-packages/decorator.py:decorator-gen-60>\u001b[0m in \u001b[0;36mtime\u001b[0;34m(self, line, cell, local_ns)\u001b[0m\n",
            "\u001b[0;32m/usr/local/lib/python3.6/dist-packages/IPython/core/magic.py\u001b[0m in \u001b[0;36m<lambda>\u001b[0;34m(f, *a, **k)\u001b[0m\n\u001b[1;32m    186\u001b[0m     \u001b[0;31m# but it's overkill for just that one bit of state.\u001b[0m\u001b[0;34m\u001b[0m\u001b[0;34m\u001b[0m\u001b[0;34m\u001b[0m\u001b[0m\n\u001b[1;32m    187\u001b[0m     \u001b[0;32mdef\u001b[0m \u001b[0mmagic_deco\u001b[0m\u001b[0;34m(\u001b[0m\u001b[0marg\u001b[0m\u001b[0;34m)\u001b[0m\u001b[0;34m:\u001b[0m\u001b[0;34m\u001b[0m\u001b[0;34m\u001b[0m\u001b[0m\n\u001b[0;32m--> 188\u001b[0;31m         \u001b[0mcall\u001b[0m \u001b[0;34m=\u001b[0m \u001b[0;32mlambda\u001b[0m \u001b[0mf\u001b[0m\u001b[0;34m,\u001b[0m \u001b[0;34m*\u001b[0m\u001b[0ma\u001b[0m\u001b[0;34m,\u001b[0m \u001b[0;34m**\u001b[0m\u001b[0mk\u001b[0m\u001b[0;34m:\u001b[0m \u001b[0mf\u001b[0m\u001b[0;34m(\u001b[0m\u001b[0;34m*\u001b[0m\u001b[0ma\u001b[0m\u001b[0;34m,\u001b[0m \u001b[0;34m**\u001b[0m\u001b[0mk\u001b[0m\u001b[0;34m)\u001b[0m\u001b[0;34m\u001b[0m\u001b[0;34m\u001b[0m\u001b[0m\n\u001b[0m\u001b[1;32m    189\u001b[0m \u001b[0;34m\u001b[0m\u001b[0m\n\u001b[1;32m    190\u001b[0m         \u001b[0;32mif\u001b[0m \u001b[0mcallable\u001b[0m\u001b[0;34m(\u001b[0m\u001b[0marg\u001b[0m\u001b[0;34m)\u001b[0m\u001b[0;34m:\u001b[0m\u001b[0;34m\u001b[0m\u001b[0;34m\u001b[0m\u001b[0m\n",
            "\u001b[0;32m/usr/local/lib/python3.6/dist-packages/IPython/core/magics/execution.py\u001b[0m in \u001b[0;36mtime\u001b[0;34m(self, line, cell, local_ns)\u001b[0m\n\u001b[1;32m   1191\u001b[0m         \u001b[0;32melse\u001b[0m\u001b[0;34m:\u001b[0m\u001b[0;34m\u001b[0m\u001b[0;34m\u001b[0m\u001b[0m\n\u001b[1;32m   1192\u001b[0m             \u001b[0mst\u001b[0m \u001b[0;34m=\u001b[0m \u001b[0mclock2\u001b[0m\u001b[0;34m(\u001b[0m\u001b[0;34m)\u001b[0m\u001b[0;34m\u001b[0m\u001b[0;34m\u001b[0m\u001b[0m\n\u001b[0;32m-> 1193\u001b[0;31m             \u001b[0mexec\u001b[0m\u001b[0;34m(\u001b[0m\u001b[0mcode\u001b[0m\u001b[0;34m,\u001b[0m \u001b[0mglob\u001b[0m\u001b[0;34m,\u001b[0m \u001b[0mlocal_ns\u001b[0m\u001b[0;34m)\u001b[0m\u001b[0;34m\u001b[0m\u001b[0;34m\u001b[0m\u001b[0m\n\u001b[0m\u001b[1;32m   1194\u001b[0m             \u001b[0mend\u001b[0m \u001b[0;34m=\u001b[0m \u001b[0mclock2\u001b[0m\u001b[0;34m(\u001b[0m\u001b[0;34m)\u001b[0m\u001b[0;34m\u001b[0m\u001b[0;34m\u001b[0m\u001b[0m\n\u001b[1;32m   1195\u001b[0m             \u001b[0mout\u001b[0m \u001b[0;34m=\u001b[0m \u001b[0;32mNone\u001b[0m\u001b[0;34m\u001b[0m\u001b[0;34m\u001b[0m\u001b[0m\n",
            "\u001b[0;32m<timed exec>\u001b[0m in \u001b[0;36m<module>\u001b[0;34m()\u001b[0m\n",
            "\u001b[0;32m<ipython-input-3-08465b8ec1f8>\u001b[0m in \u001b[0;36m__enter__\u001b[0;34m(self)\u001b[0m\n\u001b[1;32m     16\u001b[0m \u001b[0;34m\u001b[0m\u001b[0m\n\u001b[1;32m     17\u001b[0m     \u001b[0;32mdef\u001b[0m \u001b[0m__enter__\u001b[0m\u001b[0;34m(\u001b[0m\u001b[0mself\u001b[0m\u001b[0;34m)\u001b[0m\u001b[0;34m:\u001b[0m\u001b[0;34m\u001b[0m\u001b[0;34m\u001b[0m\u001b[0m\n\u001b[0;32m---> 18\u001b[0;31m         \u001b[0mself\u001b[0m\u001b[0;34m.\u001b[0m\u001b[0mconnection\u001b[0m \u001b[0;34m=\u001b[0m \u001b[0msql\u001b[0m\u001b[0;34m.\u001b[0m\u001b[0mconnect\u001b[0m\u001b[0;34m(\u001b[0m\u001b[0;34m**\u001b[0m\u001b[0mself\u001b[0m\u001b[0;34m.\u001b[0m\u001b[0mconfig\u001b[0m\u001b[0;34m)\u001b[0m\u001b[0;34m\u001b[0m\u001b[0;34m\u001b[0m\u001b[0m\n\u001b[0m\u001b[1;32m     19\u001b[0m         \u001b[0mprint\u001b[0m\u001b[0;34m(\u001b[0m\u001b[0;34m'connected'\u001b[0m\u001b[0;34m)\u001b[0m\u001b[0;34m\u001b[0m\u001b[0;34m\u001b[0m\u001b[0m\n\u001b[1;32m     20\u001b[0m         \u001b[0;32mreturn\u001b[0m \u001b[0mself\u001b[0m\u001b[0;34m\u001b[0m\u001b[0;34m\u001b[0m\u001b[0m\n",
            "\u001b[0;32m/usr/local/lib/python3.6/dist-packages/mysql/connector/__init__.py\u001b[0m in \u001b[0;36mconnect\u001b[0;34m(*args, **kwargs)\u001b[0m\n\u001b[1;32m    177\u001b[0m         \u001b[0;32mreturn\u001b[0m \u001b[0mCMySQLConnection\u001b[0m\u001b[0;34m(\u001b[0m\u001b[0;34m*\u001b[0m\u001b[0margs\u001b[0m\u001b[0;34m,\u001b[0m \u001b[0;34m**\u001b[0m\u001b[0mkwargs\u001b[0m\u001b[0;34m)\u001b[0m\u001b[0;34m\u001b[0m\u001b[0;34m\u001b[0m\u001b[0m\n\u001b[1;32m    178\u001b[0m     \u001b[0;32melse\u001b[0m\u001b[0;34m:\u001b[0m\u001b[0;34m\u001b[0m\u001b[0;34m\u001b[0m\u001b[0m\n\u001b[0;32m--> 179\u001b[0;31m         \u001b[0;32mreturn\u001b[0m \u001b[0mMySQLConnection\u001b[0m\u001b[0;34m(\u001b[0m\u001b[0;34m*\u001b[0m\u001b[0margs\u001b[0m\u001b[0;34m,\u001b[0m \u001b[0;34m**\u001b[0m\u001b[0mkwargs\u001b[0m\u001b[0;34m)\u001b[0m\u001b[0;34m\u001b[0m\u001b[0;34m\u001b[0m\u001b[0m\n\u001b[0m\u001b[1;32m    180\u001b[0m \u001b[0mConnect\u001b[0m \u001b[0;34m=\u001b[0m \u001b[0mconnect\u001b[0m  \u001b[0;31m# pylint: disable=C0103\u001b[0m\u001b[0;34m\u001b[0m\u001b[0;34m\u001b[0m\u001b[0m\n\u001b[1;32m    181\u001b[0m \u001b[0;34m\u001b[0m\u001b[0m\n",
            "\u001b[0;32m/usr/local/lib/python3.6/dist-packages/mysql/connector/connection.py\u001b[0m in \u001b[0;36m__init__\u001b[0;34m(self, *args, **kwargs)\u001b[0m\n\u001b[1;32m     93\u001b[0m \u001b[0;34m\u001b[0m\u001b[0m\n\u001b[1;32m     94\u001b[0m         \u001b[0;32mif\u001b[0m \u001b[0mlen\u001b[0m\u001b[0;34m(\u001b[0m\u001b[0mkwargs\u001b[0m\u001b[0;34m)\u001b[0m \u001b[0;34m>\u001b[0m \u001b[0;36m0\u001b[0m\u001b[0;34m:\u001b[0m\u001b[0;34m\u001b[0m\u001b[0;34m\u001b[0m\u001b[0m\n\u001b[0;32m---> 95\u001b[0;31m             \u001b[0mself\u001b[0m\u001b[0;34m.\u001b[0m\u001b[0mconnect\u001b[0m\u001b[0;34m(\u001b[0m\u001b[0;34m**\u001b[0m\u001b[0mkwargs\u001b[0m\u001b[0;34m)\u001b[0m\u001b[0;34m\u001b[0m\u001b[0;34m\u001b[0m\u001b[0m\n\u001b[0m\u001b[1;32m     96\u001b[0m \u001b[0;34m\u001b[0m\u001b[0m\n\u001b[1;32m     97\u001b[0m     \u001b[0;32mdef\u001b[0m \u001b[0m_do_handshake\u001b[0m\u001b[0;34m(\u001b[0m\u001b[0mself\u001b[0m\u001b[0;34m)\u001b[0m\u001b[0;34m:\u001b[0m\u001b[0;34m\u001b[0m\u001b[0;34m\u001b[0m\u001b[0m\n",
            "\u001b[0;32m/usr/local/lib/python3.6/dist-packages/mysql/connector/abstracts.py\u001b[0m in \u001b[0;36mconnect\u001b[0;34m(self, **kwargs)\u001b[0m\n\u001b[1;32m    714\u001b[0m \u001b[0;34m\u001b[0m\u001b[0m\n\u001b[1;32m    715\u001b[0m         \u001b[0mself\u001b[0m\u001b[0;34m.\u001b[0m\u001b[0mdisconnect\u001b[0m\u001b[0;34m(\u001b[0m\u001b[0;34m)\u001b[0m\u001b[0;34m\u001b[0m\u001b[0;34m\u001b[0m\u001b[0m\n\u001b[0;32m--> 716\u001b[0;31m         \u001b[0mself\u001b[0m\u001b[0;34m.\u001b[0m\u001b[0m_open_connection\u001b[0m\u001b[0;34m(\u001b[0m\u001b[0;34m)\u001b[0m\u001b[0;34m\u001b[0m\u001b[0;34m\u001b[0m\u001b[0m\n\u001b[0m\u001b[1;32m    717\u001b[0m         \u001b[0mself\u001b[0m\u001b[0;34m.\u001b[0m\u001b[0m_post_connection\u001b[0m\u001b[0;34m(\u001b[0m\u001b[0;34m)\u001b[0m\u001b[0;34m\u001b[0m\u001b[0;34m\u001b[0m\u001b[0m\n\u001b[1;32m    718\u001b[0m \u001b[0;34m\u001b[0m\u001b[0m\n",
            "\u001b[0;32m/usr/local/lib/python3.6/dist-packages/mysql/connector/connection.py\u001b[0m in \u001b[0;36m_open_connection\u001b[0;34m(self)\u001b[0m\n\u001b[1;32m    208\u001b[0m         self._do_auth(self._user, self._password,\n\u001b[1;32m    209\u001b[0m                       \u001b[0mself\u001b[0m\u001b[0;34m.\u001b[0m\u001b[0m_database\u001b[0m\u001b[0;34m,\u001b[0m \u001b[0mself\u001b[0m\u001b[0;34m.\u001b[0m\u001b[0m_client_flags\u001b[0m\u001b[0;34m,\u001b[0m \u001b[0mself\u001b[0m\u001b[0;34m.\u001b[0m\u001b[0m_charset_id\u001b[0m\u001b[0;34m,\u001b[0m\u001b[0;34m\u001b[0m\u001b[0;34m\u001b[0m\u001b[0m\n\u001b[0;32m--> 210\u001b[0;31m                       self._ssl)\n\u001b[0m\u001b[1;32m    211\u001b[0m         \u001b[0mself\u001b[0m\u001b[0;34m.\u001b[0m\u001b[0mset_converter_class\u001b[0m\u001b[0;34m(\u001b[0m\u001b[0mself\u001b[0m\u001b[0;34m.\u001b[0m\u001b[0m_converter_class\u001b[0m\u001b[0;34m)\u001b[0m\u001b[0;34m\u001b[0m\u001b[0;34m\u001b[0m\u001b[0m\n\u001b[1;32m    212\u001b[0m         \u001b[0;32mif\u001b[0m \u001b[0mself\u001b[0m\u001b[0;34m.\u001b[0m\u001b[0m_client_flags\u001b[0m \u001b[0;34m&\u001b[0m \u001b[0mClientFlag\u001b[0m\u001b[0;34m.\u001b[0m\u001b[0mCOMPRESS\u001b[0m\u001b[0;34m:\u001b[0m\u001b[0;34m\u001b[0m\u001b[0;34m\u001b[0m\u001b[0m\n",
            "\u001b[0;32m/usr/local/lib/python3.6/dist-packages/mysql/connector/connection.py\u001b[0m in \u001b[0;36m_do_auth\u001b[0;34m(self, username, password, database, client_flags, charset, ssl_options)\u001b[0m\n\u001b[1;32m    142\u001b[0m             auth_plugin=self._auth_plugin)\n\u001b[1;32m    143\u001b[0m         \u001b[0mself\u001b[0m\u001b[0;34m.\u001b[0m\u001b[0m_socket\u001b[0m\u001b[0;34m.\u001b[0m\u001b[0msend\u001b[0m\u001b[0;34m(\u001b[0m\u001b[0mpacket\u001b[0m\u001b[0;34m)\u001b[0m\u001b[0;34m\u001b[0m\u001b[0;34m\u001b[0m\u001b[0m\n\u001b[0;32m--> 144\u001b[0;31m         \u001b[0mself\u001b[0m\u001b[0;34m.\u001b[0m\u001b[0m_auth_switch_request\u001b[0m\u001b[0;34m(\u001b[0m\u001b[0musername\u001b[0m\u001b[0;34m,\u001b[0m \u001b[0mpassword\u001b[0m\u001b[0;34m)\u001b[0m\u001b[0;34m\u001b[0m\u001b[0;34m\u001b[0m\u001b[0m\n\u001b[0m\u001b[1;32m    145\u001b[0m \u001b[0;34m\u001b[0m\u001b[0m\n\u001b[1;32m    146\u001b[0m         \u001b[0;32mif\u001b[0m \u001b[0;32mnot\u001b[0m \u001b[0;34m(\u001b[0m\u001b[0mclient_flags\u001b[0m \u001b[0;34m&\u001b[0m \u001b[0mClientFlag\u001b[0m\u001b[0;34m.\u001b[0m\u001b[0mCONNECT_WITH_DB\u001b[0m\u001b[0;34m)\u001b[0m \u001b[0;32mand\u001b[0m \u001b[0mdatabase\u001b[0m\u001b[0;34m:\u001b[0m\u001b[0;34m\u001b[0m\u001b[0;34m\u001b[0m\u001b[0m\n",
            "\u001b[0;32m/usr/local/lib/python3.6/dist-packages/mysql/connector/connection.py\u001b[0m in \u001b[0;36m_auth_switch_request\u001b[0;34m(self, username, password)\u001b[0m\n\u001b[1;32m    175\u001b[0m                 \u001b[0mauth_data\u001b[0m \u001b[0;34m=\u001b[0m \u001b[0mself\u001b[0m\u001b[0;34m.\u001b[0m\u001b[0m_protocol\u001b[0m\u001b[0;34m.\u001b[0m\u001b[0mparse_auth_more_data\u001b[0m\u001b[0;34m(\u001b[0m\u001b[0mpacket\u001b[0m\u001b[0;34m)\u001b[0m\u001b[0;34m\u001b[0m\u001b[0;34m\u001b[0m\u001b[0m\n\u001b[1;32m    176\u001b[0m         \u001b[0;32melif\u001b[0m \u001b[0mpacket\u001b[0m\u001b[0;34m[\u001b[0m\u001b[0;36m4\u001b[0m\u001b[0;34m]\u001b[0m \u001b[0;34m==\u001b[0m \u001b[0;36m255\u001b[0m\u001b[0;34m:\u001b[0m\u001b[0;34m\u001b[0m\u001b[0;34m\u001b[0m\u001b[0m\n\u001b[0;32m--> 177\u001b[0;31m             \u001b[0;32mraise\u001b[0m \u001b[0merrors\u001b[0m\u001b[0;34m.\u001b[0m\u001b[0mget_exception\u001b[0m\u001b[0;34m(\u001b[0m\u001b[0mpacket\u001b[0m\u001b[0;34m)\u001b[0m\u001b[0;34m\u001b[0m\u001b[0;34m\u001b[0m\u001b[0m\n\u001b[0m\u001b[1;32m    178\u001b[0m \u001b[0;34m\u001b[0m\u001b[0m\n\u001b[1;32m    179\u001b[0m     \u001b[0;32mdef\u001b[0m \u001b[0m_get_connection\u001b[0m\u001b[0;34m(\u001b[0m\u001b[0mself\u001b[0m\u001b[0;34m,\u001b[0m \u001b[0mprtcls\u001b[0m\u001b[0;34m=\u001b[0m\u001b[0;32mNone\u001b[0m\u001b[0;34m)\u001b[0m\u001b[0;34m:\u001b[0m\u001b[0;34m\u001b[0m\u001b[0;34m\u001b[0m\u001b[0m\n",
            "\u001b[0;31mProgrammingError\u001b[0m: 1045 (28000): Access denied for user '4049f890b5f59ee17a2554a1e271cc46'@'35.233.144.222' (using password: YES)"
          ]
        }
      ]
    },
    {
      "cell_type": "markdown",
      "metadata": {
        "id": "6r14jRLfU2Ek"
      },
      "source": [
        "* Реализуйте загрузку всех страниц.\n",
        "\n",
        "(**3 балла**)"
      ]
    },
    {
      "cell_type": "code",
      "metadata": {
        "id": "j0rg2xc_U2El",
        "colab": {
          "base_uri": "https://localhost:8080/",
          "height": 323
        },
        "outputId": "f7d5fd30-3b04-47ce-cb9f-bdfb81b46c35"
      },
      "source": [
        "%%time\n",
        "df = fetch(range(1, 11), url)\n",
        "\n",
        "with db_connection as db:\n",
        "    db.truncate_table_if_exist('data')\n",
        "    db.insert_dataframe('data', df)\n",
        "    print(db.count('data'))"
      ],
      "execution_count": null,
      "outputs": [
        {
          "output_type": "stream",
          "text": [
            "fetching https://sss.krasilnikov.spb.ru/classcl/2019-7/4049f890b5f59ee17a2554a1e271cc46/8\n",
            "fetching https://sss.krasilnikov.spb.ru/classcl/2019-7/4049f890b5f59ee17a2554a1e271cc46/4\n",
            "fetching https://sss.krasilnikov.spb.ru/classcl/2019-7/4049f890b5f59ee17a2554a1e271cc46/9\n",
            "fetching https://sss.krasilnikov.spb.ru/classcl/2019-7/4049f890b5f59ee17a2554a1e271cc46/3\n",
            "fetching https://sss.krasilnikov.spb.ru/classcl/2019-7/4049f890b5f59ee17a2554a1e271cc46/6\n",
            "fetching https://sss.krasilnikov.spb.ru/classcl/2019-7/4049f890b5f59ee17a2554a1e271cc46/10\n",
            "fetching https://sss.krasilnikov.spb.ru/classcl/2019-7/4049f890b5f59ee17a2554a1e271cc46/2\n",
            "fetching https://sss.krasilnikov.spb.ru/classcl/2019-7/4049f890b5f59ee17a2554a1e271cc46/1\n",
            "fetching https://sss.krasilnikov.spb.ru/classcl/2019-7/4049f890b5f59ee17a2554a1e271cc46/7\n",
            "fetching https://sss.krasilnikov.spb.ru/classcl/2019-7/4049f890b5f59ee17a2554a1e271cc46/5\n",
            "connected\n",
            "\u001b[34mSHOW TABLES\u001b[0m\n",
            "\u001b[34mTRUNCATE TABLE data\u001b[0m\n",
            "\u001b[34mSELECT count(*) FROM data\u001b[0m\n",
            "9980\n",
            "connection closed\n",
            "CPU times: user 2.6 s, sys: 44.2 ms, total: 2.64 s\n",
            "Wall time: 27.7 s\n"
          ],
          "name": "stdout"
        }
      ]
    },
    {
      "cell_type": "markdown",
      "metadata": {
        "id": "RELvpVLzU2En"
      },
      "source": [
        "* Создайте таблицу categories на сервере c столбцами:\n",
        " * Item_Type (категория)\n",
        " * Region\n",
        " * Most_popular_country (самая часто встречающаяся страна в паре категория-регион)\n",
        " * Most_popular_Sales_Channel (самая часто встречающийся канал сбыта в паре категория-регион)\n",
        " * Max_Order_ID (максимальный номер заказа в паре категория-регион)\n",
        " * Sum_Units_Sold (объем продаж в паре категория-регион)\n",
        " * Average_Unit_Price (средняя цена по категории в этом регионе)\n",
        "* заполните таблицу на основе данных из таблицы data используя sql запросы. Каждый регион должен повторяться в каждой категории ровно один раз. Каждая пара категория-регион должна повторяться ровно один раз\n",
        "\n",
        "(**3 балла**)"
      ]
    },
    {
      "cell_type": "code",
      "metadata": {
        "id": "NRTAk7IZU2En",
        "colab": {
          "base_uri": "https://localhost:8080/",
          "height": 1635
        },
        "outputId": "df742372-07b4-48b6-b00d-da382a6b2f3c"
      },
      "source": [
        "schema = {\n",
        "    'item_type': str,\n",
        "    'region': str,\n",
        "    'most_popular_country': str,\n",
        "    'most_popular_sales_channel': str,\n",
        "    'max_order_id': int,\n",
        "    'sum_units_sold': int,\n",
        "    'average_unit_price': float\n",
        "}\n",
        "\n",
        "query = \"\"\"\n",
        "INSERT INTO categories (\n",
        "  item_type,\n",
        "  region,\n",
        "  most_popular_country,\n",
        "  most_popular_sales_channel,\n",
        "  max_order_id,\n",
        "  sum_units_sold,\n",
        "  average_unit_price\n",
        ") WITH countries AS (\n",
        "  SELECT *\n",
        "  FROM (\n",
        "         SELECT\n",
        "           *,\n",
        "           row_number() OVER w AS top\n",
        "         FROM (\n",
        "                SELECT\n",
        "                  item_type,\n",
        "                  region,\n",
        "                  country,\n",
        "                  count(*) AS total\n",
        "                FROM data\n",
        "                GROUP BY 1, 2, 3\n",
        "              ) AS countries\n",
        "         WINDOW w AS ( PARTITION BY item_type, region\n",
        "           ORDER BY total DESC, country )\n",
        "       ) AS countries\n",
        "  WHERE top = 1\n",
        "), sales_channel AS (\n",
        "  SELECT *\n",
        "  FROM (\n",
        "         SELECT\n",
        "           *,\n",
        "           row_number() OVER w AS top\n",
        "         FROM (\n",
        "                SELECT\n",
        "                  item_type,\n",
        "                  region,\n",
        "                  sales_channel,\n",
        "                  count(*) AS total\n",
        "                FROM data\n",
        "                GROUP BY 1, 2, 3\n",
        "              ) AS sales_channel\n",
        "         WINDOW w AS ( PARTITION BY item_type, region\n",
        "           ORDER BY total DESC, sales_channel )\n",
        "       ) AS sales_channel\n",
        "  WHERE top = 1\n",
        "), agg AS (\n",
        "  SELECT\n",
        "    item_type,\n",
        "    region,\n",
        "    max(order_id) AS max_order_id,\n",
        "    sum(units_sold) AS sum_units_sold,\n",
        "    avg(unit_price) AS average_unit_price\n",
        "  FROM data\n",
        "  GROUP BY 1, 2\n",
        "), cats AS (\n",
        "  SELECT\n",
        "    item_type,\n",
        "    region,\n",
        "    country AS most_popular_country,\n",
        "    sales_channel AS most_popular_sales_channel,\n",
        "    max_order_id,\n",
        "    sum_units_sold,\n",
        "    average_unit_price\n",
        "  FROM agg\n",
        "  LEFT JOIN countries USING (item_type, region)\n",
        "  LEFT JOIN sales_channel USING (item_type, region)\n",
        ") SELECT *\n",
        "  FROM cats\n",
        "ON DUPLICATE KEY UPDATE\n",
        "  most_popular_country = cats.most_popular_country,\n",
        "  most_popular_sales_channel = cats.most_popular_sales_channel,\n",
        "  max_order_id = cats.max_order_id,\n",
        "  sum_units_sold = cats.sum_units_sold,\n",
        "  average_unit_price = cats.average_unit_price;\n",
        "\"\"\"\n",
        "\n",
        "with db_connection as db:\n",
        "    db.create_or_replace_table('categories', schema, keys=['item_type', 'region'])\n",
        "    db.execute(query)\n",
        "    print(db.execute('SELECT * FROM categories LIMIT 10'))"
      ],
      "execution_count": null,
      "outputs": [
        {
          "output_type": "stream",
          "text": [
            "connected\n",
            "\u001b[34mSHOW TABLES\u001b[0m\n",
            "\u001b[34mDROP TABLE categories\u001b[0m\n",
            "\u001b[34mCREATE TABLE categories (\n",
            "  item_type VARCHAR(255),\n",
            "  region VARCHAR(255),\n",
            "  most_popular_country VARCHAR(255),\n",
            "  most_popular_sales_channel VARCHAR(255),\n",
            "  max_order_id INT,\n",
            "  sum_units_sold INT,\n",
            "  average_unit_price FLOAT,\n",
            "  PRIMARY KEY (item_type, region)\n",
            ");\u001b[0m\n",
            "\u001b[34m\n",
            "INSERT INTO categories (\n",
            "  item_type,\n",
            "  region,\n",
            "  most_popular_country,\n",
            "  most_popular_sales_channel,\n",
            "  max_order_id,\n",
            "  sum_units_sold,\n",
            "  average_unit_price\n",
            ") WITH countries AS (\n",
            "  SELECT *\n",
            "  FROM (\n",
            "         SELECT\n",
            "           *,\n",
            "           row_number() OVER w AS top\n",
            "         FROM (\n",
            "                SELECT\n",
            "                  item_type,\n",
            "                  region,\n",
            "                  country,\n",
            "                  count(*) AS total\n",
            "                FROM data\n",
            "                GROUP BY 1, 2, 3\n",
            "              ) AS countries\n",
            "         WINDOW w AS ( PARTITION BY item_type, region\n",
            "           ORDER BY total DESC, country )\n",
            "       ) AS countries\n",
            "  WHERE top = 1\n",
            "), sales_channel AS (\n",
            "  SELECT *\n",
            "  FROM (\n",
            "         SELECT\n",
            "           *,\n",
            "           row_number() OVER w AS top\n",
            "         FROM (\n",
            "                SELECT\n",
            "                  item_type,\n",
            "                  region,\n",
            "                  sales_channel,\n",
            "                  count(*) AS total\n",
            "                FROM data\n",
            "                GROUP BY 1, 2, 3\n",
            "              ) AS sales_channel\n",
            "         WINDOW w AS ( PARTITION BY item_type, region\n",
            "           ORDER BY total DESC, sales_channel )\n",
            "       ) AS sales_channel\n",
            "  WHERE top = 1\n",
            "), agg AS (\n",
            "  SELECT\n",
            "    item_type,\n",
            "    region,\n",
            "    max(order_id) AS max_order_id,\n",
            "    sum(units_sold) AS sum_units_sold,\n",
            "    avg(unit_price) AS average_unit_price\n",
            "  FROM data\n",
            "  GROUP BY 1, 2\n",
            "), cats AS (\n",
            "  SELECT\n",
            "    item_type,\n",
            "    region,\n",
            "    country AS most_popular_country,\n",
            "    sales_channel AS most_popular_sales_channel,\n",
            "    max_order_id,\n",
            "    sum_units_sold,\n",
            "    average_unit_price\n",
            "  FROM agg\n",
            "  LEFT JOIN countries USING (item_type, region)\n",
            "  LEFT JOIN sales_channel USING (item_type, region)\n",
            ") SELECT *\n",
            "  FROM cats\n",
            "ON DUPLICATE KEY UPDATE\n",
            "  most_popular_country = cats.most_popular_country,\n",
            "  most_popular_sales_channel = cats.most_popular_sales_channel,\n",
            "  max_order_id = cats.max_order_id,\n",
            "  sum_units_sold = cats.sum_units_sold,\n",
            "  average_unit_price = cats.average_unit_price;\n",
            "\u001b[0m\n",
            "No result set to fetch from.\n",
            "\u001b[34mSELECT * FROM categories LIMIT 10\u001b[0m\n",
            "[('Baby Food', 'Asia', 'Brunei', 'Offline', 998801267, 706717, 255.28), ('Baby Food', 'Australia and Oceania', 'New Zealand', 'Online', 989940536, 350647, 255.28), ('Baby Food', 'Central America and the Caribbean', 'Jamaica', 'Offline', 993987882, 475597, 255.28), ('Baby Food', 'Europe', 'Ukraine', 'Offline', 997608220, 1155942, 255.28), ('Baby Food', 'Middle East and North Africa', 'Lebanon', 'Online', 979063642, 487728, 255.28), ('Baby Food', 'North America', 'United States of America', 'Online', 997298800, 77538, 255.28), ('Baby Food', 'Sub-Saharan Africa', 'Zimbabwe', 'Offline', 992189729, 1004131, 255.28), ('Beverages', 'Asia', 'Mongolia', 'Online', 998511159, 536401, 47.45), ('Beverages', 'Australia and Oceania', 'Papua New Guinea', 'Offline', 998793113, 421650, 47.45), ('Beverages', 'Central America and the Caribbean', 'El Salvador', 'Offline', 998497426, 493862, 47.45)]\n",
            "connection closed\n"
          ],
          "name": "stdout"
        }
      ]
    }
  ]
}