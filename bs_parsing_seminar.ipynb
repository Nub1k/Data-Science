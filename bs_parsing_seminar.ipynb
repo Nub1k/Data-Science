{
  "nbformat": 4,
  "nbformat_minor": 0,
  "metadata": {
    "colab": {
      "name": " bs_parsing_seminar.ipynb",
      "provenance": []
    },
    "kernelspec": {
      "display_name": "Python 3",
      "language": "python",
      "name": "python3"
    }
  },
  "cells": [
    {
      "cell_type": "markdown",
      "metadata": {
        "id": "K9TriEMATkv-"
      },
      "source": [
        "### Задание на Семинар 6\n",
        "\n",
        "**НЕ изменяйте и не удаляйте ячейки, написанные с помощью markdown, только ячейки с кодом**\n",
        "\n",
        "Справочные материалы:\n",
        "* [шпаргалка по Pandas](http://pandas.pydata.org/Pandas_Cheat_Sheet.pdf)\n",
        "* [Отладчик регулярных выражений](https://regex101.com)\n",
        "\n",
        "_Примечание: при выполнении задания можно пользоваться библиотеками BeautifulSoup и RE как угодно_"
      ]
    },
    {
      "cell_type": "markdown",
      "metadata": {
        "id": "9GdY0kkyTkv_"
      },
      "source": [
        "* Создайте датафрейм data с колонками (в скобках - название колонки в датафрейме):\n",
        " * Идентификатор (id)\n",
        " * Авторы (authors)\n",
        " * Название (title)\n",
        " * Новая цена (new_price)\n",
        " \n",
        " (**1 балл**)"
      ]
    },
    {
      "cell_type": "code",
      "metadata": {
        "id": "HHhG89sjTkwA",
        "colab": {
          "base_uri": "https://localhost:8080/",
          "height": 49
        },
        "outputId": "464b5a81-1561-42bf-e474-db40bb36e517"
      },
      "source": [
        "import bs4\n",
        "import json\n",
        "import pandas as pd\n",
        "import requests\n",
        "import re\n",
        "\n",
        "data = pd.DataFrame(columns = ['id', 'authors', 'title', 'new_price'])\n",
        "data"
      ],
      "execution_count": null,
      "outputs": [
        {
          "output_type": "execute_result",
          "data": {
            "text/html": [
              "<div>\n",
              "<style scoped>\n",
              "    .dataframe tbody tr th:only-of-type {\n",
              "        vertical-align: middle;\n",
              "    }\n",
              "\n",
              "    .dataframe tbody tr th {\n",
              "        vertical-align: top;\n",
              "    }\n",
              "\n",
              "    .dataframe thead th {\n",
              "        text-align: right;\n",
              "    }\n",
              "</style>\n",
              "<table border=\"1\" class=\"dataframe\">\n",
              "  <thead>\n",
              "    <tr style=\"text-align: right;\">\n",
              "      <th></th>\n",
              "      <th>id</th>\n",
              "      <th>authors</th>\n",
              "      <th>title</th>\n",
              "      <th>new_price</th>\n",
              "    </tr>\n",
              "  </thead>\n",
              "  <tbody>\n",
              "  </tbody>\n",
              "</table>\n",
              "</div>"
            ],
            "text/plain": [
              "Empty DataFrame\n",
              "Columns: [id, authors, title, new_price]\n",
              "Index: []"
            ]
          },
          "metadata": {
            "tags": []
          },
          "execution_count": 5
        }
      ]
    },
    {
      "cell_type": "markdown",
      "metadata": {
        "id": "L3XTHq7RTkwD"
      },
      "source": [
        "* Откройте сайт [Буквоеда](https://www.bookvoed.ru/books?genre=26&view=list)\n",
        "* Заполните поля датафрейма данными из списка (книги в карусели пропустите)\n",
        "\n",
        "(**1 балл** за каждый столбец)"
      ]
    },
    {
      "cell_type": "code",
      "metadata": {
        "id": "RNRGYQ3_TkwD",
        "colab": {
          "base_uri": "https://localhost:8080/",
          "height": 204
        },
        "outputId": "82efd8d1-ea5b-430e-b3f7-46cb5939f3e6"
      },
      "source": [
        "url = 'https://www.bookvoed.ru/books?genre=26&view=list'\n",
        "soup = bs4.BeautifulSoup(requests.get(url).text)\n",
        "books = soup.find_all('div', class_='Pc')\n",
        "\n",
        "def parse(book):\n",
        "    a = book.find('h5').find('a')\n",
        "    _id = list(json.loads(a.attrs.get('data-gtm_book_click_detail'))['b'].keys())[0]\n",
        "    title = a.text\n",
        "    price = re.sub('(.*?)\\n', '',book.find('div', class_='l ed').text.strip()).replace('руб.', ' ')\n",
        "    authors = book.find('h5', class_='ld').text\n",
        "    return pd.Series({'id': _id, 'authors': authors, 'title': title, 'new_price': price})\n",
        "\n",
        "data = pd.DataFrame(list(map(parse, books)))\n",
        "data.head()"
      ],
      "execution_count": null,
      "outputs": [
        {
          "output_type": "execute_result",
          "data": {
            "text/html": [
              "<div>\n",
              "<style scoped>\n",
              "    .dataframe tbody tr th:only-of-type {\n",
              "        vertical-align: middle;\n",
              "    }\n",
              "\n",
              "    .dataframe tbody tr th {\n",
              "        vertical-align: top;\n",
              "    }\n",
              "\n",
              "    .dataframe thead th {\n",
              "        text-align: right;\n",
              "    }\n",
              "</style>\n",
              "<table border=\"1\" class=\"dataframe\">\n",
              "  <thead>\n",
              "    <tr style=\"text-align: right;\">\n",
              "      <th></th>\n",
              "      <th>authors</th>\n",
              "      <th>id</th>\n",
              "      <th>new_price</th>\n",
              "      <th>title</th>\n",
              "    </tr>\n",
              "  </thead>\n",
              "  <tbody>\n",
              "    <tr>\n",
              "      <th>0</th>\n",
              "      <td>Гэлбрейт Роберт</td>\n",
              "      <td>9391987</td>\n",
              "      <td>569</td>\n",
              "      <td>Смертельная белизна: роман</td>\n",
              "    </tr>\n",
              "    <tr>\n",
              "      <th>1</th>\n",
              "      <td>Рэнд Айн</td>\n",
              "      <td>662185</td>\n",
              "      <td>995</td>\n",
              "      <td>Атлант расправил плечи. В 3 книгах.</td>\n",
              "    </tr>\n",
              "    <tr>\n",
              "      <th>2</th>\n",
              "      <td>Акунин Борис</td>\n",
              "      <td>7909666</td>\n",
              "      <td>589</td>\n",
              "      <td>Не прощаюсь. Приключения Эраста Фандорина в ХХ...</td>\n",
              "    </tr>\n",
              "    <tr>\n",
              "      <th>3</th>\n",
              "      <td>Хэнкс Том Джеффри</td>\n",
              "      <td>7871611</td>\n",
              "      <td>384</td>\n",
              "      <td>Уникальный экземпляр. Истории о том о сём</td>\n",
              "    </tr>\n",
              "    <tr>\n",
              "      <th>4</th>\n",
              "      <td>Леви Марк</td>\n",
              "      <td>8704004</td>\n",
              "      <td>309</td>\n",
              "      <td>Не такая, как все : роман</td>\n",
              "    </tr>\n",
              "  </tbody>\n",
              "</table>\n",
              "</div>"
            ],
            "text/plain": [
              "             authors       id new_price  \\\n",
              "0   Гэлбрейт Роберт   9391987     569     \n",
              "1          Рэнд Айн    662185     995     \n",
              "2      Акунин Борис   7909666     589     \n",
              "3  Хэнкс Том Джеффри  7871611     384     \n",
              "4         Леви Марк   8704004     309     \n",
              "\n",
              "                                               title  \n",
              "0                         Смертельная белизна: роман  \n",
              "1                Атлант расправил плечи. В 3 книгах.  \n",
              "2  Не прощаюсь. Приключения Эраста Фандорина в ХХ...  \n",
              "3          Уникальный экземпляр. Истории о том о сём  \n",
              "4                          Не такая, как все : роман  "
            ]
          },
          "metadata": {
            "tags": []
          },
          "execution_count": 7
        }
      ]
    },
    {
      "cell_type": "markdown",
      "metadata": {
        "id": "wgjJPaYETkwF"
      },
      "source": [
        "* Создайте датафрейм shops с колонками (в скобках - название колонки в датафрейме):\n",
        " * Идентификатор книги (id)\n",
        " * Метро (subway)\n",
        " * Краткий адрес (location)\n",
        " * Наличие на складе (stock)\n",
        " \n",
        " (**1 балл**)"
      ]
    },
    {
      "cell_type": "code",
      "metadata": {
        "id": "lXfszrUcTkwG",
        "colab": {
          "base_uri": "https://localhost:8080/",
          "height": 49
        },
        "outputId": "1fa252d8-9756-4d2a-886b-32bfeb36abc4"
      },
      "source": [
        "shops = pd.DataFrame(columns = ['id', 'subway', 'location', 'stock'])\n",
        "shops"
      ],
      "execution_count": null,
      "outputs": [
        {
          "output_type": "execute_result",
          "data": {
            "text/html": [
              "<div>\n",
              "<style scoped>\n",
              "    .dataframe tbody tr th:only-of-type {\n",
              "        vertical-align: middle;\n",
              "    }\n",
              "\n",
              "    .dataframe tbody tr th {\n",
              "        vertical-align: top;\n",
              "    }\n",
              "\n",
              "    .dataframe thead th {\n",
              "        text-align: right;\n",
              "    }\n",
              "</style>\n",
              "<table border=\"1\" class=\"dataframe\">\n",
              "  <thead>\n",
              "    <tr style=\"text-align: right;\">\n",
              "      <th></th>\n",
              "      <th>id</th>\n",
              "      <th>subway</th>\n",
              "      <th>location</th>\n",
              "      <th>stock</th>\n",
              "    </tr>\n",
              "  </thead>\n",
              "  <tbody>\n",
              "  </tbody>\n",
              "</table>\n",
              "</div>"
            ],
            "text/plain": [
              "Empty DataFrame\n",
              "Columns: [id, subway, location, stock]\n",
              "Index: []"
            ]
          },
          "metadata": {
            "tags": []
          },
          "execution_count": 8
        }
      ]
    },
    {
      "cell_type": "markdown",
      "metadata": {
        "id": "6Y_IA1uOTkwI"
      },
      "source": [
        "* Заполните поля датафрейма shops данными о книгах из датафрейма data \n",
        "\n",
        "(**1 балл** за каждый столбец)"
      ]
    },
    {
      "cell_type": "code",
      "metadata": {
        "id": "InCQ5dQcTkwJ"
      },
      "source": [
        "def check_shops(book_id):\n",
        "    soup = bs4.BeautifulSoup(requests.get(f'https://www.bookvoed.ru/book?id={book_id}').text)\n",
        "    shops = soup.find_all('div', class_='CK')\n",
        "    \n",
        "    def parse_shop(shop):\n",
        "        stock = shop.find('div', class_='GK').text.strip()\n",
        "        subway = shop.find('div', class_ = 'WE')\n",
        "        location = shop.find('a', class_='VE').text\n",
        "        return pd.Series({'id': book_id, 'stock': stock, 'subway': subway.text if subway else '', 'location': location})\n",
        "    \n",
        "    return pd.DataFrame(list(map(parse_shop, shops)))\n",
        "    \n",
        "shops = pd.concat([check_shops(x) for x in data['id']])\n",
        "shops"
      ],
      "execution_count": null,
      "outputs": []
    }
  ]
}