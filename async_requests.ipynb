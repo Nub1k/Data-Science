{
  "nbformat": 4,
  "nbformat_minor": 0,
  "metadata": {
    "colab": {
      "name": "async_requests.ipynb",
      "provenance": [],
      "collapsed_sections": []
    },
    "kernelspec": {
      "name": "python3",
      "display_name": "Python 3"
    }
  },
  "cells": [
    {
      "cell_type": "code",
      "metadata": {
        "id": "CgA08rochA3Q"
      },
      "source": [
        "import bs4, io, pandas as pd, requests, re\n",
        "\n",
        "https://sss.krasilnikov.spb.ru/class/4/uploader/file/1552543220_985_2019_SSS_Lections8_p.pdf\n",
        "https://sss.krasilnikov.spb.ru/class/4/uploader/file/1552543003_714_lect8.ipynb\n",
        "https://sss.krasilnikov.spb.ru/class/4/uploader/file/1551713445_255_2019_SSS_Lections7.pdf\n",
        "https://sss.krasilnikov.spb.ru/class/4/uploader/file/1551714986_65_lect7.ipynb\n",
        "https://sss.krasilnikov.spb.ru/class/4/uploader/file/1551267740_552_2019_SSS_Lections6.pdf\n",
        "https://sss.krasilnikov.spb.ru/class/4/uploader/file/1550584205_2019_SSS_Lections_5.pdf\n",
        "https://sss.krasilnikov.spb.ru/class/4/uploader/file/1550584231_lect5_sol.ipynb"
      ],
      "execution_count": null,
      "outputs": []
    },
    {
      "cell_type": "code",
      "metadata": {
        "id": "PdxdPhpxnIb1"
      },
      "source": [
        "2542003 - 2580000\n"
      ],
      "execution_count": null,
      "outputs": []
    },
    {
      "cell_type": "code",
      "metadata": {
        "id": "m_Ub5FbkJ4E8",
        "colab": {
          "base_uri": "https://localhost:8080/",
          "height": 882
        },
        "outputId": "95d3857b-40e5-4b60-dcfd-0cb00d0cf732"
      },
      "source": [
        "# async with aiohttp.ClientSession() as session:\n",
        "#     session.post(HOST, data={'login': LOGIN, 'pass': PWD})\n",
        "#     print(session.get(URL).text)\n",
        "\n",
        "from requests_oauthlib import OAuth1\n",
        "\n",
        "with requests.session() as sess:\n",
        "    response = sess.get(URL, auth = {'login': LOGIN, 'pass': PWD})\n",
        "    print(response.text())"
      ],
      "execution_count": null,
      "outputs": [
        {
          "output_type": "error",
          "ename": "TypeError",
          "evalue": "ignored",
          "traceback": [
            "\u001b[0;31m---------------------------------------------------------------------------\u001b[0m",
            "\u001b[0;31mTypeError\u001b[0m                                 Traceback (most recent call last)",
            "\u001b[0;32m<ipython-input-43-91b743cf7a68>\u001b[0m in \u001b[0;36m<module>\u001b[0;34m()\u001b[0m\n\u001b[1;32m      1\u001b[0m \u001b[0;34m\u001b[0m\u001b[0m\n\u001b[1;32m      2\u001b[0m \u001b[0;32mwith\u001b[0m \u001b[0mrequests\u001b[0m\u001b[0;34m.\u001b[0m\u001b[0msession\u001b[0m\u001b[0;34m(\u001b[0m\u001b[0;34m)\u001b[0m \u001b[0;32mas\u001b[0m \u001b[0msess\u001b[0m\u001b[0;34m:\u001b[0m\u001b[0;34m\u001b[0m\u001b[0;34m\u001b[0m\u001b[0m\n\u001b[0;32m----> 3\u001b[0;31m     \u001b[0mresponse\u001b[0m \u001b[0;34m=\u001b[0m \u001b[0msess\u001b[0m\u001b[0;34m.\u001b[0m\u001b[0mget\u001b[0m\u001b[0;34m(\u001b[0m\u001b[0mURL\u001b[0m\u001b[0;34m,\u001b[0m \u001b[0mauth\u001b[0m \u001b[0;34m=\u001b[0m \u001b[0;34m{\u001b[0m\u001b[0;34m'login'\u001b[0m\u001b[0;34m:\u001b[0m \u001b[0mLOGIN\u001b[0m\u001b[0;34m,\u001b[0m \u001b[0;34m'pass'\u001b[0m\u001b[0;34m:\u001b[0m \u001b[0mPWD\u001b[0m\u001b[0;34m}\u001b[0m\u001b[0;34m)\u001b[0m\u001b[0;34m\u001b[0m\u001b[0;34m\u001b[0m\u001b[0m\n\u001b[0m\u001b[1;32m      4\u001b[0m     \u001b[0mprint\u001b[0m\u001b[0;34m(\u001b[0m\u001b[0mresponse\u001b[0m\u001b[0;34m.\u001b[0m\u001b[0mtext\u001b[0m\u001b[0;34m(\u001b[0m\u001b[0;34m)\u001b[0m\u001b[0;34m)\u001b[0m\u001b[0;34m\u001b[0m\u001b[0;34m\u001b[0m\u001b[0m\n",
            "\u001b[0;32m/usr/local/lib/python3.6/dist-packages/requests/sessions.py\u001b[0m in \u001b[0;36mget\u001b[0;34m(self, url, **kwargs)\u001b[0m\n\u001b[1;32m    519\u001b[0m \u001b[0;34m\u001b[0m\u001b[0m\n\u001b[1;32m    520\u001b[0m         \u001b[0mkwargs\u001b[0m\u001b[0;34m.\u001b[0m\u001b[0msetdefault\u001b[0m\u001b[0;34m(\u001b[0m\u001b[0;34m'allow_redirects'\u001b[0m\u001b[0;34m,\u001b[0m \u001b[0;32mTrue\u001b[0m\u001b[0;34m)\u001b[0m\u001b[0;34m\u001b[0m\u001b[0;34m\u001b[0m\u001b[0m\n\u001b[0;32m--> 521\u001b[0;31m         \u001b[0;32mreturn\u001b[0m \u001b[0mself\u001b[0m\u001b[0;34m.\u001b[0m\u001b[0mrequest\u001b[0m\u001b[0;34m(\u001b[0m\u001b[0;34m'GET'\u001b[0m\u001b[0;34m,\u001b[0m \u001b[0murl\u001b[0m\u001b[0;34m,\u001b[0m \u001b[0;34m**\u001b[0m\u001b[0mkwargs\u001b[0m\u001b[0;34m)\u001b[0m\u001b[0;34m\u001b[0m\u001b[0;34m\u001b[0m\u001b[0m\n\u001b[0m\u001b[1;32m    522\u001b[0m \u001b[0;34m\u001b[0m\u001b[0m\n\u001b[1;32m    523\u001b[0m     \u001b[0;32mdef\u001b[0m \u001b[0moptions\u001b[0m\u001b[0;34m(\u001b[0m\u001b[0mself\u001b[0m\u001b[0;34m,\u001b[0m \u001b[0murl\u001b[0m\u001b[0;34m,\u001b[0m \u001b[0;34m**\u001b[0m\u001b[0mkwargs\u001b[0m\u001b[0;34m)\u001b[0m\u001b[0;34m:\u001b[0m\u001b[0;34m\u001b[0m\u001b[0;34m\u001b[0m\u001b[0m\n",
            "\u001b[0;32m/usr/local/lib/python3.6/dist-packages/requests/sessions.py\u001b[0m in \u001b[0;36mrequest\u001b[0;34m(self, method, url, params, data, headers, cookies, files, auth, timeout, allow_redirects, proxies, hooks, stream, verify, cert, json)\u001b[0m\n\u001b[1;32m    492\u001b[0m             \u001b[0mhooks\u001b[0m\u001b[0;34m=\u001b[0m\u001b[0mhooks\u001b[0m\u001b[0;34m,\u001b[0m\u001b[0;34m\u001b[0m\u001b[0;34m\u001b[0m\u001b[0m\n\u001b[1;32m    493\u001b[0m         )\n\u001b[0;32m--> 494\u001b[0;31m         \u001b[0mprep\u001b[0m \u001b[0;34m=\u001b[0m \u001b[0mself\u001b[0m\u001b[0;34m.\u001b[0m\u001b[0mprepare_request\u001b[0m\u001b[0;34m(\u001b[0m\u001b[0mreq\u001b[0m\u001b[0;34m)\u001b[0m\u001b[0;34m\u001b[0m\u001b[0;34m\u001b[0m\u001b[0m\n\u001b[0m\u001b[1;32m    495\u001b[0m \u001b[0;34m\u001b[0m\u001b[0m\n\u001b[1;32m    496\u001b[0m         \u001b[0mproxies\u001b[0m \u001b[0;34m=\u001b[0m \u001b[0mproxies\u001b[0m \u001b[0;32mor\u001b[0m \u001b[0;34m{\u001b[0m\u001b[0;34m}\u001b[0m\u001b[0;34m\u001b[0m\u001b[0;34m\u001b[0m\u001b[0m\n",
            "\u001b[0;32m/usr/local/lib/python3.6/dist-packages/requests/sessions.py\u001b[0m in \u001b[0;36mprepare_request\u001b[0;34m(self, request)\u001b[0m\n\u001b[1;32m    435\u001b[0m             \u001b[0mauth\u001b[0m\u001b[0;34m=\u001b[0m\u001b[0mmerge_setting\u001b[0m\u001b[0;34m(\u001b[0m\u001b[0mauth\u001b[0m\u001b[0;34m,\u001b[0m \u001b[0mself\u001b[0m\u001b[0;34m.\u001b[0m\u001b[0mauth\u001b[0m\u001b[0;34m)\u001b[0m\u001b[0;34m,\u001b[0m\u001b[0;34m\u001b[0m\u001b[0;34m\u001b[0m\u001b[0m\n\u001b[1;32m    436\u001b[0m             \u001b[0mcookies\u001b[0m\u001b[0;34m=\u001b[0m\u001b[0mmerged_cookies\u001b[0m\u001b[0;34m,\u001b[0m\u001b[0;34m\u001b[0m\u001b[0;34m\u001b[0m\u001b[0m\n\u001b[0;32m--> 437\u001b[0;31m             \u001b[0mhooks\u001b[0m\u001b[0;34m=\u001b[0m\u001b[0mmerge_hooks\u001b[0m\u001b[0;34m(\u001b[0m\u001b[0mrequest\u001b[0m\u001b[0;34m.\u001b[0m\u001b[0mhooks\u001b[0m\u001b[0;34m,\u001b[0m \u001b[0mself\u001b[0m\u001b[0;34m.\u001b[0m\u001b[0mhooks\u001b[0m\u001b[0;34m)\u001b[0m\u001b[0;34m,\u001b[0m\u001b[0;34m\u001b[0m\u001b[0;34m\u001b[0m\u001b[0m\n\u001b[0m\u001b[1;32m    438\u001b[0m         )\n\u001b[1;32m    439\u001b[0m         \u001b[0;32mreturn\u001b[0m \u001b[0mp\u001b[0m\u001b[0;34m\u001b[0m\u001b[0;34m\u001b[0m\u001b[0m\n",
            "\u001b[0;32m/usr/local/lib/python3.6/dist-packages/requests/models.py\u001b[0m in \u001b[0;36mprepare\u001b[0;34m(self, method, url, headers, files, data, params, auth, cookies, hooks, json)\u001b[0m\n\u001b[1;32m    307\u001b[0m         \u001b[0mself\u001b[0m\u001b[0;34m.\u001b[0m\u001b[0mprepare_cookies\u001b[0m\u001b[0;34m(\u001b[0m\u001b[0mcookies\u001b[0m\u001b[0;34m)\u001b[0m\u001b[0;34m\u001b[0m\u001b[0;34m\u001b[0m\u001b[0m\n\u001b[1;32m    308\u001b[0m         \u001b[0mself\u001b[0m\u001b[0;34m.\u001b[0m\u001b[0mprepare_body\u001b[0m\u001b[0;34m(\u001b[0m\u001b[0mdata\u001b[0m\u001b[0;34m,\u001b[0m \u001b[0mfiles\u001b[0m\u001b[0;34m,\u001b[0m \u001b[0mjson\u001b[0m\u001b[0;34m)\u001b[0m\u001b[0;34m\u001b[0m\u001b[0;34m\u001b[0m\u001b[0m\n\u001b[0;32m--> 309\u001b[0;31m         \u001b[0mself\u001b[0m\u001b[0;34m.\u001b[0m\u001b[0mprepare_auth\u001b[0m\u001b[0;34m(\u001b[0m\u001b[0mauth\u001b[0m\u001b[0;34m,\u001b[0m \u001b[0murl\u001b[0m\u001b[0;34m)\u001b[0m\u001b[0;34m\u001b[0m\u001b[0;34m\u001b[0m\u001b[0m\n\u001b[0m\u001b[1;32m    310\u001b[0m \u001b[0;34m\u001b[0m\u001b[0m\n\u001b[1;32m    311\u001b[0m         \u001b[0;31m# Note that prepare_auth must be last to enable authentication schemes\u001b[0m\u001b[0;34m\u001b[0m\u001b[0;34m\u001b[0m\u001b[0;34m\u001b[0m\u001b[0m\n",
            "\u001b[0;32m/usr/local/lib/python3.6/dist-packages/requests/models.py\u001b[0m in \u001b[0;36mprepare_auth\u001b[0;34m(self, auth, url)\u001b[0m\n\u001b[1;32m    538\u001b[0m \u001b[0;34m\u001b[0m\u001b[0m\n\u001b[1;32m    539\u001b[0m             \u001b[0;31m# Allow auth to make its changes.\u001b[0m\u001b[0;34m\u001b[0m\u001b[0;34m\u001b[0m\u001b[0;34m\u001b[0m\u001b[0m\n\u001b[0;32m--> 540\u001b[0;31m             \u001b[0mr\u001b[0m \u001b[0;34m=\u001b[0m \u001b[0mauth\u001b[0m\u001b[0;34m(\u001b[0m\u001b[0mself\u001b[0m\u001b[0;34m)\u001b[0m\u001b[0;34m\u001b[0m\u001b[0;34m\u001b[0m\u001b[0m\n\u001b[0m\u001b[1;32m    541\u001b[0m \u001b[0;34m\u001b[0m\u001b[0m\n\u001b[1;32m    542\u001b[0m             \u001b[0;31m# Update self to reflect the auth changes.\u001b[0m\u001b[0;34m\u001b[0m\u001b[0;34m\u001b[0m\u001b[0;34m\u001b[0m\u001b[0m\n",
            "\u001b[0;31mTypeError\u001b[0m: 'dict' object is not callable"
          ]
        }
      ]
    },
    {
      "cell_type": "code",
      "metadata": {
        "id": "t5CirmE6S0gk",
        "colab": {
          "base_uri": "https://localhost:8080/",
          "height": 35
        },
        "outputId": "e464bf3b-789a-4d6a-9783-fa37caa9ed0a"
      },
      "source": [
        "2542003 - 2610000"
      ],
      "execution_count": null,
      "outputs": [
        {
          "output_type": "execute_result",
          "data": {
            "text/plain": [
              "8"
            ]
          },
          "metadata": {
            "tags": []
          },
          "execution_count": 1
        }
      ]
    },
    {
      "cell_type": "code",
      "metadata": {
        "id": "mjDO2XiwJyOr",
        "colab": {
          "base_uri": "https://localhost:8080/",
          "height": 3027
        },
        "outputId": "5c68b84c-6bf3-48f4-b592-8408d5ebecbb"
      },
      "source": [
        "import aiohttp , asyncio\n",
        "HOST = 'https://sss.krasilnikov.spb.ru/auth'\n",
        "LOGIN = 'gksigalov@edu.hse.ru'\n",
        "PWD = 'qwera132'\n",
        "URL = 'https://sss.krasilnikov.spb.ru/class/4/uploader/file/155{}_527_sem8.ipynb'\n",
        "START = 3_020_000\n",
        "\n",
        "def fetch(ids):\n",
        "    async def fetch_one(session, url):\n",
        "        async with session.get(url) as response:\n",
        "            return await response.text()\n",
        "\n",
        "    async def fetch_bound(semaphore, session, url):\n",
        "        async with semaphore:\n",
        "            return await fetch_one(session, url)\n",
        "\n",
        "    async def fetch_all(ids):\n",
        "        semaphore = asyncio.Semaphore(1_000)\n",
        "        session = aiohttp.ClientSession()\n",
        "        async with aiohttp.ClientSession() as session:\n",
        "            await session.post(HOST, data={'login': LOGIN, 'pass': PWD})\n",
        "            return await asyncio.gather(*[fetch_bound(semaphore, session, URL.format(i)) for i in ids])\n",
        "\n",
        "    responses = asyncio.get_event_loop().run_until_complete(fetch_all(retry))\n",
        "    for i, response in enumerate(responses):\n",
        "        if 'Данного файла нет' not in response:\n",
        "            print('++', i, URL.format(ids[i]), response)\n",
        "\n",
        "for i in range(START, START + 1_000_000, 10_000):\n",
        "    RANGE = range(i, i + 10_000)\n",
        "    print(RANGE)\n",
        "\n",
        "    fetch(RANGE)\n",
        "\n",
        "    \n",
        "# https://sss.krasilnikov.spb.ru/class/4/uploader/file/1552607075_527_sem8.ipynb\n",
        "# https://sss.krasilnikov.spb.ru/class/4/uploader/file/1552694964_527_sem8.ipynb\n",
        "# https://sss.krasilnikov.spb.ru/class/4/uploader/file/1552892969_527_sem8.ipynb\n",
        "# https://sss.krasilnikov.spb.ru/class/4/uploader/file/1552892990_527_sem8.ipynb"
      ],
      "execution_count": null,
      "outputs": [
        {
          "output_type": "stream",
          "text": [
            "ERROR:asyncio:Unclosed client session\n",
            "client_session: <aiohttp.client.ClientSession object at 0x7f6d664b3550>\n"
          ],
          "name": "stderr"
        },
        {
          "output_type": "stream",
          "text": [
            "range(3020000, 3030000)\n"
          ],
          "name": "stdout"
        },
        {
          "output_type": "stream",
          "text": [
            "ERROR:asyncio:Unclosed client session\n",
            "client_session: <aiohttp.client.ClientSession object at 0x7f6d66645208>\n"
          ],
          "name": "stderr"
        },
        {
          "output_type": "stream",
          "text": [
            "[]\n"
          ],
          "name": "stdout"
        },
        {
          "output_type": "stream",
          "text": [
            "ERROR:asyncio:Unclosed client session\n",
            "client_session: <aiohttp.client.ClientSession object at 0x7f6d6cbb75c0>\n"
          ],
          "name": "stderr"
        },
        {
          "output_type": "stream",
          "text": [
            "range(3030000, 3040000)\n"
          ],
          "name": "stdout"
        },
        {
          "output_type": "stream",
          "text": [
            "ERROR:asyncio:Unclosed client session\n",
            "client_session: <aiohttp.client.ClientSession object at 0x7f6d66d0c4e0>\n"
          ],
          "name": "stderr"
        },
        {
          "output_type": "stream",
          "text": [
            "[]\n"
          ],
          "name": "stdout"
        },
        {
          "output_type": "stream",
          "text": [
            "ERROR:asyncio:Unclosed client session\n",
            "client_session: <aiohttp.client.ClientSession object at 0x7f6d6d757ef0>\n"
          ],
          "name": "stderr"
        },
        {
          "output_type": "stream",
          "text": [
            "range(3040000, 3050000)\n"
          ],
          "name": "stdout"
        },
        {
          "output_type": "stream",
          "text": [
            "ERROR:asyncio:Unclosed client session\n",
            "client_session: <aiohttp.client.ClientSession object at 0x7f6d66cc4ac8>\n"
          ],
          "name": "stderr"
        },
        {
          "output_type": "stream",
          "text": [
            "[]\n"
          ],
          "name": "stdout"
        },
        {
          "output_type": "stream",
          "text": [
            "ERROR:asyncio:Unclosed client session\n",
            "client_session: <aiohttp.client.ClientSession object at 0x7f6d93df7c50>\n"
          ],
          "name": "stderr"
        },
        {
          "output_type": "stream",
          "text": [
            "range(3050000, 3060000)\n"
          ],
          "name": "stdout"
        },
        {
          "output_type": "stream",
          "text": [
            "ERROR:asyncio:Unclosed client session\n",
            "client_session: <aiohttp.client.ClientSession object at 0x7f6d6f52b3c8>\n"
          ],
          "name": "stderr"
        },
        {
          "output_type": "stream",
          "text": [
            "[]\n"
          ],
          "name": "stdout"
        },
        {
          "output_type": "stream",
          "text": [
            "ERROR:asyncio:Unclosed client session\n",
            "client_session: <aiohttp.client.ClientSession object at 0x7f6d6d5f6748>\n"
          ],
          "name": "stderr"
        },
        {
          "output_type": "stream",
          "text": [
            "range(3060000, 3070000)\n"
          ],
          "name": "stdout"
        },
        {
          "output_type": "stream",
          "text": [
            "ERROR:asyncio:Unclosed client session\n",
            "client_session: <aiohttp.client.ClientSession object at 0x7f6d6550c748>\n"
          ],
          "name": "stderr"
        },
        {
          "output_type": "stream",
          "text": [
            "++ 7872 https://sss.krasilnikov.spb.ru/class/4/uploader/file/1553067872_527_sem8.ipynb {\n",
            " \"cells\": [\n",
            "  {\n",
            "   \"cell_type\": \"markdown\",\n",
            "   \"metadata\": {},\n",
            "   \"source\": [\n",
            "    \"Семинар 8\\n\",\n",
            "    \"==\\n\",\n",
            "    \"\\n\",\n",
            "    \"На этом занятии вам дается на выполнение работы ровно 1 час. Время продлеваться **строго не будет**.\\n\",\n",
            "    \"\\n\",\n",
            "    \"На этом занятии вы делаете работу в произвольных подгруппах не менее 3 и не более 5 человек. Состав подгруппы определяется в начале пары и не может меняться. Коммуникация вне подгрупп любым способом ведет к выставлению оценки 0 за работу у всей подгруппы. Излишне бурные обсуждения внутри подгруппы, мешающие работе окружающих, повлекут за собой предупреждение, при повторном предупреждении нарушители будут удалены.\\n\",\n",
            "    \"\\n\",\n",
            "    \"Просмотр на мобильном телефоне или компьютере чужих или своих прошлых работ запрещено и ведет к выставлению оценки 0 за работу у всей подгруппы.\\n\",\n",
            "    \"\\n\",\n",
            "    \"Преподаватели и ассистенты не подсказывают и не дают ответы на вопросы в ходе выполнения задания. \\n\",\n",
            "    \"\\n\",\n",
            "    \"Работа делится на две части:\\n\",\n",
            "    \"* Обязательную - оценка выставляется за этот вид работы каждой подгруппе 4% от итоговой.\\n\",\n",
            "    \"* Произвольная - бонусная оценка выставляется трем подгруппам во всем потоке из числа тех, кто выполнил обязательную часть работы на оценку не ниже 9 и дальше всех продвинулся в выполнении произвольной части. Бонусная оценка за решение произвольного задания составляет не менее 2% и не более 6%.\\n\",\n",
            "    \"\\n\",\n",
            "    \"При проверке работ будет учитываться уникальность и самостоятельность написания кода. Пожалуйста, по окончании семинара позаботьтесь об удалении файлов семинара с компьютера - это в ваших интересах. Также, обращаем ваше внимание, что делиться текстом задания с коллегами не в ваших интересах - таким образом вы лишаете себя шанса на получение бонусных баллов.\\n\",\n",
            "    \"\\n\",\n",
            "    \"Код оформляется в единый .ipynb файл и загружается из-под одного студента. Список студентов подгруппы записывается в следующую ячейку\\n\",\n",
            "    \"\\n\",\n",
            "    \"-------\"\n",
            "   ]\n",
            "  },\n",
            "  {\n",
            "   \"cell_type\": \"markdown\",\n",
            "   \"metadata\": {},\n",
            "   \"source\": [\n",
            "    \"Впишите имена, фамилии участников подгруппы\"\n",
            "   ]\n",
            "  },\n",
            "  {\n",
            "   \"cell_type\": \"markdown\",\n",
            "   \"metadata\": {},\n",
            "   \"source\": [\n",
            "    \"-------\\n\",\n",
            "    \"\\n\",\n",
            "    \"**Обязательная программа**\\n\",\n",
            "    \"* Выполнить загрузку данных по продаваемым автомобилям [отсюда](https://sss.krasilnikov.spb.ru/classcl/2019-8/seller)\\n\",\n",
            "    \"\\n\",\n",
            "    \"* Создать одну таблицу auto на сервере [баз данных](https://sss.krasilnikov.spb.ru/classsql) для хранения всех параметров каждой продаваемой машины (марка (в нижнем регистре), тип кузова, стоимость (знак доллара и лишние символы удалить) и все параметры со страницы продаваемого объекта).\\n\",\n",
            "    \"\\n\",\n",
            "    \"**Произвольная программа**\\n\",\n",
            "    \"* По каждому автомобилю выполнить проверку на штрафы используя [этот сервис](https://sss.krasilnikov.spb.ru/classcl/2019-8/shtrafy). Данные о штрафах поместить в таблицу fines на сервере баз данных.\\n\",\n",
            "    \"\\n\",\n",
            "    \"* Найти три машины в каждом кузове с наименьшими значениями критерия (цена + 100$ * число штрафов)/объем двигателя\\n\",\n",
            "    \" * примечание - число штрафов, где недоступно, считать равным 0\\n\"\n",
            "   ]\n",
            "  },\n",
            "  {\n",
            "   \"cell_type\": \"code\",\n",
            "   \"execution_count\": null,\n",
            "   \"metadata\": {},\n",
            "   \"outputs\": [],\n",
            "   \"source\": []\n",
            "  }\n",
            " ],\n",
            " \"metadata\": {\n",
            "  \"kernelspec\": {\n",
            "   \"display_name\": \"Python 3\",\n",
            "   \"language\": \"python\",\n",
            "   \"name\": \"python3\"\n",
            "  },\n",
            "  \"language_info\": {\n",
            "   \"codemirror_mode\": {\n",
            "    \"name\": \"ipython\",\n",
            "    \"version\": 3\n",
            "   },\n",
            "   \"file_extension\": \".py\",\n",
            "   \"mimetype\": \"text/x-python\",\n",
            "   \"name\": \"python\",\n",
            "   \"nbconvert_exporter\": \"python\",\n",
            "   \"pygments_lexer\": \"ipython3\",\n",
            "   \"version\": \"3.6.5\"\n",
            "  }\n",
            " },\n",
            " \"nbformat\": 4,\n",
            " \"nbformat_minor\": 2\n",
            "}\n",
            "\n",
            "[]\n"
          ],
          "name": "stdout"
        },
        {
          "output_type": "stream",
          "text": [
            "ERROR:asyncio:Unclosed client session\n",
            "client_session: <aiohttp.client.ClientSession object at 0x7f6d67bf2eb8>\n"
          ],
          "name": "stderr"
        },
        {
          "output_type": "stream",
          "text": [
            "range(3070000, 3080000)\n"
          ],
          "name": "stdout"
        },
        {
          "output_type": "error",
          "ename": "KeyboardInterrupt",
          "evalue": "ignored",
          "traceback": [
            "\u001b[0;31m---------------------------------------------------------------------------\u001b[0m",
            "\u001b[0;31mKeyboardInterrupt\u001b[0m                         Traceback (most recent call last)",
            "\u001b[0;32m<ipython-input-9-0bb08aadf9c7>\u001b[0m in \u001b[0;36m<module>\u001b[0;34m()\u001b[0m\n\u001b[1;32m     44\u001b[0m     \u001b[0mprint\u001b[0m\u001b[0;34m(\u001b[0m\u001b[0mRANGE\u001b[0m\u001b[0;34m)\u001b[0m\u001b[0;34m\u001b[0m\u001b[0;34m\u001b[0m\u001b[0m\n\u001b[1;32m     45\u001b[0m \u001b[0;34m\u001b[0m\u001b[0m\n\u001b[0;32m---> 46\u001b[0;31m     \u001b[0mfetch\u001b[0m\u001b[0;34m(\u001b[0m\u001b[0mRANGE\u001b[0m\u001b[0;34m)\u001b[0m\u001b[0;34m\u001b[0m\u001b[0;34m\u001b[0m\u001b[0m\n\u001b[0m\u001b[1;32m     47\u001b[0m \u001b[0;34m\u001b[0m\u001b[0m\n\u001b[1;32m     48\u001b[0m \u001b[0;34m\u001b[0m\u001b[0m\n",
            "\u001b[0;32m<ipython-input-9-0bb08aadf9c7>\u001b[0m in \u001b[0;36mfetch\u001b[0;34m(ids)\u001b[0m\n\u001b[1;32m     24\u001b[0m             \u001b[0mawait\u001b[0m \u001b[0msession\u001b[0m\u001b[0;34m.\u001b[0m\u001b[0mpost\u001b[0m\u001b[0;34m(\u001b[0m\u001b[0mHOST\u001b[0m\u001b[0;34m,\u001b[0m \u001b[0mdata\u001b[0m\u001b[0;34m=\u001b[0m\u001b[0;34m{\u001b[0m\u001b[0;34m'login'\u001b[0m\u001b[0;34m:\u001b[0m \u001b[0mLOGIN\u001b[0m\u001b[0;34m,\u001b[0m \u001b[0;34m'pass'\u001b[0m\u001b[0;34m:\u001b[0m \u001b[0mPWD\u001b[0m\u001b[0;34m}\u001b[0m\u001b[0;34m)\u001b[0m\u001b[0;34m\u001b[0m\u001b[0;34m\u001b[0m\u001b[0m\n\u001b[1;32m     25\u001b[0m             \u001b[0;32mreturn\u001b[0m \u001b[0mawait\u001b[0m \u001b[0masyncio\u001b[0m\u001b[0;34m.\u001b[0m\u001b[0mgather\u001b[0m\u001b[0;34m(\u001b[0m\u001b[0;34m*\u001b[0m\u001b[0;34m[\u001b[0m\u001b[0mfetch_bound\u001b[0m\u001b[0;34m(\u001b[0m\u001b[0msemaphore\u001b[0m\u001b[0;34m,\u001b[0m \u001b[0msession\u001b[0m\u001b[0;34m,\u001b[0m \u001b[0mURL\u001b[0m\u001b[0;34m.\u001b[0m\u001b[0mformat\u001b[0m\u001b[0;34m(\u001b[0m\u001b[0mi\u001b[0m\u001b[0;34m)\u001b[0m\u001b[0;34m)\u001b[0m \u001b[0;32mfor\u001b[0m \u001b[0mi\u001b[0m \u001b[0;32min\u001b[0m \u001b[0mids\u001b[0m\u001b[0;34m]\u001b[0m\u001b[0;34m)\u001b[0m\u001b[0;34m\u001b[0m\u001b[0;34m\u001b[0m\u001b[0m\n\u001b[0;32m---> 26\u001b[0;31m     \u001b[0mresponses\u001b[0m \u001b[0;34m=\u001b[0m \u001b[0masyncio\u001b[0m\u001b[0;34m.\u001b[0m\u001b[0mget_event_loop\u001b[0m\u001b[0;34m(\u001b[0m\u001b[0;34m)\u001b[0m\u001b[0;34m.\u001b[0m\u001b[0mrun_until_complete\u001b[0m\u001b[0;34m(\u001b[0m\u001b[0mfetch_all\u001b[0m\u001b[0;34m(\u001b[0m\u001b[0mids\u001b[0m\u001b[0;34m)\u001b[0m\u001b[0;34m)\u001b[0m\u001b[0;34m\u001b[0m\u001b[0;34m\u001b[0m\u001b[0m\n\u001b[0m\u001b[1;32m     27\u001b[0m     \u001b[0mretry\u001b[0m \u001b[0;34m=\u001b[0m \u001b[0;34m[\u001b[0m\u001b[0;34m]\u001b[0m\u001b[0;34m\u001b[0m\u001b[0;34m\u001b[0m\u001b[0m\n\u001b[1;32m     28\u001b[0m     \u001b[0;32mfor\u001b[0m \u001b[0mi\u001b[0m\u001b[0;34m,\u001b[0m \u001b[0mresponse\u001b[0m \u001b[0;32min\u001b[0m \u001b[0menumerate\u001b[0m\u001b[0;34m(\u001b[0m\u001b[0mresponses\u001b[0m\u001b[0;34m)\u001b[0m\u001b[0;34m:\u001b[0m\u001b[0;34m\u001b[0m\u001b[0;34m\u001b[0m\u001b[0m\n",
            "\u001b[0;32m/usr/lib/python3.6/asyncio/base_events.py\u001b[0m in \u001b[0;36mrun_until_complete\u001b[0;34m(self, future)\u001b[0m\n\u001b[1;32m    458\u001b[0m         \u001b[0mfuture\u001b[0m\u001b[0;34m.\u001b[0m\u001b[0madd_done_callback\u001b[0m\u001b[0;34m(\u001b[0m\u001b[0m_run_until_complete_cb\u001b[0m\u001b[0;34m)\u001b[0m\u001b[0;34m\u001b[0m\u001b[0;34m\u001b[0m\u001b[0m\n\u001b[1;32m    459\u001b[0m         \u001b[0;32mtry\u001b[0m\u001b[0;34m:\u001b[0m\u001b[0;34m\u001b[0m\u001b[0;34m\u001b[0m\u001b[0m\n\u001b[0;32m--> 460\u001b[0;31m             \u001b[0mself\u001b[0m\u001b[0;34m.\u001b[0m\u001b[0mrun_forever\u001b[0m\u001b[0;34m(\u001b[0m\u001b[0;34m)\u001b[0m\u001b[0;34m\u001b[0m\u001b[0;34m\u001b[0m\u001b[0m\n\u001b[0m\u001b[1;32m    461\u001b[0m         \u001b[0;32mexcept\u001b[0m\u001b[0;34m:\u001b[0m\u001b[0;34m\u001b[0m\u001b[0;34m\u001b[0m\u001b[0m\n\u001b[1;32m    462\u001b[0m             \u001b[0;32mif\u001b[0m \u001b[0mnew_task\u001b[0m \u001b[0;32mand\u001b[0m \u001b[0mfuture\u001b[0m\u001b[0;34m.\u001b[0m\u001b[0mdone\u001b[0m\u001b[0;34m(\u001b[0m\u001b[0;34m)\u001b[0m \u001b[0;32mand\u001b[0m \u001b[0;32mnot\u001b[0m \u001b[0mfuture\u001b[0m\u001b[0;34m.\u001b[0m\u001b[0mcancelled\u001b[0m\u001b[0;34m(\u001b[0m\u001b[0;34m)\u001b[0m\u001b[0;34m:\u001b[0m\u001b[0;34m\u001b[0m\u001b[0;34m\u001b[0m\u001b[0m\n",
            "\u001b[0;32m/usr/lib/python3.6/asyncio/base_events.py\u001b[0m in \u001b[0;36mrun_forever\u001b[0;34m(self)\u001b[0m\n\u001b[1;32m    425\u001b[0m             \u001b[0mevents\u001b[0m\u001b[0;34m.\u001b[0m\u001b[0m_set_running_loop\u001b[0m\u001b[0;34m(\u001b[0m\u001b[0mself\u001b[0m\u001b[0;34m)\u001b[0m\u001b[0;34m\u001b[0m\u001b[0;34m\u001b[0m\u001b[0m\n\u001b[1;32m    426\u001b[0m             \u001b[0;32mwhile\u001b[0m \u001b[0;32mTrue\u001b[0m\u001b[0;34m:\u001b[0m\u001b[0;34m\u001b[0m\u001b[0;34m\u001b[0m\u001b[0m\n\u001b[0;32m--> 427\u001b[0;31m                 \u001b[0mself\u001b[0m\u001b[0;34m.\u001b[0m\u001b[0m_run_once\u001b[0m\u001b[0;34m(\u001b[0m\u001b[0;34m)\u001b[0m\u001b[0;34m\u001b[0m\u001b[0;34m\u001b[0m\u001b[0m\n\u001b[0m\u001b[1;32m    428\u001b[0m                 \u001b[0;32mif\u001b[0m \u001b[0mself\u001b[0m\u001b[0;34m.\u001b[0m\u001b[0m_stopping\u001b[0m\u001b[0;34m:\u001b[0m\u001b[0;34m\u001b[0m\u001b[0;34m\u001b[0m\u001b[0m\n\u001b[1;32m    429\u001b[0m                     \u001b[0;32mbreak\u001b[0m\u001b[0;34m\u001b[0m\u001b[0;34m\u001b[0m\u001b[0m\n",
            "\u001b[0;32m/usr/lib/python3.6/asyncio/base_events.py\u001b[0m in \u001b[0;36m_run_once\u001b[0;34m(self)\u001b[0m\n\u001b[1;32m   1402\u001b[0m                            timeout * 1e3, dt * 1e3)\n\u001b[1;32m   1403\u001b[0m         \u001b[0;32melse\u001b[0m\u001b[0;34m:\u001b[0m\u001b[0;34m\u001b[0m\u001b[0;34m\u001b[0m\u001b[0m\n\u001b[0;32m-> 1404\u001b[0;31m             \u001b[0mevent_list\u001b[0m \u001b[0;34m=\u001b[0m \u001b[0mself\u001b[0m\u001b[0;34m.\u001b[0m\u001b[0m_selector\u001b[0m\u001b[0;34m.\u001b[0m\u001b[0mselect\u001b[0m\u001b[0;34m(\u001b[0m\u001b[0mtimeout\u001b[0m\u001b[0;34m)\u001b[0m\u001b[0;34m\u001b[0m\u001b[0;34m\u001b[0m\u001b[0m\n\u001b[0m\u001b[1;32m   1405\u001b[0m         \u001b[0mself\u001b[0m\u001b[0;34m.\u001b[0m\u001b[0m_process_events\u001b[0m\u001b[0;34m(\u001b[0m\u001b[0mevent_list\u001b[0m\u001b[0;34m)\u001b[0m\u001b[0;34m\u001b[0m\u001b[0;34m\u001b[0m\u001b[0m\n\u001b[1;32m   1406\u001b[0m \u001b[0;34m\u001b[0m\u001b[0m\n",
            "\u001b[0;32m/usr/lib/python3.6/selectors.py\u001b[0m in \u001b[0;36mselect\u001b[0;34m(self, timeout)\u001b[0m\n\u001b[1;32m    443\u001b[0m             \u001b[0mready\u001b[0m \u001b[0;34m=\u001b[0m \u001b[0;34m[\u001b[0m\u001b[0;34m]\u001b[0m\u001b[0;34m\u001b[0m\u001b[0;34m\u001b[0m\u001b[0m\n\u001b[1;32m    444\u001b[0m             \u001b[0;32mtry\u001b[0m\u001b[0;34m:\u001b[0m\u001b[0;34m\u001b[0m\u001b[0;34m\u001b[0m\u001b[0m\n\u001b[0;32m--> 445\u001b[0;31m                 \u001b[0mfd_event_list\u001b[0m \u001b[0;34m=\u001b[0m \u001b[0mself\u001b[0m\u001b[0;34m.\u001b[0m\u001b[0m_epoll\u001b[0m\u001b[0;34m.\u001b[0m\u001b[0mpoll\u001b[0m\u001b[0;34m(\u001b[0m\u001b[0mtimeout\u001b[0m\u001b[0;34m,\u001b[0m \u001b[0mmax_ev\u001b[0m\u001b[0;34m)\u001b[0m\u001b[0;34m\u001b[0m\u001b[0;34m\u001b[0m\u001b[0m\n\u001b[0m\u001b[1;32m    446\u001b[0m             \u001b[0;32mexcept\u001b[0m \u001b[0mInterruptedError\u001b[0m\u001b[0;34m:\u001b[0m\u001b[0;34m\u001b[0m\u001b[0;34m\u001b[0m\u001b[0m\n\u001b[1;32m    447\u001b[0m                 \u001b[0;32mreturn\u001b[0m \u001b[0mready\u001b[0m\u001b[0;34m\u001b[0m\u001b[0;34m\u001b[0m\u001b[0m\n",
            "\u001b[0;31mKeyboardInterrupt\u001b[0m: "
          ]
        }
      ]
    },
    {
      "cell_type": "code",
      "metadata": {
        "id": "GpZ9qh32tskj",
        "colab": {
          "base_uri": "https://localhost:8080/",
          "height": 54
        },
        "outputId": "c1306cb2-73e4-4254-f092-f21f5fb89db3"
      },
      "source": [
        "import aiohttp , asyncio\n",
        "HOST = 'https://sss.krasilnikov.spb.ru/auth'\n",
        "LOGIN = 'gksigalov@edu.hse.ru'\n",
        "PWD = 'qwera132'\n",
        "URL = 'https://sss.krasilnikov.spb.ru/class/4/uploader/file/155{}_527_sem8.ipynb'\n",
        "START = 2960000\n",
        "\n",
        "# URL = 'https://sss.krasilnikov.spb.ru/class/4/uploader/file/155{}_714_lect8.ipynb'\n",
        "# START = 2543000\n",
        "\n",
        "def fetch(ids):\n",
        "    async def fetch_one(session, url):\n",
        "        async with session.get(url) as response:\n",
        "            return await response.text()\n",
        "\n",
        "    async def fetch_bound(semaphore, session, url):\n",
        "        async with semaphore:\n",
        "            return await fetch_one(session, url)\n",
        "\n",
        "    async def fetch_all(ids):\n",
        "        semaphore = asyncio.Semaphore(1_000)\n",
        "        session = aiohttp.ClientSession()\n",
        "        async with aiohttp.ClientSession() as session:\n",
        "            await session.post(HOST, data={'login': LOGIN, 'pass': PWD})\n",
        "            return await asyncio.gather(*[fetch_bound(semaphore, session, URL.format(i)) for i in ids])\n",
        "    responses = asyncio.get_event_loop().run_until_complete(fetch_all(ids))\n",
        "    for i, response in enumerate(responses):\n",
        "        if 'Данного файла нет' not in response:\n",
        "            print('++', URL.format(ids[i]), response)\n",
        "\n",
        "fetch(range(3_000_000, 3_010_000))"
      ],
      "execution_count": null,
      "outputs": [
        {
          "output_type": "stream",
          "text": [
            "Unclosed client session\n",
            "client_session: <aiohttp.client.ClientSession object at 0x7f6d6cae98d0>\n"
          ],
          "name": "stderr"
        }
      ]
    },
    {
      "cell_type": "code",
      "metadata": {
        "id": "-tP9dTWOhgpP",
        "colab": {
          "base_uri": "https://localhost:8080/",
          "height": 3500
        },
        "outputId": "9d1bcf36-789d-4c57-cee8-a0df2eba4a86"
      },
      "source": [
        "# HOST = 'https://sss.krasilnikov.spb.ru/auth'\n",
        "# LOGIN = 'gksigalov@edu.hse.ru'\n",
        "# PWD = 'qwera132'\n",
        "# URL = 'https://sss.krasilnikov.spb.ru/class/4/uploader/file/155{}_527_sem8.ipynb'\n",
        "# START = 2580000\n",
        "# END = 50000 \n",
        "# RANGE = range(START, START + END)\n",
        "\n",
        "# with requests.Session() as session:\n",
        "#     session.post(HOST, {'login': LOGIN, 'pass': PWD})\n",
        "    \n",
        "#     for i in RANGE:\n",
        "#         if i % 200 == 0:\n",
        "#             print(i)\n",
        "#         url = URL.format(i)\n",
        "#         response = session.get(url)\n",
        "#         if 'Данного файла нет' not in response.text:\n",
        "#             print('++', url)"
      ],
      "execution_count": null,
      "outputs": [
        {
          "output_type": "stream",
          "text": [
            "2564800\n",
            "2565000\n",
            "2565200\n",
            "2565400\n",
            "2565600\n",
            "2565800\n",
            "2566000\n",
            "2566200\n",
            "2566400\n",
            "2566600\n",
            "2566800\n",
            "2567000\n",
            "2567200\n",
            "2567400\n",
            "2567600\n",
            "2567800\n",
            "2568000\n",
            "2568200\n",
            "2568400\n",
            "2568600\n",
            "2568800\n",
            "2569000\n",
            "2569200\n",
            "2569400\n",
            "2569600\n",
            "2569800\n",
            "2570000\n",
            "2570200\n",
            "2570400\n",
            "2570600\n",
            "2570800\n",
            "2571000\n",
            "2571200\n",
            "2571400\n",
            "2571600\n",
            "2571800\n",
            "2572000\n",
            "2572200\n",
            "2572400\n",
            "2572600\n",
            "2572800\n",
            "2573000\n",
            "2573200\n",
            "2573400\n",
            "2573600\n",
            "2573800\n",
            "2574000\n",
            "2574200\n",
            "2574400\n",
            "2574600\n",
            "2574800\n",
            "2575000\n",
            "2575200\n",
            "2575400\n",
            "2575600\n",
            "2575800\n",
            "2576000\n",
            "2576200\n",
            "2576400\n",
            "2576600\n",
            "2576800\n",
            "2577000\n",
            "2577200\n",
            "2577400\n",
            "2577600\n",
            "2577800\n",
            "2578000\n",
            "2578200\n",
            "2578400\n",
            "2578600\n",
            "2578800\n",
            "2579000\n",
            "2579200\n",
            "2579400\n",
            "2579600\n",
            "2579800\n",
            "2580000\n"
          ],
          "name": "stdout"
        },
        {
          "output_type": "error",
          "ename": "KeyboardInterrupt",
          "evalue": "ignored",
          "traceback": [
            "\u001b[0;31m---------------------------------------------------------------------------\u001b[0m",
            "\u001b[0;31mTypeError\u001b[0m                                 Traceback (most recent call last)",
            "\u001b[0;32m/usr/local/lib/python3.6/dist-packages/urllib3/connectionpool.py\u001b[0m in \u001b[0;36m_make_request\u001b[0;34m(self, conn, method, url, timeout, chunked, **httplib_request_kw)\u001b[0m\n\u001b[1;32m    379\u001b[0m             \u001b[0;32mtry\u001b[0m\u001b[0;34m:\u001b[0m  \u001b[0;31m# Python 2.7, use buffering of HTTP responses\u001b[0m\u001b[0;34m\u001b[0m\u001b[0;34m\u001b[0m\u001b[0m\n\u001b[0;32m--> 380\u001b[0;31m                 \u001b[0mhttplib_response\u001b[0m \u001b[0;34m=\u001b[0m \u001b[0mconn\u001b[0m\u001b[0;34m.\u001b[0m\u001b[0mgetresponse\u001b[0m\u001b[0;34m(\u001b[0m\u001b[0mbuffering\u001b[0m\u001b[0;34m=\u001b[0m\u001b[0;32mTrue\u001b[0m\u001b[0;34m)\u001b[0m\u001b[0;34m\u001b[0m\u001b[0;34m\u001b[0m\u001b[0m\n\u001b[0m\u001b[1;32m    381\u001b[0m             \u001b[0;32mexcept\u001b[0m \u001b[0mTypeError\u001b[0m\u001b[0;34m:\u001b[0m  \u001b[0;31m# Python 2.6 and older, Python 3\u001b[0m\u001b[0;34m\u001b[0m\u001b[0;34m\u001b[0m\u001b[0m\n",
            "\u001b[0;31mTypeError\u001b[0m: getresponse() got an unexpected keyword argument 'buffering'",
            "\nDuring handling of the above exception, another exception occurred:\n",
            "\u001b[0;31mKeyboardInterrupt\u001b[0m                         Traceback (most recent call last)",
            "\u001b[0;32m<ipython-input-28-73cff41464d4>\u001b[0m in \u001b[0;36m<module>\u001b[0;34m()\u001b[0m\n\u001b[1;32m     14\u001b[0m             \u001b[0mprint\u001b[0m\u001b[0;34m(\u001b[0m\u001b[0mi\u001b[0m\u001b[0;34m)\u001b[0m\u001b[0;34m\u001b[0m\u001b[0;34m\u001b[0m\u001b[0m\n\u001b[1;32m     15\u001b[0m         \u001b[0murl\u001b[0m \u001b[0;34m=\u001b[0m \u001b[0mURL\u001b[0m\u001b[0;34m.\u001b[0m\u001b[0mformat\u001b[0m\u001b[0;34m(\u001b[0m\u001b[0mi\u001b[0m\u001b[0;34m)\u001b[0m\u001b[0;34m\u001b[0m\u001b[0;34m\u001b[0m\u001b[0m\n\u001b[0;32m---> 16\u001b[0;31m         \u001b[0mresponse\u001b[0m \u001b[0;34m=\u001b[0m \u001b[0msession\u001b[0m\u001b[0;34m.\u001b[0m\u001b[0mget\u001b[0m\u001b[0;34m(\u001b[0m\u001b[0murl\u001b[0m\u001b[0;34m)\u001b[0m\u001b[0;34m\u001b[0m\u001b[0;34m\u001b[0m\u001b[0m\n\u001b[0m\u001b[1;32m     17\u001b[0m         \u001b[0;32mif\u001b[0m \u001b[0;34m'Данного файла нет'\u001b[0m \u001b[0;32mnot\u001b[0m \u001b[0;32min\u001b[0m \u001b[0mresponse\u001b[0m\u001b[0;34m.\u001b[0m\u001b[0mtext\u001b[0m\u001b[0;34m:\u001b[0m\u001b[0;34m\u001b[0m\u001b[0;34m\u001b[0m\u001b[0m\n\u001b[1;32m     18\u001b[0m             \u001b[0mprint\u001b[0m\u001b[0;34m(\u001b[0m\u001b[0;34m'++'\u001b[0m\u001b[0;34m,\u001b[0m \u001b[0murl\u001b[0m\u001b[0;34m)\u001b[0m\u001b[0;34m\u001b[0m\u001b[0;34m\u001b[0m\u001b[0m\n",
            "\u001b[0;32m/usr/local/lib/python3.6/dist-packages/requests/sessions.py\u001b[0m in \u001b[0;36mget\u001b[0;34m(self, url, **kwargs)\u001b[0m\n\u001b[1;32m    519\u001b[0m \u001b[0;34m\u001b[0m\u001b[0m\n\u001b[1;32m    520\u001b[0m         \u001b[0mkwargs\u001b[0m\u001b[0;34m.\u001b[0m\u001b[0msetdefault\u001b[0m\u001b[0;34m(\u001b[0m\u001b[0;34m'allow_redirects'\u001b[0m\u001b[0;34m,\u001b[0m \u001b[0;32mTrue\u001b[0m\u001b[0;34m)\u001b[0m\u001b[0;34m\u001b[0m\u001b[0;34m\u001b[0m\u001b[0m\n\u001b[0;32m--> 521\u001b[0;31m         \u001b[0;32mreturn\u001b[0m \u001b[0mself\u001b[0m\u001b[0;34m.\u001b[0m\u001b[0mrequest\u001b[0m\u001b[0;34m(\u001b[0m\u001b[0;34m'GET'\u001b[0m\u001b[0;34m,\u001b[0m \u001b[0murl\u001b[0m\u001b[0;34m,\u001b[0m \u001b[0;34m**\u001b[0m\u001b[0mkwargs\u001b[0m\u001b[0;34m)\u001b[0m\u001b[0;34m\u001b[0m\u001b[0;34m\u001b[0m\u001b[0m\n\u001b[0m\u001b[1;32m    522\u001b[0m \u001b[0;34m\u001b[0m\u001b[0m\n\u001b[1;32m    523\u001b[0m     \u001b[0;32mdef\u001b[0m \u001b[0moptions\u001b[0m\u001b[0;34m(\u001b[0m\u001b[0mself\u001b[0m\u001b[0;34m,\u001b[0m \u001b[0murl\u001b[0m\u001b[0;34m,\u001b[0m \u001b[0;34m**\u001b[0m\u001b[0mkwargs\u001b[0m\u001b[0;34m)\u001b[0m\u001b[0;34m:\u001b[0m\u001b[0;34m\u001b[0m\u001b[0;34m\u001b[0m\u001b[0m\n",
            "\u001b[0;32m/usr/local/lib/python3.6/dist-packages/requests/sessions.py\u001b[0m in \u001b[0;36mrequest\u001b[0;34m(self, method, url, params, data, headers, cookies, files, auth, timeout, allow_redirects, proxies, hooks, stream, verify, cert, json)\u001b[0m\n\u001b[1;32m    506\u001b[0m         }\n\u001b[1;32m    507\u001b[0m         \u001b[0msend_kwargs\u001b[0m\u001b[0;34m.\u001b[0m\u001b[0mupdate\u001b[0m\u001b[0;34m(\u001b[0m\u001b[0msettings\u001b[0m\u001b[0;34m)\u001b[0m\u001b[0;34m\u001b[0m\u001b[0;34m\u001b[0m\u001b[0m\n\u001b[0;32m--> 508\u001b[0;31m         \u001b[0mresp\u001b[0m \u001b[0;34m=\u001b[0m \u001b[0mself\u001b[0m\u001b[0;34m.\u001b[0m\u001b[0msend\u001b[0m\u001b[0;34m(\u001b[0m\u001b[0mprep\u001b[0m\u001b[0;34m,\u001b[0m \u001b[0;34m**\u001b[0m\u001b[0msend_kwargs\u001b[0m\u001b[0;34m)\u001b[0m\u001b[0;34m\u001b[0m\u001b[0;34m\u001b[0m\u001b[0m\n\u001b[0m\u001b[1;32m    509\u001b[0m \u001b[0;34m\u001b[0m\u001b[0m\n\u001b[1;32m    510\u001b[0m         \u001b[0;32mreturn\u001b[0m \u001b[0mresp\u001b[0m\u001b[0;34m\u001b[0m\u001b[0;34m\u001b[0m\u001b[0m\n",
            "\u001b[0;32m/usr/local/lib/python3.6/dist-packages/requests/sessions.py\u001b[0m in \u001b[0;36msend\u001b[0;34m(self, request, **kwargs)\u001b[0m\n\u001b[1;32m    616\u001b[0m \u001b[0;34m\u001b[0m\u001b[0m\n\u001b[1;32m    617\u001b[0m         \u001b[0;31m# Send the request\u001b[0m\u001b[0;34m\u001b[0m\u001b[0;34m\u001b[0m\u001b[0;34m\u001b[0m\u001b[0m\n\u001b[0;32m--> 618\u001b[0;31m         \u001b[0mr\u001b[0m \u001b[0;34m=\u001b[0m \u001b[0madapter\u001b[0m\u001b[0;34m.\u001b[0m\u001b[0msend\u001b[0m\u001b[0;34m(\u001b[0m\u001b[0mrequest\u001b[0m\u001b[0;34m,\u001b[0m \u001b[0;34m**\u001b[0m\u001b[0mkwargs\u001b[0m\u001b[0;34m)\u001b[0m\u001b[0;34m\u001b[0m\u001b[0;34m\u001b[0m\u001b[0m\n\u001b[0m\u001b[1;32m    619\u001b[0m \u001b[0;34m\u001b[0m\u001b[0m\n\u001b[1;32m    620\u001b[0m         \u001b[0;31m# Total elapsed time of the request (approximately)\u001b[0m\u001b[0;34m\u001b[0m\u001b[0;34m\u001b[0m\u001b[0;34m\u001b[0m\u001b[0m\n",
            "\u001b[0;32m/usr/local/lib/python3.6/dist-packages/requests/adapters.py\u001b[0m in \u001b[0;36msend\u001b[0;34m(self, request, stream, timeout, verify, cert, proxies)\u001b[0m\n\u001b[1;32m    438\u001b[0m                     \u001b[0mdecode_content\u001b[0m\u001b[0;34m=\u001b[0m\u001b[0;32mFalse\u001b[0m\u001b[0;34m,\u001b[0m\u001b[0;34m\u001b[0m\u001b[0;34m\u001b[0m\u001b[0m\n\u001b[1;32m    439\u001b[0m                     \u001b[0mretries\u001b[0m\u001b[0;34m=\u001b[0m\u001b[0mself\u001b[0m\u001b[0;34m.\u001b[0m\u001b[0mmax_retries\u001b[0m\u001b[0;34m,\u001b[0m\u001b[0;34m\u001b[0m\u001b[0;34m\u001b[0m\u001b[0m\n\u001b[0;32m--> 440\u001b[0;31m                     \u001b[0mtimeout\u001b[0m\u001b[0;34m=\u001b[0m\u001b[0mtimeout\u001b[0m\u001b[0;34m\u001b[0m\u001b[0;34m\u001b[0m\u001b[0m\n\u001b[0m\u001b[1;32m    441\u001b[0m                 )\n\u001b[1;32m    442\u001b[0m \u001b[0;34m\u001b[0m\u001b[0m\n",
            "\u001b[0;32m/usr/local/lib/python3.6/dist-packages/urllib3/connectionpool.py\u001b[0m in \u001b[0;36murlopen\u001b[0;34m(self, method, url, body, headers, retries, redirect, assert_same_host, timeout, pool_timeout, release_conn, chunked, body_pos, **response_kw)\u001b[0m\n\u001b[1;32m    599\u001b[0m                                                   \u001b[0mtimeout\u001b[0m\u001b[0;34m=\u001b[0m\u001b[0mtimeout_obj\u001b[0m\u001b[0;34m,\u001b[0m\u001b[0;34m\u001b[0m\u001b[0;34m\u001b[0m\u001b[0m\n\u001b[1;32m    600\u001b[0m                                                   \u001b[0mbody\u001b[0m\u001b[0;34m=\u001b[0m\u001b[0mbody\u001b[0m\u001b[0;34m,\u001b[0m \u001b[0mheaders\u001b[0m\u001b[0;34m=\u001b[0m\u001b[0mheaders\u001b[0m\u001b[0;34m,\u001b[0m\u001b[0;34m\u001b[0m\u001b[0;34m\u001b[0m\u001b[0m\n\u001b[0;32m--> 601\u001b[0;31m                                                   chunked=chunked)\n\u001b[0m\u001b[1;32m    602\u001b[0m \u001b[0;34m\u001b[0m\u001b[0m\n\u001b[1;32m    603\u001b[0m             \u001b[0;31m# If we're going to release the connection in ``finally:``, then\u001b[0m\u001b[0;34m\u001b[0m\u001b[0;34m\u001b[0m\u001b[0;34m\u001b[0m\u001b[0m\n",
            "\u001b[0;32m/usr/local/lib/python3.6/dist-packages/urllib3/connectionpool.py\u001b[0m in \u001b[0;36m_make_request\u001b[0;34m(self, conn, method, url, timeout, chunked, **httplib_request_kw)\u001b[0m\n\u001b[1;32m    381\u001b[0m             \u001b[0;32mexcept\u001b[0m \u001b[0mTypeError\u001b[0m\u001b[0;34m:\u001b[0m  \u001b[0;31m# Python 2.6 and older, Python 3\u001b[0m\u001b[0;34m\u001b[0m\u001b[0;34m\u001b[0m\u001b[0m\n\u001b[1;32m    382\u001b[0m                 \u001b[0;32mtry\u001b[0m\u001b[0;34m:\u001b[0m\u001b[0;34m\u001b[0m\u001b[0;34m\u001b[0m\u001b[0m\n\u001b[0;32m--> 383\u001b[0;31m                     \u001b[0mhttplib_response\u001b[0m \u001b[0;34m=\u001b[0m \u001b[0mconn\u001b[0m\u001b[0;34m.\u001b[0m\u001b[0mgetresponse\u001b[0m\u001b[0;34m(\u001b[0m\u001b[0;34m)\u001b[0m\u001b[0;34m\u001b[0m\u001b[0;34m\u001b[0m\u001b[0m\n\u001b[0m\u001b[1;32m    384\u001b[0m                 \u001b[0;32mexcept\u001b[0m \u001b[0mException\u001b[0m \u001b[0;32mas\u001b[0m \u001b[0me\u001b[0m\u001b[0;34m:\u001b[0m\u001b[0;34m\u001b[0m\u001b[0;34m\u001b[0m\u001b[0m\n\u001b[1;32m    385\u001b[0m                     \u001b[0;31m# Remove the TypeError from the exception chain in Python 3;\u001b[0m\u001b[0;34m\u001b[0m\u001b[0;34m\u001b[0m\u001b[0;34m\u001b[0m\u001b[0m\n",
            "\u001b[0;32m/usr/lib/python3.6/http/client.py\u001b[0m in \u001b[0;36mgetresponse\u001b[0;34m(self)\u001b[0m\n\u001b[1;32m   1329\u001b[0m         \u001b[0;32mtry\u001b[0m\u001b[0;34m:\u001b[0m\u001b[0;34m\u001b[0m\u001b[0;34m\u001b[0m\u001b[0m\n\u001b[1;32m   1330\u001b[0m             \u001b[0;32mtry\u001b[0m\u001b[0;34m:\u001b[0m\u001b[0;34m\u001b[0m\u001b[0;34m\u001b[0m\u001b[0m\n\u001b[0;32m-> 1331\u001b[0;31m                 \u001b[0mresponse\u001b[0m\u001b[0;34m.\u001b[0m\u001b[0mbegin\u001b[0m\u001b[0;34m(\u001b[0m\u001b[0;34m)\u001b[0m\u001b[0;34m\u001b[0m\u001b[0;34m\u001b[0m\u001b[0m\n\u001b[0m\u001b[1;32m   1332\u001b[0m             \u001b[0;32mexcept\u001b[0m \u001b[0mConnectionError\u001b[0m\u001b[0;34m:\u001b[0m\u001b[0;34m\u001b[0m\u001b[0;34m\u001b[0m\u001b[0m\n\u001b[1;32m   1333\u001b[0m                 \u001b[0mself\u001b[0m\u001b[0;34m.\u001b[0m\u001b[0mclose\u001b[0m\u001b[0;34m(\u001b[0m\u001b[0;34m)\u001b[0m\u001b[0;34m\u001b[0m\u001b[0;34m\u001b[0m\u001b[0m\n",
            "\u001b[0;32m/usr/lib/python3.6/http/client.py\u001b[0m in \u001b[0;36mbegin\u001b[0;34m(self)\u001b[0m\n\u001b[1;32m    295\u001b[0m         \u001b[0;31m# read until we get a non-100 response\u001b[0m\u001b[0;34m\u001b[0m\u001b[0;34m\u001b[0m\u001b[0;34m\u001b[0m\u001b[0m\n\u001b[1;32m    296\u001b[0m         \u001b[0;32mwhile\u001b[0m \u001b[0;32mTrue\u001b[0m\u001b[0;34m:\u001b[0m\u001b[0;34m\u001b[0m\u001b[0;34m\u001b[0m\u001b[0m\n\u001b[0;32m--> 297\u001b[0;31m             \u001b[0mversion\u001b[0m\u001b[0;34m,\u001b[0m \u001b[0mstatus\u001b[0m\u001b[0;34m,\u001b[0m \u001b[0mreason\u001b[0m \u001b[0;34m=\u001b[0m \u001b[0mself\u001b[0m\u001b[0;34m.\u001b[0m\u001b[0m_read_status\u001b[0m\u001b[0;34m(\u001b[0m\u001b[0;34m)\u001b[0m\u001b[0;34m\u001b[0m\u001b[0;34m\u001b[0m\u001b[0m\n\u001b[0m\u001b[1;32m    298\u001b[0m             \u001b[0;32mif\u001b[0m \u001b[0mstatus\u001b[0m \u001b[0;34m!=\u001b[0m \u001b[0mCONTINUE\u001b[0m\u001b[0;34m:\u001b[0m\u001b[0;34m\u001b[0m\u001b[0;34m\u001b[0m\u001b[0m\n\u001b[1;32m    299\u001b[0m                 \u001b[0;32mbreak\u001b[0m\u001b[0;34m\u001b[0m\u001b[0;34m\u001b[0m\u001b[0m\n",
            "\u001b[0;32m/usr/lib/python3.6/http/client.py\u001b[0m in \u001b[0;36m_read_status\u001b[0;34m(self)\u001b[0m\n\u001b[1;32m    256\u001b[0m \u001b[0;34m\u001b[0m\u001b[0m\n\u001b[1;32m    257\u001b[0m     \u001b[0;32mdef\u001b[0m \u001b[0m_read_status\u001b[0m\u001b[0;34m(\u001b[0m\u001b[0mself\u001b[0m\u001b[0;34m)\u001b[0m\u001b[0;34m:\u001b[0m\u001b[0;34m\u001b[0m\u001b[0;34m\u001b[0m\u001b[0m\n\u001b[0;32m--> 258\u001b[0;31m         \u001b[0mline\u001b[0m \u001b[0;34m=\u001b[0m \u001b[0mstr\u001b[0m\u001b[0;34m(\u001b[0m\u001b[0mself\u001b[0m\u001b[0;34m.\u001b[0m\u001b[0mfp\u001b[0m\u001b[0;34m.\u001b[0m\u001b[0mreadline\u001b[0m\u001b[0;34m(\u001b[0m\u001b[0m_MAXLINE\u001b[0m \u001b[0;34m+\u001b[0m \u001b[0;36m1\u001b[0m\u001b[0;34m)\u001b[0m\u001b[0;34m,\u001b[0m \u001b[0;34m\"iso-8859-1\"\u001b[0m\u001b[0;34m)\u001b[0m\u001b[0;34m\u001b[0m\u001b[0;34m\u001b[0m\u001b[0m\n\u001b[0m\u001b[1;32m    259\u001b[0m         \u001b[0;32mif\u001b[0m \u001b[0mlen\u001b[0m\u001b[0;34m(\u001b[0m\u001b[0mline\u001b[0m\u001b[0;34m)\u001b[0m \u001b[0;34m>\u001b[0m \u001b[0m_MAXLINE\u001b[0m\u001b[0;34m:\u001b[0m\u001b[0;34m\u001b[0m\u001b[0;34m\u001b[0m\u001b[0m\n\u001b[1;32m    260\u001b[0m             \u001b[0;32mraise\u001b[0m \u001b[0mLineTooLong\u001b[0m\u001b[0;34m(\u001b[0m\u001b[0;34m\"status line\"\u001b[0m\u001b[0;34m)\u001b[0m\u001b[0;34m\u001b[0m\u001b[0;34m\u001b[0m\u001b[0m\n",
            "\u001b[0;32m/usr/lib/python3.6/socket.py\u001b[0m in \u001b[0;36mreadinto\u001b[0;34m(self, b)\u001b[0m\n\u001b[1;32m    584\u001b[0m         \u001b[0;32mwhile\u001b[0m \u001b[0;32mTrue\u001b[0m\u001b[0;34m:\u001b[0m\u001b[0;34m\u001b[0m\u001b[0;34m\u001b[0m\u001b[0m\n\u001b[1;32m    585\u001b[0m             \u001b[0;32mtry\u001b[0m\u001b[0;34m:\u001b[0m\u001b[0;34m\u001b[0m\u001b[0;34m\u001b[0m\u001b[0m\n\u001b[0;32m--> 586\u001b[0;31m                 \u001b[0;32mreturn\u001b[0m \u001b[0mself\u001b[0m\u001b[0;34m.\u001b[0m\u001b[0m_sock\u001b[0m\u001b[0;34m.\u001b[0m\u001b[0mrecv_into\u001b[0m\u001b[0;34m(\u001b[0m\u001b[0mb\u001b[0m\u001b[0;34m)\u001b[0m\u001b[0;34m\u001b[0m\u001b[0;34m\u001b[0m\u001b[0m\n\u001b[0m\u001b[1;32m    587\u001b[0m             \u001b[0;32mexcept\u001b[0m \u001b[0mtimeout\u001b[0m\u001b[0;34m:\u001b[0m\u001b[0;34m\u001b[0m\u001b[0;34m\u001b[0m\u001b[0m\n\u001b[1;32m    588\u001b[0m                 \u001b[0mself\u001b[0m\u001b[0;34m.\u001b[0m\u001b[0m_timeout_occurred\u001b[0m \u001b[0;34m=\u001b[0m \u001b[0;32mTrue\u001b[0m\u001b[0;34m\u001b[0m\u001b[0;34m\u001b[0m\u001b[0m\n",
            "\u001b[0;32m/usr/lib/python3.6/ssl.py\u001b[0m in \u001b[0;36mrecv_into\u001b[0;34m(self, buffer, nbytes, flags)\u001b[0m\n\u001b[1;32m   1010\u001b[0m                   \u001b[0;34m\"non-zero flags not allowed in calls to recv_into() on %s\"\u001b[0m \u001b[0;34m%\u001b[0m\u001b[0;34m\u001b[0m\u001b[0;34m\u001b[0m\u001b[0m\n\u001b[1;32m   1011\u001b[0m                   self.__class__)\n\u001b[0;32m-> 1012\u001b[0;31m             \u001b[0;32mreturn\u001b[0m \u001b[0mself\u001b[0m\u001b[0;34m.\u001b[0m\u001b[0mread\u001b[0m\u001b[0;34m(\u001b[0m\u001b[0mnbytes\u001b[0m\u001b[0;34m,\u001b[0m \u001b[0mbuffer\u001b[0m\u001b[0;34m)\u001b[0m\u001b[0;34m\u001b[0m\u001b[0;34m\u001b[0m\u001b[0m\n\u001b[0m\u001b[1;32m   1013\u001b[0m         \u001b[0;32melse\u001b[0m\u001b[0;34m:\u001b[0m\u001b[0;34m\u001b[0m\u001b[0;34m\u001b[0m\u001b[0m\n\u001b[1;32m   1014\u001b[0m             \u001b[0;32mreturn\u001b[0m \u001b[0msocket\u001b[0m\u001b[0;34m.\u001b[0m\u001b[0mrecv_into\u001b[0m\u001b[0;34m(\u001b[0m\u001b[0mself\u001b[0m\u001b[0;34m,\u001b[0m \u001b[0mbuffer\u001b[0m\u001b[0;34m,\u001b[0m \u001b[0mnbytes\u001b[0m\u001b[0;34m,\u001b[0m \u001b[0mflags\u001b[0m\u001b[0;34m)\u001b[0m\u001b[0;34m\u001b[0m\u001b[0;34m\u001b[0m\u001b[0m\n",
            "\u001b[0;32m/usr/lib/python3.6/ssl.py\u001b[0m in \u001b[0;36mread\u001b[0;34m(self, len, buffer)\u001b[0m\n\u001b[1;32m    872\u001b[0m             \u001b[0;32mraise\u001b[0m \u001b[0mValueError\u001b[0m\u001b[0;34m(\u001b[0m\u001b[0;34m\"Read on closed or unwrapped SSL socket.\"\u001b[0m\u001b[0;34m)\u001b[0m\u001b[0;34m\u001b[0m\u001b[0;34m\u001b[0m\u001b[0m\n\u001b[1;32m    873\u001b[0m         \u001b[0;32mtry\u001b[0m\u001b[0;34m:\u001b[0m\u001b[0;34m\u001b[0m\u001b[0;34m\u001b[0m\u001b[0m\n\u001b[0;32m--> 874\u001b[0;31m             \u001b[0;32mreturn\u001b[0m \u001b[0mself\u001b[0m\u001b[0;34m.\u001b[0m\u001b[0m_sslobj\u001b[0m\u001b[0;34m.\u001b[0m\u001b[0mread\u001b[0m\u001b[0;34m(\u001b[0m\u001b[0mlen\u001b[0m\u001b[0;34m,\u001b[0m \u001b[0mbuffer\u001b[0m\u001b[0;34m)\u001b[0m\u001b[0;34m\u001b[0m\u001b[0;34m\u001b[0m\u001b[0m\n\u001b[0m\u001b[1;32m    875\u001b[0m         \u001b[0;32mexcept\u001b[0m \u001b[0mSSLError\u001b[0m \u001b[0;32mas\u001b[0m \u001b[0mx\u001b[0m\u001b[0;34m:\u001b[0m\u001b[0;34m\u001b[0m\u001b[0;34m\u001b[0m\u001b[0m\n\u001b[1;32m    876\u001b[0m             \u001b[0;32mif\u001b[0m \u001b[0mx\u001b[0m\u001b[0;34m.\u001b[0m\u001b[0margs\u001b[0m\u001b[0;34m[\u001b[0m\u001b[0;36m0\u001b[0m\u001b[0;34m]\u001b[0m \u001b[0;34m==\u001b[0m \u001b[0mSSL_ERROR_EOF\u001b[0m \u001b[0;32mand\u001b[0m \u001b[0mself\u001b[0m\u001b[0;34m.\u001b[0m\u001b[0msuppress_ragged_eofs\u001b[0m\u001b[0;34m:\u001b[0m\u001b[0;34m\u001b[0m\u001b[0;34m\u001b[0m\u001b[0m\n",
            "\u001b[0;32m/usr/lib/python3.6/ssl.py\u001b[0m in \u001b[0;36mread\u001b[0;34m(self, len, buffer)\u001b[0m\n\u001b[1;32m    629\u001b[0m         \"\"\"\n\u001b[1;32m    630\u001b[0m         \u001b[0;32mif\u001b[0m \u001b[0mbuffer\u001b[0m \u001b[0;32mis\u001b[0m \u001b[0;32mnot\u001b[0m \u001b[0;32mNone\u001b[0m\u001b[0;34m:\u001b[0m\u001b[0;34m\u001b[0m\u001b[0;34m\u001b[0m\u001b[0m\n\u001b[0;32m--> 631\u001b[0;31m             \u001b[0mv\u001b[0m \u001b[0;34m=\u001b[0m \u001b[0mself\u001b[0m\u001b[0;34m.\u001b[0m\u001b[0m_sslobj\u001b[0m\u001b[0;34m.\u001b[0m\u001b[0mread\u001b[0m\u001b[0;34m(\u001b[0m\u001b[0mlen\u001b[0m\u001b[0;34m,\u001b[0m \u001b[0mbuffer\u001b[0m\u001b[0;34m)\u001b[0m\u001b[0;34m\u001b[0m\u001b[0;34m\u001b[0m\u001b[0m\n\u001b[0m\u001b[1;32m    632\u001b[0m         \u001b[0;32melse\u001b[0m\u001b[0;34m:\u001b[0m\u001b[0;34m\u001b[0m\u001b[0;34m\u001b[0m\u001b[0m\n\u001b[1;32m    633\u001b[0m             \u001b[0mv\u001b[0m \u001b[0;34m=\u001b[0m \u001b[0mself\u001b[0m\u001b[0;34m.\u001b[0m\u001b[0m_sslobj\u001b[0m\u001b[0;34m.\u001b[0m\u001b[0mread\u001b[0m\u001b[0;34m(\u001b[0m\u001b[0mlen\u001b[0m\u001b[0;34m)\u001b[0m\u001b[0;34m\u001b[0m\u001b[0;34m\u001b[0m\u001b[0m\n",
            "\u001b[0;31mKeyboardInterrupt\u001b[0m: "
          ]
        }
      ]
    },
    {
      "cell_type": "code",
      "metadata": {
        "id": "mgsEnw7ph364"
      },
      "source": [
        "++ https://sss.krasilnikov.spb.ru/class/4/uploader/file/1553000914_527_sem8.ipynb\n",
        "++ https://sss.krasilnikov.spb.ru/class/4/uploader/file/1553001327_527_sem8.ipynb\n",
        "++ https://sss.krasilnikov.spb.ru/class/4/uploader/file/1553001333_527_sem8.ipynb\n",
        "++ https://sss.krasilnikov.spb.ru/class/4/uploader/file/1553001339_527_sem8.ipynb\n",
        "++ https://sss.krasilnikov.spb.ru/class/4/uploader/file/1553001348_527_sem8.ipynb\n",
        "++ https://sss.krasilnikov.spb.ru/class/4/uploader/file/1553001355_527_sem8.ipynb\n",
        "++ https://sss.krasilnikov.spb.ru/class/4/uploader/file/1553001362_527_sem8.ipynb\n",
        "++ https://sss.krasilnikov.spb.ru/class/4/uploader/file/1553001363_527_sem8.ipynb\n",
        "++ https://sss.krasilnikov.spb.ru/class/4/uploader/file/1553001364_527_sem8.ipynb\n",
        "++ https://sss.krasilnikov.spb.ru/class/4/uploader/file/1553001418_527_sem8.ipynb\n",
        "++ https://sss.krasilnikov.spb.ru/class/4/uploader/file/1553001777_527_sem8.ipynb\n",
        "++ https://sss.krasilnikov.spb.ru/class/4/uploader/file/1553002726_527_sem8.ipynb\n",
        "++ https://sss.krasilnikov.spb.ru/class/4/uploader/file/1553002770_527_sem8.ipynb\n",
        "++ https://sss.krasilnikov.spb.ru/class/4/uploader/file/1553002772_527_sem8.ipynb\n",
        "++ https://sss.krasilnikov.spb.ru/class/4/uploader/file/1553002776_527_sem8.ipynb\n",
        "++ https://sss.krasilnikov.spb.ru/class/4/uploader/file/1553002788_527_sem8.ipynb\n",
        "++ https://sss.krasilnikov.spb.ru/class/4/uploader/file/1553002794_527_sem8.ipynb\n",
        "++ https://sss.krasilnikov.spb.ru/class/4/uploader/file/1553003017_527_sem8.ipynb\n",
        "++ https://sss.krasilnikov.spb.ru/class/4/uploader/file/1553003022_527_sem8.ipynb\n",
        "++ https://sss.krasilnikov.spb.ru/class/4/uploader/file/1553003334_527_sem8.ipynb\n",
        "++ https://sss.krasilnikov.spb.ru/class/4/uploader/file/1553003562_527_sem8.ipynb\n",
        "++ https://sss.krasilnikov.spb.ru/class/4/uploader/file/1553003776_527_sem8.ipynb\n",
        "++ https://sss.krasilnikov.spb.ru/class/4/uploader/file/1553004337_527_sem8.ipynb\n",
        "++ https://sss.krasilnikov.spb.ru/class/4/uploader/file/1553004348_527_sem8.ipynb\n",
        "++ https://sss.krasilnikov.spb.ru/class/4/uploader/file/1553004867_527_sem8.ipynb\n",
        "++ https://sss.krasilnikov.spb.ru/class/4/uploader/file/1553005075_527_sem8.ipynb\n",
        "++ https://sss.krasilnikov.spb.ru/class/4/uploader/file/1553005283_527_sem8.ipynb\n",
        "++ https://sss.krasilnikov.spb.ru/class/4/uploader/file/1553005431_527_sem8.ipynb\n",
        "++ https://sss.krasilnikov.spb.ru/class/4/uploader/file/1553005433_527_sem8.ipynb\n",
        "++ https://sss.krasilnikov.spb.ru/class/4/uploader/file/1553005445_527_sem8.ipynb\n",
        "++ https://sss.krasilnikov.spb.ru/class/4/uploader/file/1553005503_527_sem8.ipynb\n",
        "++ https://sss.krasilnikov.spb.ru/class/4/uploader/file/1553005505_527_sem8.ipynb\n",
        "++ https://sss.krasilnikov.spb.ru/class/4/uploader/file/1553005506_527_sem8.ipynb\n",
        "++ https://sss.krasilnikov.spb.ru/class/4/uploader/file/1553005510_527_sem8.ipynb\n",
        "++ https://sss.krasilnikov.spb.ru/class/4/uploader/file/1553006192_527_sem8.ipynb\n",
        "++ https://sss.krasilnikov.spb.ru/class/4/uploader/file/1553006296_527_sem8.ipynb\n",
        "++ https://sss.krasilnikov.spb.ru/class/4/uploader/file/1553006382_527_sem8.ipynb\n",
        "++ https://sss.krasilnikov.spb.ru/class/4/uploader/file/1553006404_527_sem8.ipynb\n",
        "++ https://sss.krasilnikov.spb.ru/class/4/uploader/file/1553006575_527_sem8.ipynb\n",
        "++ https://sss.krasilnikov.spb.ru/class/4/uploader/file/1553006584_527_sem8.ipynb\n",
        "++ https://sss.krasilnikov.spb.ru/class/4/uploader/file/1553006595_527_sem8.ipynb\n",
        "++ https://sss.krasilnikov.spb.ru/class/4/uploader/file/1553006889_527_sem8.ipynb\n",
        "++ https://sss.krasilnikov.spb.ru/class/4/uploader/file/1553007383_527_sem8.ipynb\n",
        "++ https://sss.krasilnikov.spb.ru/class/4/uploader/file/1553007384_527_sem8.ipynb\n",
        "++ https://sss.krasilnikov.spb.ru/class/4/uploader/file/1553007386_527_sem8.ipynb\n",
        "++ https://sss.krasilnikov.spb.ru/class/4/uploader/file/1553007387_527_sem8.ipynb\n",
        "++ https://sss.krasilnikov.spb.ru/class/4/uploader/file/1553007388_527_sem8.ipynb\n",
        "++ https://sss.krasilnikov.spb.ru/class/4/uploader/file/1553007389_527_sem8.ipynb\n",
        "++ https://sss.krasilnikov.spb.ru/class/4/uploader/file/1553007390_527_sem8.ipynb\n",
        "++ https://sss.krasilnikov.spb.ru/class/4/uploader/file/1553007392_527_sem8.ipynb\n",
        "++ https://sss.krasilnikov.spb.ru/class/4/uploader/file/1553007394_527_sem8.ipynb\n",
        "++ https://sss.krasilnikov.spb.ru/class/4/uploader/file/1553007397_527_sem8.ipynb\n",
        "++ https://sss.krasilnikov.spb.ru/class/4/uploader/file/1553007400_527_sem8.ipynb\n",
        "++ https://sss.krasilnikov.spb.ru/class/4/uploader/file/1553007401_527_sem8.ipynb\n",
        "++ https://sss.krasilnikov.spb.ru/class/4/uploader/file/1553007435_527_sem8.ipynb\n",
        "++ https://sss.krasilnikov.spb.ru/class/4/uploader/file/1553007438_527_sem8.ipynb\n",
        "++ https://sss.krasilnikov.spb.ru/class/4/uploader/file/1553008581_527_sem8.ipynb\n",
        "++ https://sss.krasilnikov.spb.ru/class/4/uploader/file/1553008585_527_sem8.ipynb\n",
        "++ https://sss.krasilnikov.spb.ru/class/4/uploader/file/1553008588_527_sem8.ipynb\n",
        "++ https://sss.krasilnikov.spb.ru/class/4/uploader/file/1553008749_527_sem8.ipynb\n",
        "++ https://sss.krasilnikov.spb.ru/class/4/uploader/file/1553009452_527_sem8.ipynb\n",
        "++ https://sss.krasilnikov.spb.ru/class/4/uploader/file/1553009453_527_sem8.ipynb\n",
        "++ https://sss.krasilnikov.spb.ru/class/4/uploader/file/1553009454_527_sem8.ipynb\n",
        "++ https://sss.krasilnikov.spb.ru/class/4/uploader/file/1553009455_527_sem8.ipynb\n",
        "++ https://sss.krasilnikov.spb.ru/class/4/uploader/file/1553009456_527_sem8.ipynb\n",
        "++ https://sss.krasilnikov.spb.ru/class/4/uploader/file/1553009457_527_sem8.ipynb\n",
        "++ https://sss.krasilnikov.spb.ru/class/4/uploader/file/1553009458_527_sem8.ipynb\n",
        "++ https://sss.krasilnikov.spb.ru/class/4/uploader/file/1553009459_527_sem8.ipynb\n",
        "++ https://sss.krasilnikov.spb.ru/class/4/uploader/file/1553009460_527_sem8.ipynb\n",
        "++ https://sss.krasilnikov.spb.ru/class/4/uploader/file/1553009462_527_sem8.ipynb\n",
        "++ https://sss.krasilnikov.spb.ru/class/4/uploader/file/1553009463_527_sem8.ipynb\n",
        "++ https://sss.krasilnikov.spb.ru/class/4/uploader/file/1553009464_527_sem8.ipynb\n",
        "++ https://sss.krasilnikov.spb.ru/class/4/uploader/file/1553009465_527_sem8.ipynb\n",
        "++ https://sss.krasilnikov.spb.ru/class/4/uploader/file/1553009466_527_sem8.ipynb\n",
        "++ https://sss.krasilnikov.spb.ru/class/4/uploader/file/1553009467_527_sem8.ipynb\n",
        "++ https://sss.krasilnikov.spb.ru/class/4/uploader/file/1553009468_527_sem8.ipynb\n",
        "++ https://sss.krasilnikov.spb.ru/class/4/uploader/file/1553009471_527_sem8.ipynb\n",
        "++ https://sss.krasilnikov.spb.ru/class/4/uploader/file/1553009497_527_sem8.ipynb\n",
        "++ https://sss.krasilnikov.spb.ru/class/4/uploader/file/1553009552_527_sem8.ipynb"
      ],
      "execution_count": null,
      "outputs": []
    }
  ]
}