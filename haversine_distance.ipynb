{
  "nbformat": 4,
  "nbformat_minor": 0,
  "metadata": {
    "colab": {
      "name": "haversine_distance.ipynb",
      "provenance": [],
      "collapsed_sections": []
    },
    "kernelspec": {
      "display_name": "Python 3",
      "language": "python",
      "name": "python3"
    }
  },
  "cells": [
    {
      "cell_type": "markdown",
      "metadata": {
        "id": "5Riqi-QiYf-3"
      },
      "source": [
        "Домашнее задание №3\n",
        "==\n",
        "\n",
        "**НЕ изменяйте и не удаляйте ячейки, написанные с помощью markdown, только ячейки с кодом**\n",
        "\n",
        "Справочные материалы по JSON и работе со списками и словарями:\n",
        "* [Конспект лекций](https://sss.krasilnikov.spb.ru/class/4/uploader/file/1546944257_SSS_book.pdf), глава 5\n",
        "* [Automate The Boring Stuff](https://automatetheboringstuff.com/), главы 4-5\n",
        "* [DataCamp Tutorial](https://www.datacamp.com/community/tutorials/python-dictionary-tutorial) по приемам работы с dict\n",
        "\n",
        "Вам необходимо будет загрузить для проверки в различные поля два файла:\n",
        "1. этот ipynb файл\n",
        "2. output.xls, полученный в последнем задании. Если какие-то столбцы не будут корректно посчитаны, экспортируйте файл, оставив в качестве значений 0 для всех наблюдений"
      ]
    },
    {
      "cell_type": "markdown",
      "metadata": {
        "id": "Ie3s67ZeYf-4"
      },
      "source": [
        "* в переменной category1 у вас находится название набора данных\n",
        "* при помощи запроса к [API портала открытых данных Москвы](https://apidata.mos.ru/Docs)  получите идентификатор набора данных category1 и сохраните его в переменной  id1\n",
        "\n",
        "(**2 балла**)"
      ]
    },
    {
      "cell_type": "code",
      "metadata": {
        "id": "fNDGsQ2UYf-5",
        "colab": {
          "base_uri": "https://localhost:8080/",
          "height": 34
        },
        "outputId": "c553c8d6-1c8b-4b36-eb4a-7afffe8918a6"
      },
      "source": [
        "import json, numpy as np, pandas as pd, requests, urllib.parse as up\n",
        "\n",
        "def api(caption=None, columns=None, dataset=None, params={'api_key': '0784bbb0a1fd86ac0a12753b881a2e86'}):\n",
        "    if caption: params['$filter'] = f\"Caption eq '{caption}'\" \n",
        "    url_parts = ['https', 'apidata.mos.ru', 'v1/datasets', '', up.urlencode(params), ''] \n",
        "    if dataset: url_parts[2] += f'/{dataset}/rows' \n",
        "    response = requests.post(up.urlunparse(url_parts), json=columns) \n",
        "    return pd.io.json.json_normalize(json.loads(response.text)) \n",
        "\n",
        "category1 = \"Кинотеатры\"\n",
        "id1 = api(category1, ['Id'])['Id'][0]\n",
        "id1"
      ],
      "execution_count": null,
      "outputs": [
        {
          "output_type": "execute_result",
          "data": {
            "text/plain": [
              "495"
            ]
          },
          "metadata": {
            "tags": []
          },
          "execution_count": 1
        }
      ]
    },
    {
      "cell_type": "markdown",
      "metadata": {
        "id": "FBVYh-EIYf-8"
      },
      "source": [
        "* создайте датафрейм data_1\n",
        "* загрузите значения следующих переменных по всем наблюдениям из набора данных из предыдущего задания, столбцы переименуйте в соответствии с указаными названиями:\n",
        " * global_id\n",
        " * seats (из Общее количество мест)\n",
        " * parent (из Вышестоящая организация)\n",
        "* загрузите также координаты:\n",
        " * lat (широта)\n",
        " * lon (долгота)\n",
        " \n",
        "(**3 балла**)\n",
        "\n",
        "*Примечание: Если элемент \"Общее количество мест\" или \"Вышестоящая организация\" является списком, то в соответствующем столбце отображайте 0вой элемент.  \n",
        "Если значение отсутствует - пустую строку*"
      ]
    },
    {
      "cell_type": "code",
      "metadata": {
        "id": "b2hmGlNTYf-9",
        "colab": {
          "base_uri": "https://localhost:8080/",
          "height": 204
        },
        "outputId": "ff0bf2d0-d99d-4ec3-b232-40e483b1b1b5"
      },
      "source": [
        "def process(df, columns, geodata='Cells.geoData.coordinates', phone=False):\n",
        "    df = df.join(df[geodata].apply(lambda x: pd.Series(x[0], index=['lon', 'lat'])))\n",
        "    df.rename(columns={f'Cells.{k}': v for k, v in columns.items()}, inplace=True)\n",
        "    if phone: df['phone'] = df['phone'].apply(lambda x: x[0][phone][0][phone])\n",
        "    return df[[c for c in columns.values() if c in df] + ['global_id', 'lon', 'lat']]\n",
        "    \n",
        "columns = {'TotalSeatsAmount': 'seats', 'ChiefOrg': 'parent', 'geoData': 'geoData'}\n",
        "data_1 = api(columns=list(columns.keys()), dataset=id1)\n",
        "data_1 = process(data_1, columns)\n",
        "data_1.head()"
      ],
      "execution_count": null,
      "outputs": [
        {
          "output_type": "execute_result",
          "data": {
            "text/html": [
              "<div>\n",
              "<style scoped>\n",
              "    .dataframe tbody tr th:only-of-type {\n",
              "        vertical-align: middle;\n",
              "    }\n",
              "\n",
              "    .dataframe tbody tr th {\n",
              "        vertical-align: top;\n",
              "    }\n",
              "\n",
              "    .dataframe thead th {\n",
              "        text-align: right;\n",
              "    }\n",
              "</style>\n",
              "<table border=\"1\" class=\"dataframe\">\n",
              "  <thead>\n",
              "    <tr style=\"text-align: right;\">\n",
              "      <th></th>\n",
              "      <th>seats</th>\n",
              "      <th>parent</th>\n",
              "      <th>global_id</th>\n",
              "      <th>lon</th>\n",
              "      <th>lat</th>\n",
              "    </tr>\n",
              "  </thead>\n",
              "  <tbody>\n",
              "    <tr>\n",
              "      <th>0</th>\n",
              "      <td>167</td>\n",
              "      <td>Государственное бюджетное учреждение культуры ...</td>\n",
              "      <td>477012208</td>\n",
              "      <td>37.571299</td>\n",
              "      <td>55.682807</td>\n",
              "    </tr>\n",
              "    <tr>\n",
              "      <th>1</th>\n",
              "      <td>633</td>\n",
              "      <td>Государственное бюджетное учреждение культуры ...</td>\n",
              "      <td>477012215</td>\n",
              "      <td>37.718515</td>\n",
              "      <td>55.685873</td>\n",
              "    </tr>\n",
              "    <tr>\n",
              "      <th>2</th>\n",
              "      <td>367</td>\n",
              "      <td>Государственное бюджетное учреждение культуры ...</td>\n",
              "      <td>477012217</td>\n",
              "      <td>37.802542</td>\n",
              "      <td>55.749856</td>\n",
              "    </tr>\n",
              "    <tr>\n",
              "      <th>3</th>\n",
              "      <td>120</td>\n",
              "      <td>Государственное бюджетное учреждение культуры ...</td>\n",
              "      <td>477012363</td>\n",
              "      <td>37.442906</td>\n",
              "      <td>55.846062</td>\n",
              "    </tr>\n",
              "    <tr>\n",
              "      <th>4</th>\n",
              "      <td>141</td>\n",
              "      <td>Государственное бюджетное учреждение культуры ...</td>\n",
              "      <td>477012415</td>\n",
              "      <td>37.676551</td>\n",
              "      <td>55.861865</td>\n",
              "    </tr>\n",
              "  </tbody>\n",
              "</table>\n",
              "</div>"
            ],
            "text/plain": [
              "   seats                                             parent  global_id  \\\n",
              "0    167  Государственное бюджетное учреждение культуры ...  477012208   \n",
              "1    633  Государственное бюджетное учреждение культуры ...  477012215   \n",
              "2    367  Государственное бюджетное учреждение культуры ...  477012217   \n",
              "3    120  Государственное бюджетное учреждение культуры ...  477012363   \n",
              "4    141  Государственное бюджетное учреждение культуры ...  477012415   \n",
              "\n",
              "         lon        lat  \n",
              "0  37.571299  55.682807  \n",
              "1  37.718515  55.685873  \n",
              "2  37.802542  55.749856  \n",
              "3  37.442906  55.846062  \n",
              "4  37.676551  55.861865  "
            ]
          },
          "metadata": {
            "tags": []
          },
          "execution_count": 2
        }
      ]
    },
    {
      "cell_type": "markdown",
      "metadata": {
        "id": "FIvnnuLyYf_B"
      },
      "source": [
        "_Аналогично заданию 1_\n",
        "* в переменной category2 у вас находится название набора данных\n",
        "* найдите идентификатор набора данных и сохраните его в переменной id2\n",
        "\n",
        "(**1 балла**)"
      ]
    },
    {
      "cell_type": "code",
      "metadata": {
        "id": "sp6NfHj6Yf_B",
        "colab": {
          "base_uri": "https://localhost:8080/",
          "height": 34
        },
        "outputId": "4c6351bf-22da-49ab-9da9-45250c01feab"
      },
      "source": [
        "category2 = \"Отделы трудоустройства\"\n",
        "id2 = api(category2, ['Id'])['Id'][0]\n",
        "id2"
      ],
      "execution_count": null,
      "outputs": [
        {
          "output_type": "execute_result",
          "data": {
            "text/plain": [
              "608"
            ]
          },
          "metadata": {
            "tags": []
          },
          "execution_count": 3
        }
      ]
    },
    {
      "cell_type": "markdown",
      "metadata": {
        "id": "O4ZYeh6fYf_D"
      },
      "source": [
        "_Аналогично заданию 2_\n",
        "* создайте датафрейм data_2\n",
        "* загрузите значения следующих переменных по всем наблюдениям из набора данных из предыдущего задания, столбцы переименуйте в соответствии с указаными названиями:\n",
        " * global_id\n",
        " * phone (из Телефон руководителя)\n",
        " * fio (из ФИО руководителя)\n",
        "* загрузите также координаты:\n",
        " * lat (широта)\n",
        " * lon (долгота)\n",
        " \n",
        "(**1 балл**)\n",
        "\n",
        "*Примечание: Если элемент \"Телефон руководителя\" или \"ФИО руководителя\" является списком, то в соответствующем столбце отображайте 0вой элемент.  \n",
        "Если значение отсутствует - пустую строку*"
      ]
    },
    {
      "cell_type": "code",
      "metadata": {
        "id": "AM4W81hjSB3H",
        "colab": {
          "base_uri": "https://localhost:8080/",
          "height": 204
        },
        "outputId": "1e1cedb5-5b25-4a9a-ce74-31bb7cc52a22"
      },
      "source": [
        "columns = {'OrgInfo': 'phone', 'ChiefName': 'fio', 'geoData': 'geoData'}\n",
        "data_2 = api(columns=list(columns.keys()), dataset=id2)\n",
        "data_2 = process(data_2, columns, phone='ChiefPhone')\n",
        "data_2.head()"
      ],
      "execution_count": null,
      "outputs": [
        {
          "output_type": "execute_result",
          "data": {
            "text/html": [
              "<div>\n",
              "<style scoped>\n",
              "    .dataframe tbody tr th:only-of-type {\n",
              "        vertical-align: middle;\n",
              "    }\n",
              "\n",
              "    .dataframe tbody tr th {\n",
              "        vertical-align: top;\n",
              "    }\n",
              "\n",
              "    .dataframe thead th {\n",
              "        text-align: right;\n",
              "    }\n",
              "</style>\n",
              "<table border=\"1\" class=\"dataframe\">\n",
              "  <thead>\n",
              "    <tr style=\"text-align: right;\">\n",
              "      <th></th>\n",
              "      <th>phone</th>\n",
              "      <th>fio</th>\n",
              "      <th>global_id</th>\n",
              "      <th>lon</th>\n",
              "      <th>lat</th>\n",
              "    </tr>\n",
              "  </thead>\n",
              "  <tbody>\n",
              "    <tr>\n",
              "      <th>0</th>\n",
              "      <td>(495) 675-82-28</td>\n",
              "      <td>Архипова Алла Гордеевна</td>\n",
              "      <td>641991307</td>\n",
              "      <td>37.540829</td>\n",
              "      <td>55.688949</td>\n",
              "    </tr>\n",
              "    <tr>\n",
              "      <th>1</th>\n",
              "      <td>(495) 675-82-28</td>\n",
              "      <td>Яворская Наталья Эдуардовна</td>\n",
              "      <td>641991311</td>\n",
              "      <td>37.656867</td>\n",
              "      <td>55.574731</td>\n",
              "    </tr>\n",
              "    <tr>\n",
              "      <th>2</th>\n",
              "      <td>(495) 675-82-28</td>\n",
              "      <td>Киняпина Анна Николаевна</td>\n",
              "      <td>641991328</td>\n",
              "      <td>37.665860</td>\n",
              "      <td>55.863685</td>\n",
              "    </tr>\n",
              "    <tr>\n",
              "      <th>3</th>\n",
              "      <td>(495) 675-82-28</td>\n",
              "      <td>Козлова Марина Николаевна</td>\n",
              "      <td>641991338</td>\n",
              "      <td>37.631856</td>\n",
              "      <td>55.804631</td>\n",
              "    </tr>\n",
              "    <tr>\n",
              "      <th>4</th>\n",
              "      <td>(495) 675-82-28</td>\n",
              "      <td>Уткина Лариса Алексеевна</td>\n",
              "      <td>641991342</td>\n",
              "      <td>37.655985</td>\n",
              "      <td>55.678208</td>\n",
              "    </tr>\n",
              "  </tbody>\n",
              "</table>\n",
              "</div>"
            ],
            "text/plain": [
              "             phone                          fio  global_id        lon  \\\n",
              "0  (495) 675-82-28      Архипова Алла Гордеевна  641991307  37.540829   \n",
              "1  (495) 675-82-28  Яворская Наталья Эдуардовна  641991311  37.656867   \n",
              "2  (495) 675-82-28     Киняпина Анна Николаевна  641991328  37.665860   \n",
              "3  (495) 675-82-28    Козлова Марина Николаевна  641991338  37.631856   \n",
              "4  (495) 675-82-28     Уткина Лариса Алексеевна  641991342  37.655985   \n",
              "\n",
              "         lat  \n",
              "0  55.688949  \n",
              "1  55.574731  \n",
              "2  55.863685  \n",
              "3  55.804631  \n",
              "4  55.678208  "
            ]
          },
          "metadata": {
            "tags": []
          },
          "execution_count": 4
        }
      ]
    },
    {
      "cell_type": "markdown",
      "metadata": {
        "id": "Yiu9_shsYf_H"
      },
      "source": [
        "* создайте датафрейм closest c указанными столбцами и заполните значениями\n",
        " * global_id1 - все идентификаторы из датафрейма data_1\n",
        " * global_id2 укажите идентификатор того объекта, который окажется ближе по прямой к объекту global_id1 из датафрейма data_1\n",
        " * dist - расстояние в метрах, рассчитанное по формуле\n",
        "\n",
        "(**3 балла**)\n",
        "\n",
        "_Справочно: Формула для расчета расстояния по координатам:  \n",
        "S = 111,2×arccos(sin φ1 × sin φ2 + cos φ1 × cos φ2 × cos (L2-L1)),  \n",
        "где S - расстояние, км;  \n",
        "φ1 и L1 - широта и долгота точки 1 (для северной широты и восточной долготы со знаком плюс, для южной широты и западной долготы со знаком минус), градусы;  \n",
        "φ2 и L2 - широта и долгота точки 2, градусы;  \n",
        "константа 111,2 - средняя длина дуги в один градус на поверхности Земли, км._\n",
        "\n",
        "_Справочно 2:\n",
        "Для выполнения задания потребуется вычисление синуса, косинуса и арккосинуса. Краткий справочник доступен [здесь](https://pythonworld.ru/moduli/modul-math.html)_"
      ]
    },
    {
      "cell_type": "markdown",
      "metadata": {
        "id": "Yni1KfvTi5_4"
      },
      "source": [
        "![alt text](https://wikimedia.org/api/rest_v1/media/math/render/svg/d9bdd722860b46cf459e01fe0108fa1f45f13fd6)"
      ]
    },
    {
      "cell_type": "code",
      "metadata": {
        "id": "ymyk0oz0Yf_I",
        "colab": {
          "base_uri": "https://localhost:8080/",
          "height": 204
        },
        "outputId": "6e2e1be1-c907-4258-da15-b6719aad1541"
      },
      "source": [
        "def haversine(a, b, D=12745.6):\n",
        "    return D * np.arcsin(np.sqrt(np.dot([1, np.prod(np.cos(np.radians([a[0], b[0]])))], np.sin(np.radians(b - a) / 2) ** 2)))\n",
        "\n",
        "def find_closest(a, df=data_2):\n",
        "    df['dist'] = df[['lat', 'lon']].apply(lambda b: haversine(a, b), axis=1) * 1000\n",
        "    return df[['global_id', 'dist']].sort_values('dist').iloc[0].astype(np.int)\n",
        "\n",
        "closest = data_1[['global_id']].join(data_1[['lat', 'lon']].apply(find_closest, axis=1), lsuffix='1', rsuffix='2')\n",
        "closest.head()"
      ],
      "execution_count": null,
      "outputs": [
        {
          "output_type": "execute_result",
          "data": {
            "text/html": [
              "<div>\n",
              "<style scoped>\n",
              "    .dataframe tbody tr th:only-of-type {\n",
              "        vertical-align: middle;\n",
              "    }\n",
              "\n",
              "    .dataframe tbody tr th {\n",
              "        vertical-align: top;\n",
              "    }\n",
              "\n",
              "    .dataframe thead th {\n",
              "        text-align: right;\n",
              "    }\n",
              "</style>\n",
              "<table border=\"1\" class=\"dataframe\">\n",
              "  <thead>\n",
              "    <tr style=\"text-align: right;\">\n",
              "      <th></th>\n",
              "      <th>global_id1</th>\n",
              "      <th>global_id2</th>\n",
              "      <th>dist</th>\n",
              "    </tr>\n",
              "  </thead>\n",
              "  <tbody>\n",
              "    <tr>\n",
              "      <th>0</th>\n",
              "      <td>477012208</td>\n",
              "      <td>641991785</td>\n",
              "      <td>576</td>\n",
              "    </tr>\n",
              "    <tr>\n",
              "      <th>1</th>\n",
              "      <td>477012215</td>\n",
              "      <td>641991386</td>\n",
              "      <td>1229</td>\n",
              "    </tr>\n",
              "    <tr>\n",
              "      <th>2</th>\n",
              "      <td>477012217</td>\n",
              "      <td>641991691</td>\n",
              "      <td>1645</td>\n",
              "    </tr>\n",
              "    <tr>\n",
              "      <th>3</th>\n",
              "      <td>477012363</td>\n",
              "      <td>641991466</td>\n",
              "      <td>2014</td>\n",
              "    </tr>\n",
              "    <tr>\n",
              "      <th>4</th>\n",
              "      <td>477012415</td>\n",
              "      <td>641991328</td>\n",
              "      <td>697</td>\n",
              "    </tr>\n",
              "  </tbody>\n",
              "</table>\n",
              "</div>"
            ],
            "text/plain": [
              "   global_id1  global_id2  dist\n",
              "0   477012208   641991785   576\n",
              "1   477012215   641991386  1229\n",
              "2   477012217   641991691  1645\n",
              "3   477012363   641991466  2014\n",
              "4   477012415   641991328   697"
            ]
          },
          "metadata": {
            "tags": []
          },
          "execution_count": 7
        }
      ]
    },
    {
      "cell_type": "markdown",
      "metadata": {
        "id": "oo8rW3u1Yf_K"
      },
      "source": [
        "* Экспортируйте данные из датафрейма closest в Excel файл output.xls\n",
        "\n",
        "(**1 балл**)"
      ]
    },
    {
      "cell_type": "code",
      "metadata": {
        "id": "2a-0YROnYf_L"
      },
      "source": [
        "def download_xls(data, file_name='output.xls'):\n",
        "    data.to_excel(file_name)\n",
        "    try:\n",
        "        from google.colab import files\n",
        "        files.download(file_name)\n",
        "    except Exception as error:\n",
        "        print(error)\n",
        "\n",
        "download_xls(closest)"
      ],
      "execution_count": null,
      "outputs": []
    }
  ]
}