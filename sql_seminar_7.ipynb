{
  "nbformat": 4,
  "nbformat_minor": 0,
  "metadata": {
    "colab": {
      "name": "sql_seminar_7.ipynb",
      "provenance": []
    },
    "kernelspec": {
      "display_name": "Python 3",
      "language": "python",
      "name": "python3"
    }
  },
  "cells": [
    {
      "cell_type": "markdown",
      "metadata": {
        "id": "9LeM-5JLfDWt"
      },
      "source": [
        "### Задание на Семинар 5\n",
        "\n",
        "**НЕ изменяйте и не удаляйте ячейки, написанные с помощью markdown, только ячейки с кодом**\n"
      ]
    },
    {
      "cell_type": "code",
      "metadata": {
        "id": "DGYJNZCEfLu1"
      },
      "source": [
        "! pip install mysql-connector -q\n",
        "! pip install pymysql -q"
      ],
      "execution_count": null,
      "outputs": []
    },
    {
      "cell_type": "markdown",
      "metadata": {
        "id": "c2BKbtpFfDWu"
      },
      "source": [
        "* Импортируйте библиотеки для работы с mysql\n",
        "* Подключитесь к удаленному серверу используя для доступа учетные данные с [этой страницы](https://sss.krasilnikov.spb.ru/classsql). Объект для подключения поместите в переменную db_connection\n",
        "\n",
        "(**1 балл**)"
      ]
    },
    {
      "cell_type": "code",
      "metadata": {
        "id": "jQd6fX2xfDWv",
        "colab": {
          "base_uri": "https://localhost:8080/",
          "height": 68
        },
        "outputId": "b83b0884-ef3c-4b8d-c977-ded212c78c99"
      },
      "source": [
        "import json\n",
        "import mysql.connector as sql\n",
        "import pandas as pd\n",
        "import requests\n",
        "import sqlalchemy\n",
        "from termcolor import colored\n",
        "from time import time\n",
        "\n",
        "mysql_config = {\n",
        "    'host': 'krasilnikov.spb.ru',\n",
        "    'port': 3360,\n",
        "    'user': '4049f890b5f59ee17a2554a1e271cc46',\n",
        "    'password': '4049f890b5f59ee17a2554a1e271cc46',\n",
        "    'database': '4049f890b5f59ee17a2554a1e271cc46_s1'\n",
        "}\n",
        "\n",
        "def timeit(func):\n",
        "    def wrapper(*args, **kwargs):\n",
        "        start_time = time()\n",
        "        result = func(*args, **kwargs)\n",
        "        print(colored('Execution time: %ds' % round(time() - start_time), 'green'))\n",
        "        return result\n",
        "    return wrapper\n",
        "\n",
        "def with_connection(func):\n",
        "    def wrapper(*args, **kwargs):\n",
        "        connection = sql.connect(**mysql_config)\n",
        "        try:\n",
        "            result = func(connection, *args, **kwargs)\n",
        "        except Exception as error:\n",
        "            print(error)\n",
        "        finally:\n",
        "            connection.close()\n",
        "        return result\n",
        "    return wrapper\n",
        "\n",
        "@timeit\n",
        "@with_connection\n",
        "def execute(connection, query):\n",
        "    cursor = connection.cursor(buffered=True)\n",
        "    results = None\n",
        "    print(colored(query, 'blue'))\n",
        "    try:\n",
        "        cursor.execute(query)\n",
        "        connection.commit()\n",
        "        if cursor.rowcount:\n",
        "            results = cursor.fetchall()\n",
        "    except Exception as error:\n",
        "            print(error)\n",
        "    finally: \n",
        "        cursor.close()\n",
        "    return results\n",
        "\n",
        "execute('SELECT 1')"
      ],
      "execution_count": null,
      "outputs": [
        {
          "output_type": "stream",
          "text": [
            "\u001b[34mSELECT 1\u001b[0m\n",
            "\u001b[32mExecution time: 2s\u001b[0m\n"
          ],
          "name": "stdout"
        },
        {
          "output_type": "execute_result",
          "data": {
            "text/plain": [
              "[(1,)]"
            ]
          },
          "metadata": {
            "tags": []
          },
          "execution_count": 2
        }
      ]
    },
    {
      "cell_type": "markdown",
      "metadata": {
        "id": "lSNSRz9wfDWx"
      },
      "source": [
        "* Выполните загрузку данных из [файла](https://sss.krasilnikov.spb.ru/images/files/class_uploader/4/s1.json) в объект json\n",
        "\n",
        "(**1 балл**)"
      ]
    },
    {
      "cell_type": "code",
      "metadata": {
        "id": "15LGuH03fDWx",
        "colab": {
          "base_uri": "https://localhost:8080/",
          "height": 34
        },
        "outputId": "4c256a94-e16c-4b6f-8e00-c545fb958720"
      },
      "source": [
        "url = 'https://sss.krasilnikov.spb.ru/images/files/class_uploader/4/s1.json'\n",
        "json = json.loads(requests.get(url).text)\n",
        "print(len(json['DoctorAUS']))"
      ],
      "execution_count": null,
      "outputs": [
        {
          "output_type": "stream",
          "text": [
            "5191\n"
          ],
          "name": "stdout"
        }
      ]
    },
    {
      "cell_type": "markdown",
      "metadata": {
        "id": "955DlesKfDWz"
      },
      "source": [
        "* Создайте на SQL сервере таблицу DoctorAUS c полями, соответствующими данным в объекте. Выбор типа столбов осуществите самостоятельно основываясь на данных (используйте типы только из тех, что были рассмотрены на лекции). Название столбцов возьмите из json объекта.\n",
        "\n",
        "(**3 балла**)"
      ]
    },
    {
      "cell_type": "code",
      "metadata": {
        "id": "kVBY5-_4fDW0",
        "colab": {
          "base_uri": "https://localhost:8080/",
          "height": 238
        },
        "outputId": "495c28e7-5db6-41bf-e2d1-db3f0a904cd1"
      },
      "source": [
        "def check_table_exists(table_name):\n",
        "    tables_exist = execute('SHOW TABLES;')\n",
        "    return tables_exist and (table_name, ) in tables_exist\n",
        "        \n",
        "def create_table(table_name, schema):\n",
        "    def column_statement(column): \n",
        "        types = {int: 'INT', float: 'FLOAT', str: 'VARCHAR(255)'}\n",
        "        return f'  {column} {types[schema[column]]}'\n",
        "    \n",
        "    if check_table_exists(table_name): \n",
        "        execute(f'DROP TABLE {table_name};')\n",
        "    columns = ',\\n'.join(column_statement(col) for col in schema.keys())\n",
        "    create_statement = f'CREATE TABLE {table_name} (\\n{columns}\\n);'\n",
        "    execute(create_statement)\n",
        "\n",
        "doctor_aus = 'DoctorAUS'\n",
        "schema = {\n",
        "    'actdays': int,\n",
        "    'age': float,\n",
        "    'id': int,\n",
        "    'illness': int,\n",
        "    'insurance': str,\n",
        "    'sex': int\n",
        "}\n",
        "\n",
        "create_table(doctor_aus, schema)"
      ],
      "execution_count": null,
      "outputs": [
        {
          "output_type": "stream",
          "text": [
            "\u001b[34mSHOW TABLES;\u001b[0m\n",
            "\u001b[32mExecution time: 2s\u001b[0m\n",
            "\u001b[34mDROP TABLE DoctorAUS;\u001b[0m\n",
            "\u001b[32mExecution time: 2s\u001b[0m\n",
            "\u001b[34mCREATE TABLE DoctorAUS (\n",
            "  actdays INT,\n",
            "  age FLOAT,\n",
            "  id INT,\n",
            "  illness INT,\n",
            "  insurance VARCHAR(255),\n",
            "  sex INT\n",
            ");\u001b[0m\n",
            "\u001b[32mExecution time: 2s\u001b[0m\n"
          ],
          "name": "stdout"
        }
      ]
    },
    {
      "cell_type": "markdown",
      "metadata": {
        "id": "qZHVQ6a0fDW2"
      },
      "source": [
        "* Заполните данными таблицу DoctorAUS на SQL сервере \n",
        "\n",
        "(**2 балла**)"
      ]
    },
    {
      "cell_type": "code",
      "metadata": {
        "id": "0X9BPZ1EfDW2",
        "colab": {
          "base_uri": "https://localhost:8080/",
          "height": 153
        },
        "outputId": "bafde545-c6b0-4962-9b98-b8913e9447e2"
      },
      "source": [
        "@timeit\n",
        "def to_sql(df, table_name, mysql_config):\n",
        "    sqlalchemy_config = {**{'drivername': 'mysql+pymysql'}, **mysql_config}\n",
        "    sqlalchemy_config['username'] = sqlalchemy_config.pop('user')\n",
        "    try:\n",
        "        engine = sqlalchemy.create_engine(sqlalchemy.engine.url.URL(**sqlalchemy_config))\n",
        "        connection = engine.connect()\n",
        "        if check_table_exists(table_name): \n",
        "            execute(f'TRUNCATE TABLE {table_name};')\n",
        "        df.to_sql(table_name, connection, index=False, if_exists='append')\n",
        "    except Exception as error:\n",
        "        print(error)\n",
        "    finally:\n",
        "        connection.close()\n",
        "\n",
        "df = pd.DataFrame.from_dict(json[doctor_aus]).dropna()\n",
        "to_sql(df, doctor_aus, mysql_config)\n",
        "execute(f'SELECT count(*) from {doctor_aus}')"
      ],
      "execution_count": null,
      "outputs": [
        {
          "output_type": "stream",
          "text": [
            "\u001b[34mSHOW TABLES;\u001b[0m\n",
            "\u001b[32mExecution time: 2s\u001b[0m\n",
            "\u001b[34mTRUNCATE TABLE DoctorAUS;\u001b[0m\n",
            "\u001b[32mExecution time: 2s\u001b[0m\n",
            "\u001b[32mExecution time: 10s\u001b[0m\n",
            "\u001b[34mSELECT count(*) from DoctorAUS\u001b[0m\n",
            "\u001b[32mExecution time: 2s\u001b[0m\n"
          ],
          "name": "stdout"
        },
        {
          "output_type": "execute_result",
          "data": {
            "text/plain": [
              "[(5190,)]"
            ]
          },
          "metadata": {
            "tags": []
          },
          "execution_count": 5
        }
      ]
    },
    {
      "cell_type": "markdown",
      "metadata": {
        "id": "JcQaWAaYfDW4"
      },
      "source": [
        " * Создайте таблицу DoctorContacts аналогично предыдущим двум заданиям.\n",
        "  * дополнительно самым первым создайте поле id c возрастающим ключом auto_increment;\n",
        "  * пропустите колонку с пустым названием.\n",
        " * Заполните данными таблицу DoctorContacts.\n",
        " \n",
        "(**2 балла**)"
      ]
    },
    {
      "cell_type": "code",
      "metadata": {
        "id": "a00RBsTNfDW5",
        "colab": {
          "base_uri": "https://localhost:8080/",
          "height": 374
        },
        "outputId": "52f2e00c-f52d-400b-eee5-2062a484a01c"
      },
      "source": [
        "doctor_contacts = 'DoctorContacts'\n",
        "schema = {\n",
        "    'mdu': int,\n",
        "    'lc': int,\n",
        "    'lpi': float,\n",
        "    'fmde': int,\n",
        "    'physlim': int,\n",
        "}\n",
        "\n",
        "create_table(doctor_contacts, schema)\n",
        "print(len(json[doctor_contacts]))\n",
        "df = pd.DataFrame.from_dict(json[doctor_contacts], orient='index').dropna().drop('', axis=1)\n",
        "df['physlim'] = df['physlim'].astype(bool).astype(int)\n",
        "to_sql(df, doctor_contacts, mysql_config)\n",
        "execute(f'SELECT count(*) from {doctor_contacts}')"
      ],
      "execution_count": null,
      "outputs": [
        {
          "output_type": "stream",
          "text": [
            "\u001b[34mSHOW TABLES;\u001b[0m\n",
            "\u001b[32mExecution time: 2s\u001b[0m\n",
            "\u001b[34mDROP TABLE DoctorContacts;\u001b[0m\n",
            "\u001b[32mExecution time: 2s\u001b[0m\n",
            "\u001b[34mCREATE TABLE DoctorContacts (\n",
            "  mdu INT,\n",
            "  lc INT,\n",
            "  lpi FLOAT,\n",
            "  fmde INT,\n",
            "  physlim INT\n",
            ");\u001b[0m\n",
            "\u001b[32mExecution time: 2s\u001b[0m\n",
            "20187\n",
            "\u001b[34mSHOW TABLES;\u001b[0m\n",
            "\u001b[32mExecution time: 2s\u001b[0m\n",
            "\u001b[34mTRUNCATE TABLE DoctorContacts;\u001b[0m\n",
            "\u001b[32mExecution time: 2s\u001b[0m\n",
            "\u001b[32mExecution time: 11s\u001b[0m\n",
            "\u001b[34mSELECT count(*) from DoctorContacts\u001b[0m\n",
            "\u001b[32mExecution time: 2s\u001b[0m\n"
          ],
          "name": "stdout"
        },
        {
          "output_type": "execute_result",
          "data": {
            "text/plain": [
              "[(20186,)]"
            ]
          },
          "metadata": {
            "tags": []
          },
          "execution_count": 6
        }
      ]
    },
    {
      "cell_type": "markdown",
      "metadata": {
        "id": "txSwW2ftfDW7"
      },
      "source": [
        "* Выгрузите в датафрейм data данные \n",
        " * по столбцам illness и actdays\n",
        " * из таблицы DoctorAUS\n",
        " * с переменной age от 0.19 до 0.28\n",
        " * с переменной insurance = levyplus\n",
        "\n",
        "* По окончании загрузки отсортируйте датафрейм сначала по столбцу actdays, затем по illness, по убыванию. \n",
        "\n",
        "(**3 балла**)"
      ]
    },
    {
      "cell_type": "code",
      "metadata": {
        "id": "664NS8AefDW7"
      },
      "source": [
        "datas = execute(\"\"\"\n",
        "SELECT \n",
        "  actdays,\n",
        "  illness\n",
        "FROM DoctorAUS\n",
        "WHERE \n",
        "  age BETWEEN 0.19 AND 0.28\n",
        "  AND insurance = 'levyplus'\n",
        "\"\"\")\n",
        "columns = ['actdays', 'illness']\n",
        "data = pd.DataFrame(datas, columns=columns).sort_values(columns, ascending=[True, False])\n",
        "data.head()"
      ],
      "execution_count": null,
      "outputs": []
    }
  ]
}